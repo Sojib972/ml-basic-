{
 "cells": [
  {
   "cell_type": "markdown",
   "id": "4c4f564c-1cce-4b1f-84b8-6b3823357863",
   "metadata": {},
   "source": [
    "# lambda function \n",
    "A lambda function is an anonymous function (i.e., defined without a name) that can take any number of arguments but, unlike normal functions, evaluates and returns only one expression.\n",
    "\n",
    "Lambda functions can help improve the code's readability, making it easier to identify the steps being performed in operation"
   ]
  },
  {
   "cell_type": "code",
   "execution_count": 1,
   "id": "db23054c-b53c-426d-99b9-168ba0a041ed",
   "metadata": {},
   "outputs": [
    {
     "data": {
      "text/plain": [
       "5"
      ]
     },
     "execution_count": 1,
     "metadata": {},
     "output_type": "execute_result"
    }
   ],
   "source": [
    "add = lambda x,y : x+y \n",
    "add(2,3)"
   ]
  },
  {
   "cell_type": "code",
   "execution_count": 5,
   "id": "7b782de5-455c-490c-bd31-c72279a523eb",
   "metadata": {},
   "outputs": [
    {
     "data": {
      "text/plain": [
       "True"
      ]
     },
     "execution_count": 5,
     "metadata": {},
     "output_type": "execute_result"
    }
   ],
   "source": [
    "is_even = lambda x: x % 2 == 0\n",
    "is_even(4)"
   ]
  },
  {
   "cell_type": "code",
   "execution_count": 6,
   "id": "f827d0fe-4f6f-42dc-bb6f-89ebc01f2ade",
   "metadata": {},
   "outputs": [
    {
     "data": {
      "text/plain": [
       "False"
      ]
     },
     "execution_count": 6,
     "metadata": {},
     "output_type": "execute_result"
    }
   ],
   "source": [
    "is_even(5)"
   ]
  },
  {
   "cell_type": "code",
   "execution_count": 7,
   "id": "639c8cc0-5b2e-4dd1-880b-25432e7c6c3d",
   "metadata": {},
   "outputs": [
    {
     "data": {
      "text/plain": [
       "True"
      ]
     },
     "execution_count": 7,
     "metadata": {},
     "output_type": "execute_result"
    }
   ],
   "source": [
    "is_even(2)"
   ]
  },
  {
   "cell_type": "code",
   "execution_count": 16,
   "id": "bf80cd8d-b4ac-4426-af84-0d343d4ad71e",
   "metadata": {},
   "outputs": [
    {
     "name": "stdout",
     "output_type": "stream",
     "text": [
      "[False, True, False, True]\n"
     ]
    }
   ],
   "source": [
    "numbers = [1, 2, 3, 4]\n",
    "\n",
    "squ = list(map(lambda x: x % 2 == 0, numbers))\n",
    "\n",
    "print(squ)"
   ]
  },
  {
   "cell_type": "code",
   "execution_count": 17,
   "id": "6a5fdb16-0969-4360-bc4a-ce283032252c",
   "metadata": {},
   "outputs": [
    {
     "name": "stdout",
     "output_type": "stream",
     "text": [
      "[2, 4]\n"
     ]
    }
   ],
   "source": [
    "numbers = [1, 2, 3, 4]\n",
    "squ = list(filter(lambda x: x % 2 == 0, numbers))\n",
    "print(squ)"
   ]
  },
  {
   "cell_type": "code",
   "execution_count": 20,
   "id": "e281b9e2-0fa8-4b1c-b67b-5b76afb47582",
   "metadata": {},
   "outputs": [
    {
     "name": "stdout",
     "output_type": "stream",
     "text": [
      "10\n"
     ]
    }
   ],
   "source": [
    "from functools import reduce\n",
    "\n",
    "numbers = [1, 2, 3, 4]\n",
    "product = reduce(lambda x, y: x + y, numbers)\n",
    "print(product)"
   ]
  },
  {
   "cell_type": "code",
   "execution_count": 22,
   "id": "8fad2f74-4b4b-4d03-9f1a-22babc500642",
   "metadata": {},
   "outputs": [
    {
     "data": {
      "text/plain": [
       "'HELLO'"
      ]
     },
     "execution_count": 22,
     "metadata": {},
     "output_type": "execute_result"
    }
   ],
   "source": [
    "to_upper = lambda s: s.upper()\n",
    "to_upper(\"hello\")"
   ]
  },
  {
   "cell_type": "markdown",
   "id": "70a0798b-047b-4058-bbee-ddf90747e239",
   "metadata": {},
   "source": [
    "# list comprehension"
   ]
  },
  {
   "cell_type": "code",
   "execution_count": 23,
   "id": "35416eaa-8a65-4cd1-838f-9736e3d18912",
   "metadata": {},
   "outputs": [
    {
     "name": "stdout",
     "output_type": "stream",
     "text": [
      "['HELLO', 'WORLD', 'PYTHON']\n"
     ]
    }
   ],
   "source": [
    "words = [\"hello\", \"world\", \"python\"]\n",
    "uppercase_words = [word.upper() for word in words]\n",
    "print(uppercase_words)"
   ]
  },
  {
   "cell_type": "code",
   "execution_count": 31,
   "id": "63f54278-593d-4db7-8ff0-ae67a4274a67",
   "metadata": {},
   "outputs": [
    {
     "name": "stdout",
     "output_type": "stream",
     "text": [
      "[1, 2, 3, 4, 5, 6]\n"
     ]
    }
   ],
   "source": [
    "matrix = [[1, 2], [3, 4], [5, 6]]\n",
    "flattened = [item for row in matrix for item in row]\n",
    "print(flattened) "
   ]
  },
  {
   "cell_type": "code",
   "execution_count": 32,
   "id": "9b295a77-c2a6-4b1a-a712-8e184f9c7a00",
   "metadata": {},
   "outputs": [
    {
     "name": "stdout",
     "output_type": "stream",
     "text": [
      "[0, 2, 0, 4, 0]\n"
     ]
    }
   ],
   "source": [
    "numbers = [1, 2, 3, 4, 5]\n",
    "replaced = [x if x % 2 == 0 else 0 for x in numbers]\n",
    "print(replaced) "
   ]
  },
  {
   "cell_type": "code",
   "execution_count": 33,
   "id": "840320bc-fb46-4518-a9b7-bc413d4e68a9",
   "metadata": {},
   "outputs": [
    {
     "name": "stdout",
     "output_type": "stream",
     "text": [
      "[(1, 'a'), (1, 'b'), (2, 'a'), (2, 'b')]\n"
     ]
    }
   ],
   "source": [
    "list1 = [1, 2]\n",
    "list2 = ['a', 'b']\n",
    "cartesian = [(x, y) for x in list1 for y in list2]\n",
    "print(cartesian)\n"
   ]
  },
  {
   "cell_type": "code",
   "execution_count": 34,
   "id": "970c7036-eb36-433f-9e56-158580276b40",
   "metadata": {},
   "outputs": [
    {
     "name": "stdout",
     "output_type": "stream",
     "text": [
      "[5, 6, 6]\n"
     ]
    }
   ],
   "source": [
    "words = [\"apple\", \"banana\", \"cherry\"]\n",
    "lengths = [len(word) for word in words]\n",
    "print(lengths)"
   ]
  },
  {
   "cell_type": "code",
   "execution_count": 35,
   "id": "43d219dd-ed73-4f03-9e7c-031adfecbde6",
   "metadata": {},
   "outputs": [
    {
     "name": "stdout",
     "output_type": "stream",
     "text": [
      "['olleh', 'dlrow', 'nohtyp']\n"
     ]
    }
   ],
   "source": [
    "words = [\"hello\", \"world\", \"python\"]\n",
    "\n",
    "reversed_words = [word[::-1] for word in words]\n",
    "print(reversed_words) "
   ]
  },
  {
   "cell_type": "code",
   "execution_count": 42,
   "id": "7f25f3e6-d10c-4c43-a95e-41676bbe860e",
   "metadata": {},
   "outputs": [
    {
     "name": "stdout",
     "output_type": "stream",
     "text": [
      "[(1, 'Apple'), (2, 'Cherry'), (3, 'Banana')]\n"
     ]
    }
   ],
   "source": [
    "data = [(1, 'Apple'), (3, 'Banana'), (2, 'Cherry')]\n",
    "sorted_data = sorted(data, key=lambda x: x[0])  \n",
    "print(sorted_data)"
   ]
  },
  {
   "cell_type": "code",
   "execution_count": 47,
   "id": "4d2124f9-f6e4-4cae-9044-a5620788f4f3",
   "metadata": {},
   "outputs": [
    {
     "name": "stdout",
     "output_type": "stream",
     "text": [
      "a c\n",
      "a d\n",
      "a h\n",
      "b c\n",
      "b d\n",
      "b h\n",
      "k c\n",
      "k d\n",
      "k h\n"
     ]
    }
   ],
   "source": [
    "# dictionary problem 21\n",
    "dic = {'1':['a','b','k'], '2':['c','d','h']}\n",
    "for i in dic['1']:\n",
    "    for j in dic['2']:\n",
    "        print(i,j)"
   ]
  },
  {
   "cell_type": "code",
   "execution_count": 48,
   "id": "e10dacc3-40cb-488d-90a2-5ad474733411",
   "metadata": {
    "scrolled": true
   },
   "outputs": [
    {
     "data": {
      "text/plain": [
       "[('b', 5874), ('e', 5874), ('c', 560), ('a', 500), ('d', 400), ('f', 20)]"
      ]
     },
     "execution_count": 48,
     "metadata": {},
     "output_type": "execute_result"
    }
   ],
   "source": [
    "# problem problem 22\n",
    "my_dict = {'a': 500, 'b': 5874, 'c': 560, 'd': 400, 'e': 5874, 'f': 20}\n",
    "sorted_items = sorted(my_dict.items(), key=lambda x: x[1], reverse=True)\n",
    "sorted_items"
   ]
  },
  {
   "cell_type": "code",
   "execution_count": 50,
   "id": "2508d33b-cb05-4de7-a438-77f89910deb3",
   "metadata": {},
   "outputs": [
    {
     "data": {
      "text/plain": [
       "[5874, 5874]"
      ]
     },
     "execution_count": 50,
     "metadata": {},
     "output_type": "execute_result"
    }
   ],
   "source": [
    "largest_keys = []\n",
    "for i in range(2):\n",
    "    largest_keys.append(sorted_items[i][1])\n",
    "largest_keys"
   ]
  },
  {
   "cell_type": "code",
   "execution_count": 55,
   "id": "8d2c88e5-feb6-45fe-9e54-755a88ef7009",
   "metadata": {},
   "outputs": [
    {
     "data": {
      "text/plain": [
       "6"
      ]
     },
     "execution_count": 55,
     "metadata": {},
     "output_type": "execute_result"
    }
   ],
   "source": [
    "#26\n",
    "student = [{'id': 1, 'success': True, 'name': 'Lary'},\n",
    " {'id': 2, 'success': False, 'name': 'Rabi'},\n",
    " {'id': 3, 'success': True, 'name': 'Alex'}]\n",
    "\n",
    "int(sum(s[\"id\"] for s in student))"
   ]
  },
  {
   "cell_type": "code",
   "execution_count": 54,
   "id": "ce08176b-0a2d-4c42-a1be-bc85cda54e43",
   "metadata": {},
   "outputs": [
    {
     "name": "stdout",
     "output_type": "stream",
     "text": [
      "{'id': 1, 'success': True, 'name': 'Lary'}\n",
      "{'id': 2, 'success': False, 'name': 'Rabi'}\n",
      "{'id': 3, 'success': True, 'name': 'Alex'}\n"
     ]
    }
   ],
   "source": [
    "student = [{'id': 1, 'success': True, 'name': 'Lary'},\n",
    " {'id': 2, 'success': False, 'name': 'Rabi'},\n",
    " {'id': 3, 'success': True, 'name': 'Alex'}]\n",
    "for s in student:\n",
    "    print(s)"
   ]
  },
  {
   "cell_type": "code",
   "execution_count": 59,
   "id": "fe34e2d3-2e0e-4973-8d11-bddf99b7d61d",
   "metadata": {},
   "outputs": [
    {
     "name": "stdout",
     "output_type": "stream",
     "text": [
      "{1: {}}\n",
      "{2: {1: {}}}\n",
      "{3: {2: {1: {}}}}\n",
      "{4: {3: {2: {1: {}}}}}\n"
     ]
    }
   ],
   "source": [
    "num_list = [1, 2, 3, 4]\n",
    "new = {}\n",
    "for item in num_list:\n",
    "    new= {item: new}\n",
    "    print(new)\n"
   ]
  },
  {
   "cell_type": "code",
   "execution_count": 60,
   "id": "65589dac-2688-474f-83f0-8dabe2295247",
   "metadata": {},
   "outputs": [
    {
     "name": "stdout",
     "output_type": "stream",
     "text": [
      "{'S001': ['Math', 'Science'], 'S002': ['Math', 'English']}\n"
     ]
    }
   ],
   "source": [
    "#29 \n",
    "student_list = {'S  001': ['Math', 'Science'], 'S    002': ['Math', 'English']}\n",
    "m = {}\n",
    "for key, value in student_list.items():\n",
    "    key = key.replace(\" \",\"\")\n",
    "    m[key]= value\n",
    "\n",
    "print(m)\n"
   ]
  },
  {
   "cell_type": "code",
   "execution_count": 62,
   "id": "b563721e-662b-40c8-8479-fc08a0017233",
   "metadata": {},
   "outputs": [
    {
     "name": "stdout",
     "output_type": "stream",
     "text": [
      "Student Management System\n",
      "1. Add Student\n",
      "2. Display All Students\n",
      "3. Search Student by Roll Number\n",
      "4. Exit\n"
     ]
    },
    {
     "name": "stdin",
     "output_type": "stream",
     "text": [
      "Enter your choice (1-4):  1\n",
      "Enter student name:  sajib\n",
      "Enter roll number:  191\n"
     ]
    },
    {
     "name": "stdout",
     "output_type": "stream",
     "text": [
      "Student sajib added successfully!\n",
      "\n",
      "Student Management System\n",
      "1. Add Student\n",
      "2. Display All Students\n",
      "3. Search Student by Roll Number\n",
      "4. Exit\n"
     ]
    },
    {
     "name": "stdin",
     "output_type": "stream",
     "text": [
      "Enter your choice (1-4):  1\n",
      "Enter student name:  akib\n",
      "Enter roll number:  1\n"
     ]
    },
    {
     "name": "stdout",
     "output_type": "stream",
     "text": [
      "Student akib added successfully!\n",
      "\n",
      "Student Management System\n",
      "1. Add Student\n",
      "2. Display All Students\n",
      "3. Search Student by Roll Number\n",
      "4. Exit\n"
     ]
    },
    {
     "name": "stdin",
     "output_type": "stream",
     "text": [
      "Enter your choice (1-4):  2\n"
     ]
    },
    {
     "name": "stdout",
     "output_type": "stream",
     "text": [
      "\n",
      "List of Students:\n",
      "Name: sajib, Roll Number: 191\n",
      "Name: akib, Roll Number: 1\n",
      "\n",
      "Student Management System\n",
      "1. Add Student\n",
      "2. Display All Students\n",
      "3. Search Student by Roll Number\n",
      "4. Exit\n"
     ]
    },
    {
     "name": "stdin",
     "output_type": "stream",
     "text": [
      "Enter your choice (1-4):  3\n",
      "Enter roll number to search:  191\n"
     ]
    },
    {
     "name": "stdout",
     "output_type": "stream",
     "text": [
      "Student Found: Name: sajib, Roll Number: 191\n",
      "\n",
      "Student Management System\n",
      "1. Add Student\n",
      "2. Display All Students\n",
      "3. Search Student by Roll Number\n",
      "4. Exit\n"
     ]
    },
    {
     "name": "stdin",
     "output_type": "stream",
     "text": [
      "Enter your choice (1-4):  4\n"
     ]
    },
    {
     "name": "stdout",
     "output_type": "stream",
     "text": [
      "Exiting the system. Goodbye!\n"
     ]
    }
   ],
   "source": [
    "# Student Management System\n",
    "\n",
    "# Initialize an empty list to store student data\n",
    "students = []\n",
    "\n",
    "# Function to add a student\n",
    "def add_student():\n",
    "    try:\n",
    "        name = input(\"Enter student name: \")\n",
    "        roll_number = int(input(\"Enter roll number: \"))\n",
    "        students.append({\"name\": name, \"roll_number\": roll_number})\n",
    "        print(f\"Student {name} added successfully!\\n\")\n",
    "    except ValueError:\n",
    "        print(\"Invalid roll number! Please enter a numeric value.\\n\")\n",
    "\n",
    "# Function to display all students\n",
    "def display_students():\n",
    "    if not students:\n",
    "        print(\"No students have been added yet.\\n\")\n",
    "    else:\n",
    "        print(\"\\nList of Students:\")\n",
    "        for student in students:\n",
    "            print(f\"Name: {student['name']}, Roll Number: {student['roll_number']}\")\n",
    "        print()\n",
    "\n",
    "# Function to search for a student by roll number\n",
    "def search_student():\n",
    "    try:\n",
    "        roll_number = int(input(\"Enter roll number to search: \"))\n",
    "        for student in students:\n",
    "            if student['roll_number'] == roll_number:\n",
    "                print(f\"Student Found: Name: {student['name']}, Roll Number: {student['roll_number']}\\n\")\n",
    "                return\n",
    "        print(\"No student found with that roll number.\\n\")\n",
    "    except ValueError:\n",
    "        print(\"Invalid roll number! Please enter a numeric value.\\n\")\n",
    "\n",
    "# Main program loop\n",
    "def student_management_system():\n",
    "    while True:\n",
    "        print(\"Student Management System\")\n",
    "        print(\"1. Add Student\")\n",
    "        print(\"2. Display All Students\")\n",
    "        print(\"3. Search Student by Roll Number\")\n",
    "        print(\"4. Exit\")\n",
    "\n",
    "        try:\n",
    "            choice = int(input(\"Enter your choice (1-4): \"))\n",
    "            if choice == 1:\n",
    "                add_student()\n",
    "            elif choice == 2:\n",
    "                display_students()\n",
    "            elif choice == 3:\n",
    "                search_student()\n",
    "            elif choice == 4:\n",
    "                print(\"Exiting the system. Goodbye!\")\n",
    "                break\n",
    "            else:\n",
    "                print(\"Invalid choice! Please enter a number between 1 and 4.\\n\")\n",
    "        except ValueError:\n",
    "            print(\"Invalid input! Please enter a numeric value.\\n\")\n",
    "\n",
    "# Run the system\n",
    "student_management_system()"
   ]
  },
  {
   "cell_type": "code",
   "execution_count": null,
   "id": "1e61bdbe-5d7c-424a-a6af-3bd3d98ae56e",
   "metadata": {},
   "outputs": [],
   "source": []
  }
 ],
 "metadata": {
  "kernelspec": {
   "display_name": "Python 3 (ipykernel)",
   "language": "python",
   "name": "python3"
  },
  "language_info": {
   "codemirror_mode": {
    "name": "ipython",
    "version": 3
   },
   "file_extension": ".py",
   "mimetype": "text/x-python",
   "name": "python",
   "nbconvert_exporter": "python",
   "pygments_lexer": "ipython3",
   "version": "3.11.4"
  }
 },
 "nbformat": 4,
 "nbformat_minor": 5
}
