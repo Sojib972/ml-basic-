{
 "cells": [
  {
   "cell_type": "code",
   "execution_count": 1,
   "id": "9db8183c-bcfe-4ecc-ae55-49f90735ed38",
   "metadata": {},
   "outputs": [
    {
     "name": "stdout",
     "output_type": "stream",
     "text": [
      "hello\n"
     ]
    }
   ],
   "source": [
    "class stu:\n",
    "    def __init__(self):\n",
    "        print(\"hello\")\n",
    "s1 = stu()"
   ]
  },
  {
   "cell_type": "code",
   "execution_count": 3,
   "id": "5312ad60-b705-4185-9a63-eadf7e159907",
   "metadata": {},
   "outputs": [
    {
     "name": "stdout",
     "output_type": "stream",
     "text": [
      "hello\n"
     ]
    }
   ],
   "source": [
    "class stu:\n",
    "    def info(self):\n",
    "        print(\"hello\")\n",
    "s1 = stu()\n",
    "s1.info()"
   ]
  },
  {
   "cell_type": "code",
   "execution_count": 6,
   "id": "cad2c0a3-5792-4a76-9179-a889455b3434",
   "metadata": {},
   "outputs": [
    {
     "name": "stdout",
     "output_type": "stream",
     "text": [
      "hello I main\n"
     ]
    }
   ],
   "source": [
    "class stu:\n",
    "    def __init__(self):\n",
    "        print(\"hello\")\n",
    "    def __init__(self):\n",
    "        print(\"hello I main\")\n",
    "s1 = stu()"
   ]
  },
  {
   "cell_type": "code",
   "execution_count": 23,
   "id": "8963635a-12ff-4fc7-9eba-e37f30412e36",
   "metadata": {},
   "outputs": [
    {
     "name": "stdout",
     "output_type": "stream",
     "text": [
      "sajib 26\n",
      "akib 26\n"
     ]
    }
   ],
   "source": [
    "class stu:\n",
    "    def __init__(self, name , age):\n",
    "        self.name = name\n",
    "        self.age = age\n",
    "        print(self.name,self.age)\n",
    "s1 = stu(\"sajib\", 26)\n",
    "\n",
    "class stu:\n",
    "    def nam(self, name , age):\n",
    "        self.name = name\n",
    "        self.age = age\n",
    "        print(self.name,self.age)\n",
    "s1 = stu()\n",
    "s1.nam(\"akib\",26)\n"
   ]
  },
  {
   "cell_type": "code",
   "execution_count": 24,
   "id": "fa3ab456-4139-4a76-b46b-34a7634989fe",
   "metadata": {},
   "outputs": [
    {
     "name": "stdout",
     "output_type": "stream",
     "text": [
      "akib 26\n"
     ]
    }
   ],
   "source": [
    "class stu:\n",
    "    def __init__(self, name , age):\n",
    "        self.name = name\n",
    "        self.age = age\n",
    "    def display(self):\n",
    "        print(self.name, self.age)\n",
    "        \n",
    "\n",
    "s1 = stu(\"akib\",26)\n",
    "s1.display()"
   ]
  },
  {
   "cell_type": "code",
   "execution_count": 25,
   "id": "60066a2a-1ff4-47a7-b8a6-718f10aa988e",
   "metadata": {},
   "outputs": [
    {
     "name": "stdout",
     "output_type": "stream",
     "text": [
      "sakib 26\n"
     ]
    }
   ],
   "source": [
    "s2 = stu(\"sakib\",26)\n",
    "s2.display()"
   ]
  },
  {
   "cell_type": "code",
   "execution_count": 29,
   "id": "5e869c58-d228-4ffe-acb4-beadf28ae1a6",
   "metadata": {},
   "outputs": [
    {
     "name": "stdout",
     "output_type": "stream",
     "text": [
      "akib 26\n"
     ]
    }
   ],
   "source": [
    "# get , set\n",
    "class stu:\n",
    "    def __init__(self, name , age):\n",
    "        self.name = name\n",
    "        self.age = age\n",
    "\n",
    "    def get_name(self):\n",
    "        return self.name\n",
    "    def get_age(self):\n",
    "        return self.age\n",
    "        \n",
    "    def display(self):\n",
    "        print(self.name, self.age)\n",
    "        \n",
    "s1 = stu(\"akib\",26)\n",
    "s1.display()"
   ]
  },
  {
   "cell_type": "code",
   "execution_count": 30,
   "id": "7aef4aeb-1b77-4695-9d28-8f85dad3453e",
   "metadata": {},
   "outputs": [
    {
     "data": {
      "text/plain": [
       "'akib'"
      ]
     },
     "execution_count": 30,
     "metadata": {},
     "output_type": "execute_result"
    }
   ],
   "source": [
    "s1.get_name()"
   ]
  },
  {
   "cell_type": "code",
   "execution_count": 31,
   "id": "c40f2778-265c-45a5-a250-219a3fc64fcd",
   "metadata": {},
   "outputs": [
    {
     "data": {
      "text/plain": [
       "26"
      ]
     },
     "execution_count": 31,
     "metadata": {},
     "output_type": "execute_result"
    }
   ],
   "source": [
    "s1.get_age()"
   ]
  },
  {
   "cell_type": "code",
   "execution_count": 41,
   "id": "46142fed-262b-4221-b1af-2fe28261184b",
   "metadata": {},
   "outputs": [
    {
     "name": "stdout",
     "output_type": "stream",
     "text": [
      "26\n"
     ]
    }
   ],
   "source": [
    "class stu:\n",
    "    def __init__(self, name , age):\n",
    "        self.name = name\n",
    "        self.age = age\n",
    "        \n",
    "s1 = stu(\"akib\",26)\n",
    "#print(getattr(s1,\"name\"))\n",
    "print(getattr(s1,\"age\"))"
   ]
  },
  {
   "cell_type": "code",
   "execution_count": 42,
   "id": "beb8b766-9206-4ca6-b1b3-9e8f89333d64",
   "metadata": {},
   "outputs": [],
   "source": [
    "setattr(s1,\"age\", 20)"
   ]
  },
  {
   "cell_type": "code",
   "execution_count": 43,
   "id": "b5510825-4082-4621-9f3d-f178bc943e25",
   "metadata": {},
   "outputs": [
    {
     "name": "stdout",
     "output_type": "stream",
     "text": [
      "20\n"
     ]
    }
   ],
   "source": [
    "print(getattr(s1,\"age\"))"
   ]
  },
  {
   "cell_type": "code",
   "execution_count": 44,
   "id": "76062e04-add0-45e4-8bbf-4d4c78b8c0e3",
   "metadata": {},
   "outputs": [
    {
     "name": "stdout",
     "output_type": "stream",
     "text": [
      "True\n"
     ]
    }
   ],
   "source": [
    "print(hasattr(s1, \"name\"))"
   ]
  },
  {
   "cell_type": "code",
   "execution_count": 45,
   "id": "8f178a5c-a453-4209-8b88-a769507736b3",
   "metadata": {},
   "outputs": [
    {
     "name": "stdout",
     "output_type": "stream",
     "text": [
      "False\n"
     ]
    }
   ],
   "source": [
    "print(hasattr(s1, \"Name\"))"
   ]
  },
  {
   "cell_type": "code",
   "execution_count": 46,
   "id": "0eee782b-ce78-497c-a1a1-c12ef8749c29",
   "metadata": {},
   "outputs": [],
   "source": [
    "delattr(s1,\"age\")"
   ]
  },
  {
   "cell_type": "code",
   "execution_count": 47,
   "id": "5d123d61-6347-46ff-a2cb-6f201e80a6fb",
   "metadata": {},
   "outputs": [
    {
     "ename": "AttributeError",
     "evalue": "'stu' object has no attribute 'age'",
     "output_type": "error",
     "traceback": [
      "\u001b[1;31m---------------------------------------------------------------------------\u001b[0m",
      "\u001b[1;31mAttributeError\u001b[0m                            Traceback (most recent call last)",
      "Cell \u001b[1;32mIn[47], line 1\u001b[0m\n\u001b[1;32m----> 1\u001b[0m \u001b[38;5;28mprint\u001b[39m(\u001b[38;5;28;43mgetattr\u001b[39;49m\u001b[43m(\u001b[49m\u001b[43ms1\u001b[49m\u001b[43m,\u001b[49m\u001b[38;5;124;43m\"\u001b[39;49m\u001b[38;5;124;43mage\u001b[39;49m\u001b[38;5;124;43m\"\u001b[39;49m\u001b[43m)\u001b[49m)\n",
      "\u001b[1;31mAttributeError\u001b[0m: 'stu' object has no attribute 'age'"
     ]
    }
   ],
   "source": [
    "print(getattr(s1,\"age\"))"
   ]
  },
  {
   "cell_type": "code",
   "execution_count": 49,
   "id": "f728701a-b57c-406f-a4f4-649ee1a7c273",
   "metadata": {},
   "outputs": [
    {
     "name": "stdout",
     "output_type": "stream",
     "text": [
      "akib\n"
     ]
    }
   ],
   "source": [
    "print(getattr(s1,\"name\"))"
   ]
  },
  {
   "cell_type": "code",
   "execution_count": 50,
   "id": "bee6ba34-e5d0-4abc-acd2-5c3c4f0560d9",
   "metadata": {},
   "outputs": [
    {
     "name": "stdout",
     "output_type": "stream",
     "text": [
      "\n"
     ]
    }
   ],
   "source": [
    "class car: # class\n",
    "    def __init__ (self , brand , year):# constructor \n",
    "        self.brand = brand \n",
    "        self.year = year # attribute\n",
    "    def display_info(self): # method \n",
    "        print()\n",
    "# creating an object (instance) of the class\n",
    "new_car = car(\"toyota\", 2020)\n",
    "new_car.display_info()"
   ]
  },
  {
   "cell_type": "code",
   "execution_count": 59,
   "id": "644f6a6d-9e0b-4f63-b6db-242564d4508f",
   "metadata": {},
   "outputs": [
    {
     "name": "stdout",
     "output_type": "stream",
     "text": [
      "Add: 25\n",
      "sub: -5\n",
      "multi: 150\n",
      "div: 0.6666666666666666\n"
     ]
    }
   ],
   "source": [
    "class math_op:\n",
    "    def __init__(self, a,b):\n",
    "        self.a = a\n",
    "        self.b = b\n",
    "    def add(self):\n",
    "        return a+ b\n",
    "    def sub(self):\n",
    "        return a - b\n",
    "    def multi(self):xc\n",
    "        return a * b\n",
    "    def div(self):\n",
    "        if b != 0:\n",
    "            return a /b\n",
    "        else:\n",
    "            return \"Error: Divisiable by zero\"\n",
    "\n",
    "if __name__ == \"__main__\":\n",
    "    x = 10\n",
    "    y = 15\n",
    "    print(f\"Add: {add(x,y)}\")\n",
    "    print(f\"sub: {sub(x,y)}\")\n",
    "    print(f\"multi: {multi(x,y)}\")\n",
    "    print(f\"div: {div(x,y)}\")\n"
   ]
  },
  {
   "cell_type": "code",
   "execution_count": 54,
   "id": "57d33b86-e0c0-4850-8d8a-aa6c25646755",
   "metadata": {},
   "outputs": [
    {
     "name": "stdout",
     "output_type": "stream",
     "text": [
      "Add: 25\n"
     ]
    }
   ],
   "source": [
    "print(f\"Add: {add(x,y)}\")"
   ]
  },
  {
   "cell_type": "code",
   "execution_count": 63,
   "id": "6128e39c-3c0f-4877-942f-6e89c110dbe3",
   "metadata": {},
   "outputs": [
    {
     "name": "stdout",
     "output_type": "stream",
     "text": [
      "I can shought\n"
     ]
    }
   ],
   "source": [
    "# Inheritance \n",
    "\n",
    "class animal:\n",
    "    def speak(self):\n",
    "        print(\"I can shought\")\n",
    "        \n",
    "class dog(animal):\n",
    "    def brak(self):\n",
    "        print(\"I can bark\")\n",
    "\n",
    "d1 = dog()\n",
    "#d1.brak()\n",
    "d1.speak()"
   ]
  },
  {
   "cell_type": "code",
   "execution_count": 64,
   "id": "20b6dcf0-35a4-4d2c-ac4e-588efbda5ab5",
   "metadata": {},
   "outputs": [
    {
     "ename": "AttributeError",
     "evalue": "'dog' object has no attribute 'speak'",
     "output_type": "error",
     "traceback": [
      "\u001b[1;31m---------------------------------------------------------------------------\u001b[0m",
      "\u001b[1;31mAttributeError\u001b[0m                            Traceback (most recent call last)",
      "Cell \u001b[1;32mIn[64], line 13\u001b[0m\n\u001b[0;32m     11\u001b[0m d1 \u001b[38;5;241m=\u001b[39m dog()\n\u001b[0;32m     12\u001b[0m \u001b[38;5;66;03m#d1.brak()\u001b[39;00m\n\u001b[1;32m---> 13\u001b[0m \u001b[43md1\u001b[49m\u001b[38;5;241;43m.\u001b[39;49m\u001b[43mspeak\u001b[49m()\n",
      "\u001b[1;31mAttributeError\u001b[0m: 'dog' object has no attribute 'speak'"
     ]
    }
   ],
   "source": [
    "# Inheritance \n",
    "\n",
    "class animal(dog):\n",
    "    def speak(self):\n",
    "        print(\"I can shought\")\n",
    "        \n",
    "class dog():\n",
    "    def brak(self):\n",
    "        print(\"I can bark\")\n",
    "\n",
    "d1 = dog()\n",
    "#d1.brak()\n",
    "d1.speak()"
   ]
  },
  {
   "cell_type": "code",
   "execution_count": 67,
   "id": "4a418a96-72e9-4dc1-8abb-0d51b58f8cb4",
   "metadata": {},
   "outputs": [
    {
     "name": "stdout",
     "output_type": "stream",
     "text": [
      "I cam mew\n",
      "I can bark\n",
      "I can shought\n"
     ]
    }
   ],
   "source": [
    "# Inheritance \n",
    "\n",
    "class animal:\n",
    "    def speak(self):\n",
    "        print(\"I can shought\")\n",
    "        \n",
    "class dog(animal):\n",
    "    def brak(self):\n",
    "        print(\"I can bark\")\n",
    "class cat(dog):\n",
    "    def sound(self):\n",
    "        print(\"I cam mew\")\n",
    "\n",
    "d1 = cat()\n",
    "#d1.brak()\n",
    "d1.sound()\n",
    "d1.brak()\n",
    "d1.speak()"
   ]
  },
  {
   "cell_type": "code",
   "execution_count": 68,
   "id": "7f3ede1a-4e48-4bcb-aade-18cea002b877",
   "metadata": {},
   "outputs": [
    {
     "name": "stdout",
     "output_type": "stream",
     "text": [
      "I cam mew\n"
     ]
    },
    {
     "ename": "AttributeError",
     "evalue": "'cat' object has no attribute 'brak'",
     "output_type": "error",
     "traceback": [
      "\u001b[1;31m---------------------------------------------------------------------------\u001b[0m",
      "\u001b[1;31mAttributeError\u001b[0m                            Traceback (most recent call last)",
      "Cell \u001b[1;32mIn[68], line 15\u001b[0m\n\u001b[0;32m     13\u001b[0m \u001b[38;5;66;03m#d1.brak()\u001b[39;00m\n\u001b[0;32m     14\u001b[0m d1\u001b[38;5;241m.\u001b[39msound()\n\u001b[1;32m---> 15\u001b[0m \u001b[43md1\u001b[49m\u001b[38;5;241;43m.\u001b[39;49m\u001b[43mbrak\u001b[49m()\n\u001b[0;32m     16\u001b[0m d1\u001b[38;5;241m.\u001b[39mspeak()\n",
      "\u001b[1;31mAttributeError\u001b[0m: 'cat' object has no attribute 'brak'"
     ]
    }
   ],
   "source": [
    "\n",
    "class animal:\n",
    "    def speak(self):\n",
    "        print(\"I can shought\")\n",
    "        \n",
    "class dog(animal):\n",
    "    def brak(self):\n",
    "        print(\"I can bark\")\n",
    "class cat(animal):\n",
    "    def sound(self):\n",
    "        print(\"I cam mew\")\n",
    "\n",
    "d1 = cat()\n",
    "#d1.brak()\n",
    "d1.sound()\n",
    "d1.brak()\n",
    "d1.speak()"
   ]
  },
  {
   "cell_type": "code",
   "execution_count": 69,
   "id": "a3fcf270-d68b-438a-a26f-4361c28206bd",
   "metadata": {},
   "outputs": [
    {
     "name": "stdout",
     "output_type": "stream",
     "text": [
      "I can bark\n"
     ]
    }
   ],
   "source": [
    "# method over riding ]\n",
    "class animal:\n",
    "    def speak(self):\n",
    "        print(\"I can shought\")\n",
    "        \n",
    "class dog(animal):\n",
    "    def speak(self):\n",
    "        print(\"I can bark\")\n",
    "d1 = dog()\n",
    "d1.speak()"
   ]
  },
  {
   "cell_type": "code",
   "execution_count": 73,
   "id": "c5e6af63-0e36-418e-9b83-60ad362f7adb",
   "metadata": {},
   "outputs": [
    {
     "name": "stdout",
     "output_type": "stream",
     "text": [
      "hello\n",
      "I can shought\n"
     ]
    }
   ],
   "source": [
    "# method over riding ]\n",
    "class animal:\n",
    "    def speak(self):\n",
    "        print(\"I can shought\")\n",
    "        \n",
    "class dog(animal):\n",
    "    def bark(self):\n",
    "        print(\"hello\")\n",
    "        return super().speak()\n",
    "        \n",
    "d1 = dog()\n",
    "d1.bark()"
   ]
  },
  {
   "cell_type": "code",
   "execution_count": 75,
   "id": "e3519c9a-9328-4d81-a690-b761c24f0fa1",
   "metadata": {},
   "outputs": [
    {
     "name": "stdout",
     "output_type": "stream",
     "text": [
      "employee number is----! 1\n"
     ]
    }
   ],
   "source": [
    "## abstract method \n",
    "class em:\n",
    "    __count = 0 #PRvate class variable \n",
    "    def __init__(self):\n",
    "        em.__count += 1\n",
    "        self.count_num = em.__count\n",
    "    def display(self):\n",
    "        print(\"employee number is----!\" ,self.count_num)\n",
    "\n",
    "emp1 = em()\n",
    "emp1.display()\n",
    "\n",
    "\n"
   ]
  },
  {
   "cell_type": "code",
   "execution_count": 76,
   "id": "2c1905d4-e07e-44c4-a065-c0be1a78efd7",
   "metadata": {},
   "outputs": [
    {
     "name": "stdout",
     "output_type": "stream",
     "text": [
      "employee number is----! 2\n"
     ]
    }
   ],
   "source": [
    "emp2 = em()\n",
    "emp2.display()"
   ]
  },
  {
   "cell_type": "code",
   "execution_count": 77,
   "id": "8f8ccbec-1cd3-4403-ade9-fbce1ecb513a",
   "metadata": {},
   "outputs": [
    {
     "name": "stdout",
     "output_type": "stream",
     "text": [
      "employee number is----! 3\n"
     ]
    }
   ],
   "source": [
    "emp2 = em()\n",
    "emp2.display()"
   ]
  },
  {
   "cell_type": "code",
   "execution_count": 78,
   "id": "47e658b3-8195-4aa7-9853-4c1445b90add",
   "metadata": {},
   "outputs": [
    {
     "name": "stdout",
     "output_type": "stream",
     "text": [
      "employee number is----! 4\n"
     ]
    }
   ],
   "source": [
    "emp2 = em()\n",
    "emp2.display()"
   ]
  },
  {
   "cell_type": "code",
   "execution_count": 83,
   "id": "1ff23110-32dd-49e9-a469-953a4ecdda5a",
   "metadata": {},
   "outputs": [
    {
     "name": "stdout",
     "output_type": "stream",
     "text": [
      "the milaze is 25 km\n",
      "the milaze is 30 km\n"
     ]
    }
   ],
   "source": [
    "# abstact class\n",
    "from abc import ABC\n",
    "class car(ABC):\n",
    "    def mil(self):\n",
    "        pass\n",
    "\n",
    "class  tesla(car):\n",
    "    def mil(self):\n",
    "        print(\"the milaze is 25 km\")\n",
    "class  od(car):\n",
    "    def mil(self):\n",
    "        print(\"the milaze is 30 km\")\n",
    "\n",
    "class  bmw(car):\n",
    "    def mil(self):\n",
    "        print(\"the milaze is 35 km\")\n",
    "\n",
    "class  RR(car):\n",
    "    def mil(self):\n",
    "        print(\"the milaze is 40 km\")\n",
    "\n",
    "t = tesla()\n",
    "t.mil()\n",
    "o = od()\n",
    "o.mil()"
   ]
  },
  {
   "cell_type": "code",
   "execution_count": 96,
   "id": "f3488f65-e7f6-4c5a-84ef-d1ea6070c2a1",
   "metadata": {},
   "outputs": [],
   "source": [
    "class calculator:\n",
    "    def __init__(self):\n",
    "        self.result= 0 \n",
    "\n",
    "    def add(self, value):\n",
    "        self.result += value\n",
    "        return self.result\n",
    "\n",
    "    def sub(self, value):\n",
    "        self.result -= value\n",
    "        return self.result\n",
    "        \n",
    "    def multi(self, value):\n",
    "        self.result *= value\n",
    "        return self.result\n",
    "        \n",
    "    def div(self, value):\n",
    "        if value == 0:\n",
    "            return \"error\"\n",
    "        else:\n",
    "            self.result /= value\n",
    "            return self.result\n",
    "\n",
    "    def claer(self):\n",
    "        self.result=0\n",
    "        return self.result\n",
    "        \n",
    "    def display(self):\n",
    "        print(\"current result\",self.result)\n",
    "\n",
    "clax = calculator()\n",
    "        "
   ]
  },
  {
   "cell_type": "code",
   "execution_count": 97,
   "id": "dd9ea54e-d858-4b6d-9082-c3df74282c19",
   "metadata": {},
   "outputs": [
    {
     "data": {
      "text/plain": [
       "15"
      ]
     },
     "execution_count": 97,
     "metadata": {},
     "output_type": "execute_result"
    }
   ],
   "source": [
    "clax.add(15)"
   ]
  },
  {
   "cell_type": "code",
   "execution_count": 98,
   "id": "69e80691-202e-41c5-8bab-e09a176a2922",
   "metadata": {},
   "outputs": [
    {
     "name": "stdout",
     "output_type": "stream",
     "text": [
      "current result 0\n"
     ]
    }
   ],
   "source": [
    "clax.claer()\n",
    "clax.display()"
   ]
  },
  {
   "cell_type": "code",
   "execution_count": 99,
   "id": "b6237993-728a-45c3-aec1-6b5179366e20",
   "metadata": {},
   "outputs": [],
   "source": [
    "# traingle , circle square "
   ]
  },
  {
   "cell_type": "code",
   "execution_count": 1,
   "id": "668491f0-b3dc-4564-a118-7caad14f9200",
   "metadata": {},
   "outputs": [
    {
     "name": "stdout",
     "output_type": "stream",
     "text": [
      "Bark\n"
     ]
    }
   ],
   "source": [
    "from abc import ABC, abstractmethod\n",
    "\n",
    "\n",
    "class Animal(ABC):\n",
    "    \n",
    "    @abstractmethod\n",
    "    def sound(self):\n",
    "        pass  \n",
    "\n",
    "class Dog(Animal):\n",
    "    \n",
    "    def sound(self):\n",
    "        return \"Bark\"  \n",
    "\n",
    "\n",
    "dog = Dog()\n",
    "print(dog.sound())  "
   ]
  },
  {
   "cell_type": "code",
   "execution_count": 2,
   "id": "e7e18496",
   "metadata": {},
   "outputs": [
    {
     "ename": "TypeError",
     "evalue": "Can't instantiate abstract class Animal with abstract method sound",
     "output_type": "error",
     "traceback": [
      "\u001b[1;31m---------------------------------------------------------------------------\u001b[0m",
      "\u001b[1;31mTypeError\u001b[0m                                 Traceback (most recent call last)",
      "Cell \u001b[1;32mIn[2], line 1\u001b[0m\n\u001b[1;32m----> 1\u001b[0m dog \u001b[38;5;241m=\u001b[39m \u001b[43mAnimal\u001b[49m\u001b[43m(\u001b[49m\u001b[43m)\u001b[49m\n\u001b[0;32m      2\u001b[0m \u001b[38;5;28mprint\u001b[39m(dog\u001b[38;5;241m.\u001b[39msound()) \n",
      "\u001b[1;31mTypeError\u001b[0m: Can't instantiate abstract class Animal with abstract method sound"
     ]
    }
   ],
   "source": [
    "dog = Animal()\n",
    "print(dog.sound()) "
   ]
  },
  {
   "cell_type": "code",
   "execution_count": null,
   "id": "217ab504",
   "metadata": {},
   "outputs": [],
   "source": []
  }
 ],
 "metadata": {
  "kernelspec": {
   "display_name": "Python 3",
   "language": "python",
   "name": "python3"
  },
  "language_info": {
   "codemirror_mode": {
    "name": "ipython",
    "version": 3
   },
   "file_extension": ".py",
   "mimetype": "text/x-python",
   "name": "python",
   "nbconvert_exporter": "python",
   "pygments_lexer": "ipython3",
   "version": "3.11.4"
  }
 },
 "nbformat": 4,
 "nbformat_minor": 5
}
