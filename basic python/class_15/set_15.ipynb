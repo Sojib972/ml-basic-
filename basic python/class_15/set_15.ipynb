{
 "cells": [
  {
   "cell_type": "markdown",
   "id": "ebb042dd-9a82-4944-bd9f-ea6587176029",
   "metadata": {},
   "source": [
    "# A set(Unordered) is mutable, meaning you can add or remove elements. However, the elements inside a set must be immutable (e.g., numbers, strings, or tuples). For an immutable set, use frozenset."
   ]
  },
  {
   "cell_type": "code",
   "execution_count": 1,
   "id": "d5cf9c4b-d7d0-4c8f-8438-6a767e736b29",
   "metadata": {},
   "outputs": [],
   "source": [
    "se1 = {2,4,1,2,1,2}\n",
    "se2 = set() # empty "
   ]
  },
  {
   "cell_type": "code",
   "execution_count": 7,
   "id": "aaaf1bf5-3358-4b41-b3d3-2e737b94d931",
   "metadata": {},
   "outputs": [
    {
     "data": {
      "text/plain": [
       "set"
      ]
     },
     "execution_count": 7,
     "metadata": {},
     "output_type": "execute_result"
    }
   ],
   "source": [
    "se3 = set([4,4,5,5])\n",
    "type(se3)"
   ]
  },
  {
   "cell_type": "code",
   "execution_count": 5,
   "id": "46d7d864-d573-4b84-8bc6-870dfafe551b",
   "metadata": {},
   "outputs": [
    {
     "name": "stdout",
     "output_type": "stream",
     "text": [
      "<class 'set'>\n"
     ]
    }
   ],
   "source": [
    "se2 = set([1,5,8,9])\n",
    "print(type(se2))"
   ]
  },
  {
   "cell_type": "code",
   "execution_count": 6,
   "id": "13ff9ce6-c6d8-4be6-a385-7c2801a47179",
   "metadata": {},
   "outputs": [
    {
     "name": "stdout",
     "output_type": "stream",
     "text": [
      "<class 'set'>\n"
     ]
    }
   ],
   "source": [
    "se2 = set((1,5,8,9))\n",
    "print(type(se2))"
   ]
  },
  {
   "cell_type": "code",
   "execution_count": 9,
   "id": "cdb43b69-0e6e-4867-acaa-411deb0546f6",
   "metadata": {},
   "outputs": [
    {
     "data": {
      "text/plain": [
       "{(1, 4, 5), 1, 2.0, 'str'}"
      ]
     },
     "execution_count": 9,
     "metadata": {},
     "output_type": "execute_result"
    }
   ],
   "source": [
    "se = {1,2.0,True,\"str\",(1,4,5),[4,5,8]}\n",
    "se"
   ]
  },
  {
   "cell_type": "code",
   "execution_count": 10,
   "id": "9de5de07-133c-4358-b6dd-c9378128fbbb",
   "metadata": {},
   "outputs": [
    {
     "data": {
      "text/plain": [
       "{(1, 4, 5), 1, 2.0, 'str'}"
      ]
     },
     "execution_count": 10,
     "metadata": {},
     "output_type": "execute_result"
    }
   ],
   "source": [
    "se = {1,2.0,True,\"str\",(1,4,5)}\n",
    "se"
   ]
  },
  {
   "cell_type": "code",
   "execution_count": 11,
   "id": "b197fbf5-7e11-4a98-b332-99429f7b0061",
   "metadata": {},
   "outputs": [
    {
     "data": {
      "text/plain": [
       "set"
      ]
     },
     "execution_count": 11,
     "metadata": {},
     "output_type": "execute_result"
    }
   ],
   "source": [
    "type(se)"
   ]
  },
  {
   "cell_type": "code",
   "execution_count": 12,
   "id": "4de74b3d-e677-4ade-bd3f-f1758569695c",
   "metadata": {},
   "outputs": [
    {
     "ename": "TypeError",
     "evalue": "'set' object is not subscriptable",
     "output_type": "error",
     "traceback": [
      "\u001b[1;31m---------------------------------------------------------------------------\u001b[0m",
      "\u001b[1;31mTypeError\u001b[0m                                 Traceback (most recent call last)",
      "Cell \u001b[1;32mIn[12], line 1\u001b[0m\n\u001b[1;32m----> 1\u001b[0m \u001b[43mse\u001b[49m\u001b[43m[\u001b[49m\u001b[38;5;241;43m4\u001b[39;49m\u001b[43m]\u001b[49m\n",
      "\u001b[1;31mTypeError\u001b[0m: 'set' object is not subscriptable"
     ]
    }
   ],
   "source": [
    "se[4]"
   ]
  },
  {
   "cell_type": "code",
   "execution_count": 13,
   "id": "556af0a8-c44d-4a77-b0e8-375b41c9d741",
   "metadata": {},
   "outputs": [
    {
     "ename": "TypeError",
     "evalue": "'set' object does not support item assignment",
     "output_type": "error",
     "traceback": [
      "\u001b[1;31m---------------------------------------------------------------------------\u001b[0m",
      "\u001b[1;31mTypeError\u001b[0m                                 Traceback (most recent call last)",
      "Cell \u001b[1;32mIn[13], line 1\u001b[0m\n\u001b[1;32m----> 1\u001b[0m \u001b[43mse\u001b[49m\u001b[43m[\u001b[49m\u001b[38;5;241;43m1\u001b[39;49m\u001b[43m]\u001b[49m  \u001b[38;5;241m=\u001b[39m \u001b[38;5;124m\"\u001b[39m\u001b[38;5;124mhi\u001b[39m\u001b[38;5;124m\"\u001b[39m\n",
      "\u001b[1;31mTypeError\u001b[0m: 'set' object does not support item assignment"
     ]
    }
   ],
   "source": [
    "se[1]  = \"hi\""
   ]
  },
  {
   "cell_type": "code",
   "execution_count": 14,
   "id": "910294d1-493b-48e0-abcb-1a998e6395b1",
   "metadata": {},
   "outputs": [
    {
     "data": {
      "text/plain": [
       "{(1, 4, 5), 1, 2.0, 'str'}"
      ]
     },
     "execution_count": 14,
     "metadata": {},
     "output_type": "execute_result"
    }
   ],
   "source": [
    "se"
   ]
  },
  {
   "cell_type": "code",
   "execution_count": 15,
   "id": "f6942ab7-6328-4280-b084-e62082d1709e",
   "metadata": {},
   "outputs": [
    {
     "data": {
      "text/plain": [
       "{(1, 4, 5), 1, 2.0, 50, 'str'}"
      ]
     },
     "execution_count": 15,
     "metadata": {},
     "output_type": "execute_result"
    }
   ],
   "source": [
    "se.add(50)\n",
    "se"
   ]
  },
  {
   "cell_type": "code",
   "execution_count": 16,
   "id": "66abc45a-dd96-4b01-a130-9eb8f1562ac3",
   "metadata": {},
   "outputs": [
    {
     "data": {
      "text/plain": [
       "{(1, 4, 5), 1, 2.0, 40, 50, 'str'}"
      ]
     },
     "execution_count": 16,
     "metadata": {},
     "output_type": "execute_result"
    }
   ],
   "source": [
    "se.add(40)\n",
    "se"
   ]
  },
  {
   "cell_type": "code",
   "execution_count": 17,
   "id": "07bdced9-6dbe-42f9-a06e-4be9cbe0351f",
   "metadata": {},
   "outputs": [
    {
     "data": {
      "text/plain": [
       "{(1, 4, 5), 1, 2.0, 40, 50, 'hi', 'str'}"
      ]
     },
     "execution_count": 17,
     "metadata": {},
     "output_type": "execute_result"
    }
   ],
   "source": [
    "se.add(\"hi\")\n",
    "se"
   ]
  },
  {
   "cell_type": "code",
   "execution_count": 18,
   "id": "6ab17158-94bf-4c42-93ee-155494a3079b",
   "metadata": {},
   "outputs": [
    {
     "data": {
      "text/plain": [
       "{(1, 4, 5), 1, 2.0, 40, 50, 'bye', 'hi', 'str'}"
      ]
     },
     "execution_count": 18,
     "metadata": {},
     "output_type": "execute_result"
    }
   ],
   "source": [
    "se.add(\"bye\")\n",
    "se"
   ]
  },
  {
   "cell_type": "code",
   "execution_count": 19,
   "id": "38a5a575-aaf7-4989-ac68-8c6d338ff505",
   "metadata": {},
   "outputs": [
    {
     "data": {
      "text/plain": [
       "{(1, 4, 5), 1, 2.0, 3.0, 40, 50, 'bye', 'hi', 'str'}"
      ]
     },
     "execution_count": 19,
     "metadata": {},
     "output_type": "execute_result"
    }
   ],
   "source": [
    "se.add(3.0)\n",
    "se"
   ]
  },
  {
   "cell_type": "code",
   "execution_count": 21,
   "id": "0e57fba1-9842-44ef-8693-3f69d853e600",
   "metadata": {},
   "outputs": [
    {
     "data": {
      "text/plain": [
       "{(1, 4, 5), 1, 2.0, 3.0, 40, 50, 8, 'bye', 'hi', 'str'}"
      ]
     },
     "execution_count": 21,
     "metadata": {},
     "output_type": "execute_result"
    }
   ],
   "source": [
    "se.update([8])\n",
    "se"
   ]
  },
  {
   "cell_type": "code",
   "execution_count": 23,
   "id": "12fe7ded-a5f2-408e-a2fa-8ef50d996dfc",
   "metadata": {},
   "outputs": [
    {
     "data": {
      "text/plain": [
       "{(1, 4, 5), 1, 2.0, 3.0, 40, 50, 7, 8, 9, 'bye', 'hi', 'str'}"
      ]
     },
     "execution_count": 23,
     "metadata": {},
     "output_type": "execute_result"
    }
   ],
   "source": [
    "se.update([3,9,7])\n",
    "se"
   ]
  },
  {
   "cell_type": "code",
   "execution_count": 24,
   "id": "7cda48d6-f42a-43b0-9bfd-c8b1b694d3c3",
   "metadata": {},
   "outputs": [
    {
     "data": {
      "text/plain": [
       "{(1, 4, 5), 1, 2.0, 40, 50, 7, 8, 9, 'bye', 'hi', 'str'}"
      ]
     },
     "execution_count": 24,
     "metadata": {},
     "output_type": "execute_result"
    }
   ],
   "source": [
    "se.remove(3.0)\n",
    "se"
   ]
  },
  {
   "cell_type": "code",
   "execution_count": 25,
   "id": "5f078146-36a2-4da7-91c6-10bb03b13b92",
   "metadata": {},
   "outputs": [
    {
     "data": {
      "text/plain": [
       "{(1, 4, 5), 1, 2.0, 40, 50, 8, 9, 'bye', 'hi', 'str'}"
      ]
     },
     "execution_count": 25,
     "metadata": {},
     "output_type": "execute_result"
    }
   ],
   "source": [
    "se.discard(7)\n",
    "se"
   ]
  },
  {
   "cell_type": "code",
   "execution_count": 32,
   "id": "d95eeb5a-2df9-4a64-8b2d-80f08e2870c3",
   "metadata": {},
   "outputs": [
    {
     "data": {
      "text/plain": [
       "{(1, 4, 5), 50, 'bye'}"
      ]
     },
     "execution_count": 32,
     "metadata": {},
     "output_type": "execute_result"
    }
   ],
   "source": [
    "se.pop()\n",
    "se"
   ]
  },
  {
   "cell_type": "code",
   "execution_count": 34,
   "id": "b081d5d8-7e20-4de5-aa2b-d46779e835a7",
   "metadata": {},
   "outputs": [
    {
     "data": {
      "text/plain": [
       "{2.0, 8, 9, 40, 50}"
      ]
     },
     "execution_count": 34,
     "metadata": {},
     "output_type": "execute_result"
    }
   ],
   "source": [
    "se = {1, 2.0, 40, 50, 8, 9}\n",
    "se.pop() # Removes a random element\n",
    "se"
   ]
  },
  {
   "cell_type": "code",
   "execution_count": 35,
   "id": "5f9518f8-71b7-4f5d-8c3d-c94839e8a7ac",
   "metadata": {},
   "outputs": [],
   "source": [
    "# clear()"
   ]
  },
  {
   "cell_type": "code",
   "execution_count": 41,
   "id": "98eaa3cd-511d-4a2b-bc51-dca91c2c8a26",
   "metadata": {},
   "outputs": [
    {
     "data": {
      "text/plain": [
       "{1, 2, 4, 5, 6, 7, 8, 58}"
      ]
     },
     "execution_count": 41,
     "metadata": {},
     "output_type": "execute_result"
    }
   ],
   "source": [
    "a = {1,4,58,8,4}\n",
    "b ={2,5,6,7}\n",
    "aa= {1,2,3,7}\n",
    "# union\n",
    "c = a.union(b)\n",
    "c"
   ]
  },
  {
   "cell_type": "code",
   "execution_count": 39,
   "id": "770d9e08-2e3c-494b-a8f2-dc58833464b4",
   "metadata": {},
   "outputs": [
    {
     "data": {
      "text/plain": [
       "{1, 2, 3, 4, 5, 6, 7, 8, 58}"
      ]
     },
     "execution_count": 39,
     "metadata": {},
     "output_type": "execute_result"
    }
   ],
   "source": [
    "d= a | b | aa # join two or more sets \n",
    "d"
   ]
  },
  {
   "cell_type": "code",
   "execution_count": 42,
   "id": "9e401103-3bee-4362-89d8-5f6c515e09dc",
   "metadata": {},
   "outputs": [
    {
     "data": {
      "text/plain": [
       "set()"
      ]
     },
     "execution_count": 42,
     "metadata": {},
     "output_type": "execute_result"
    }
   ],
   "source": [
    "# intersection\n",
    "v = a.intersection(b)\n",
    "v"
   ]
  },
  {
   "cell_type": "code",
   "execution_count": 43,
   "id": "e3427383-857f-4904-b73d-8457e5f23bcc",
   "metadata": {},
   "outputs": [
    {
     "data": {
      "text/plain": [
       "{1, 4, 8, 58}"
      ]
     },
     "execution_count": 43,
     "metadata": {},
     "output_type": "execute_result"
    }
   ],
   "source": [
    "x = a.difference(b)\n",
    "x"
   ]
  },
  {
   "cell_type": "code",
   "execution_count": 44,
   "id": "99a4fb79-72a9-4f88-988f-a44f6335e47d",
   "metadata": {},
   "outputs": [
    {
     "data": {
      "text/plain": [
       "{1, 4, 8, 58}"
      ]
     },
     "execution_count": 44,
     "metadata": {},
     "output_type": "execute_result"
    }
   ],
   "source": [
    "a"
   ]
  },
  {
   "cell_type": "code",
   "execution_count": 46,
   "id": "d4979bd2-3791-4b91-b9ce-63e3940949df",
   "metadata": {},
   "outputs": [
    {
     "name": "stdout",
     "output_type": "stream",
     "text": [
      "0 8\n",
      "1 1\n",
      "2 58\n",
      "3 4\n"
     ]
    }
   ],
   "source": [
    "for index, value in enumerate(a):\n",
    "    print(index, value)"
   ]
  },
  {
   "cell_type": "code",
   "execution_count": 47,
   "id": "da8556cb-f857-4514-bb07-62d9591af1bb",
   "metadata": {},
   "outputs": [
    {
     "data": {
      "text/plain": [
       "True"
      ]
     },
     "execution_count": 47,
     "metadata": {},
     "output_type": "execute_result"
    }
   ],
   "source": [
    "4 in a"
   ]
  },
  {
   "cell_type": "markdown",
   "id": "623a82f7-8866-46ec-b8fb-dae9a63f09b7",
   "metadata": {},
   "source": [
    "# frozenset"
   ]
  },
  {
   "cell_type": "code",
   "execution_count": null,
   "id": "a5af22f4-ea86-4895-a135-8960c81e0134",
   "metadata": {},
   "outputs": [],
   "source": [
    "#A frozenset is an immutable version of a set. Once created, it cannot be modified."
   ]
  },
  {
   "cell_type": "code",
   "execution_count": 48,
   "id": "37a456c1-ae10-4875-8241-98979b1b09ab",
   "metadata": {},
   "outputs": [
    {
     "data": {
      "text/plain": [
       "frozenset({1, 5, 7, 8, 9})"
      ]
     },
     "execution_count": 48,
     "metadata": {},
     "output_type": "execute_result"
    }
   ],
   "source": [
    "fs = frozenset([1,5,8,9,7])\n",
    "fs"
   ]
  },
  {
   "cell_type": "code",
   "execution_count": 49,
   "id": "4048c411-be88-4601-a298-01805de2c6cb",
   "metadata": {},
   "outputs": [
    {
     "data": {
      "text/plain": [
       "frozenset"
      ]
     },
     "execution_count": 49,
     "metadata": {},
     "output_type": "execute_result"
    }
   ],
   "source": [
    "type(fs)"
   ]
  },
  {
   "cell_type": "code",
   "execution_count": 51,
   "id": "87e46ad8-0061-4c68-be26-5516a2194e7d",
   "metadata": {},
   "outputs": [
    {
     "ename": "AttributeError",
     "evalue": "'frozenset' object has no attribute 'add'",
     "output_type": "error",
     "traceback": [
      "\u001b[1;31m---------------------------------------------------------------------------\u001b[0m",
      "\u001b[1;31mAttributeError\u001b[0m                            Traceback (most recent call last)",
      "Cell \u001b[1;32mIn[51], line 1\u001b[0m\n\u001b[1;32m----> 1\u001b[0m \u001b[43mfs\u001b[49m\u001b[38;5;241;43m.\u001b[39;49m\u001b[43madd\u001b[49m([\u001b[38;5;241m4\u001b[39m])\n",
      "\u001b[1;31mAttributeError\u001b[0m: 'frozenset' object has no attribute 'add'"
     ]
    }
   ],
   "source": [
    "fs.add([4])"
   ]
  },
  {
   "cell_type": "code",
   "execution_count": 52,
   "id": "aa85ae44-52e0-4f4c-9da8-1fb7f0d19641",
   "metadata": {},
   "outputs": [
    {
     "ename": "AttributeError",
     "evalue": "'frozenset' object has no attribute 'remove'",
     "output_type": "error",
     "traceback": [
      "\u001b[1;31m---------------------------------------------------------------------------\u001b[0m",
      "\u001b[1;31mAttributeError\u001b[0m                            Traceback (most recent call last)",
      "Cell \u001b[1;32mIn[52], line 1\u001b[0m\n\u001b[1;32m----> 1\u001b[0m \u001b[43mfs\u001b[49m\u001b[38;5;241;43m.\u001b[39;49m\u001b[43mremove\u001b[49m(\u001b[38;5;241m5\u001b[39m)\n",
      "\u001b[1;31mAttributeError\u001b[0m: 'frozenset' object has no attribute 'remove'"
     ]
    }
   ],
   "source": [
    "fs.remove(5)"
   ]
  },
  {
   "cell_type": "code",
   "execution_count": 53,
   "id": "493b538f-b0e9-4e2d-b727-f016c710030b",
   "metadata": {},
   "outputs": [
    {
     "data": {
      "text/plain": [
       "True"
      ]
     },
     "execution_count": 53,
     "metadata": {},
     "output_type": "execute_result"
    }
   ],
   "source": [
    "5 in fs"
   ]
  },
  {
   "cell_type": "code",
   "execution_count": 54,
   "id": "6df25b6a-cc9a-4ddb-bcf5-e74e3a53c699",
   "metadata": {},
   "outputs": [
    {
     "data": {
      "text/plain": [
       "frozenset({1, 5, 7, 8, 9, 'bye', 'hi'})"
      ]
     },
     "execution_count": 54,
     "metadata": {},
     "output_type": "execute_result"
    }
   ],
   "source": [
    "new_fs= fs.union([\"hi\",\"bye\"])\n",
    "new_fs"
   ]
  },
  {
   "cell_type": "code",
   "execution_count": 55,
   "id": "af079e4d-97bd-4cda-b4cc-3ee34ebeea4d",
   "metadata": {},
   "outputs": [
    {
     "data": {
      "text/plain": [
       "{1, 4, 8, 58}"
      ]
     },
     "execution_count": 55,
     "metadata": {},
     "output_type": "execute_result"
    }
   ],
   "source": [
    "a"
   ]
  },
  {
   "cell_type": "code",
   "execution_count": 57,
   "id": "9350ab2c-54a9-40fe-91ce-772d6955cd91",
   "metadata": {},
   "outputs": [
    {
     "name": "stdout",
     "output_type": "stream",
     "text": [
      "71\n"
     ]
    }
   ],
   "source": [
    "total = 0\n",
    "for i in a:\n",
    "    total = total +i\n",
    "print(total)"
   ]
  },
  {
   "cell_type": "code",
   "execution_count": 58,
   "id": "85adf162-4cab-4e1c-8df4-e22a1385ee37",
   "metadata": {},
   "outputs": [
    {
     "data": {
      "text/plain": [
       "71"
      ]
     },
     "execution_count": 58,
     "metadata": {},
     "output_type": "execute_result"
    }
   ],
   "source": [
    "sum(a)"
   ]
  },
  {
   "cell_type": "code",
   "execution_count": 62,
   "id": "3a84fcec-cf7d-475f-bfeb-b5a52c3e5ee5",
   "metadata": {},
   "outputs": [
    {
     "ename": "TypeError",
     "evalue": "must be real number, not set",
     "output_type": "error",
     "traceback": [
      "\u001b[1;31m---------------------------------------------------------------------------\u001b[0m",
      "\u001b[1;31mTypeError\u001b[0m                                 Traceback (most recent call last)",
      "Cell \u001b[1;32mIn[62], line 3\u001b[0m\n\u001b[0;32m      1\u001b[0m \u001b[38;5;28;01mimport\u001b[39;00m \u001b[38;5;21;01mmath\u001b[39;00m\n\u001b[0;32m      2\u001b[0m a \u001b[38;5;241m=\u001b[39m {\u001b[38;5;241m9\u001b[39m}\n\u001b[1;32m----> 3\u001b[0m \u001b[43mmath\u001b[49m\u001b[38;5;241;43m.\u001b[39;49m\u001b[43msqrt\u001b[49m\u001b[43m(\u001b[49m\u001b[43ma\u001b[49m\u001b[43m)\u001b[49m\n",
      "\u001b[1;31mTypeError\u001b[0m: must be real number, not set"
     ]
    }
   ],
   "source": [
    "import math\n",
    "a = {9}\n",
    "math.sqrt(a)"
   ]
  },
  {
   "cell_type": "markdown",
   "id": "7eb10eac-3476-4ec8-8b09-48195a066140",
   "metadata": {},
   "source": [
    "# Dictionary "
   ]
  },
  {
   "cell_type": "code",
   "execution_count": 63,
   "id": "d08e04c3-fa07-4c6e-97aa-0b0d25bf8250",
   "metadata": {},
   "outputs": [
    {
     "ename": "TypeError",
     "evalue": "cannot convert dictionary update sequence element #0 to a sequence",
     "output_type": "error",
     "traceback": [
      "\u001b[1;31m---------------------------------------------------------------------------\u001b[0m",
      "\u001b[1;31mTypeError\u001b[0m                                 Traceback (most recent call last)",
      "Cell \u001b[1;32mIn[63], line 2\u001b[0m\n\u001b[0;32m      1\u001b[0m li \u001b[38;5;241m=\u001b[39m [\u001b[38;5;241m14\u001b[39m,\u001b[38;5;241m8\u001b[39m,\u001b[38;5;241m6\u001b[39m,\u001b[38;5;241m9\u001b[39m]\n\u001b[1;32m----> 2\u001b[0m new_li \u001b[38;5;241m=\u001b[39m \u001b[38;5;28;43mdict\u001b[39;49m\u001b[43m(\u001b[49m\u001b[43mli\u001b[49m\u001b[43m)\u001b[49m\n\u001b[0;32m      3\u001b[0m new_li\n",
      "\u001b[1;31mTypeError\u001b[0m: cannot convert dictionary update sequence element #0 to a sequence"
     ]
    }
   ],
   "source": [
    "li = [14,8,6,9]\n",
    "new_li = dict(li)\n",
    "new_li"
   ]
  },
  {
   "cell_type": "code",
   "execution_count": 72,
   "id": "7aa5a730-cfae-44f9-a607-2cda2ffea6a7",
   "metadata": {},
   "outputs": [],
   "source": [
    "dic = {\n",
    "    \"name\" : \"sajib\",\n",
    "    \"age\"  : 25\n",
    "}\n"
   ]
  },
  {
   "cell_type": "code",
   "execution_count": 65,
   "id": "268af363-0613-41b0-959c-5f01184ee7a0",
   "metadata": {},
   "outputs": [
    {
     "data": {
      "text/plain": [
       "{'name': 'sajib', 'age': 25}"
      ]
     },
     "execution_count": 65,
     "metadata": {},
     "output_type": "execute_result"
    }
   ],
   "source": [
    "dic"
   ]
  },
  {
   "cell_type": "code",
   "execution_count": 66,
   "id": "176a96e9-0ad8-4c70-a938-07e54eda8fb0",
   "metadata": {},
   "outputs": [
    {
     "data": {
      "text/plain": [
       "dict_keys(['name', 'age'])"
      ]
     },
     "execution_count": 66,
     "metadata": {},
     "output_type": "execute_result"
    }
   ],
   "source": [
    "dic.keys()"
   ]
  },
  {
   "cell_type": "code",
   "execution_count": 67,
   "id": "97f4a512-b576-4e1a-afb7-bfd2700816cd",
   "metadata": {},
   "outputs": [
    {
     "data": {
      "text/plain": [
       "dict_values(['sajib', 25])"
      ]
     },
     "execution_count": 67,
     "metadata": {},
     "output_type": "execute_result"
    }
   ],
   "source": [
    "dic.values()"
   ]
  },
  {
   "cell_type": "code",
   "execution_count": 69,
   "id": "f7b848e9-e2cd-4f11-9c1f-2c694b9e23d5",
   "metadata": {},
   "outputs": [
    {
     "name": "stdout",
     "output_type": "stream",
     "text": [
      "Requirement already satisfied: pandas in c:\\users\\sajib saha\\appdata\\local\\programs\\python\\python311\\lib\\site-packages (2.2.3)\n",
      "Requirement already satisfied: numpy>=1.23.2 in c:\\users\\sajib saha\\appdata\\local\\programs\\python\\python311\\lib\\site-packages (from pandas) (1.26.4)\n",
      "Requirement already satisfied: python-dateutil>=2.8.2 in c:\\users\\sajib saha\\appdata\\local\\programs\\python\\python311\\lib\\site-packages (from pandas) (2.9.0.post0)\n",
      "Requirement already satisfied: pytz>=2020.1 in c:\\users\\sajib saha\\appdata\\local\\programs\\python\\python311\\lib\\site-packages (from pandas) (2024.2)\n",
      "Requirement already satisfied: tzdata>=2022.7 in c:\\users\\sajib saha\\appdata\\local\\programs\\python\\python311\\lib\\site-packages (from pandas) (2024.2)\n",
      "Requirement already satisfied: six>=1.5 in c:\\users\\sajib saha\\appdata\\local\\programs\\python\\python311\\lib\\site-packages (from python-dateutil>=2.8.2->pandas) (1.16.0)\n"
     ]
    }
   ],
   "source": [
    "!pip install pandas"
   ]
  },
  {
   "cell_type": "code",
   "execution_count": 70,
   "id": "c05cf178-ddb5-4d00-abc2-474f5cbcb051",
   "metadata": {},
   "outputs": [],
   "source": [
    "import pandas as pd "
   ]
  },
  {
   "cell_type": "code",
   "execution_count": 74,
   "id": "500115fb-98d6-40b7-83f5-45123573c118",
   "metadata": {},
   "outputs": [
    {
     "data": {
      "text/html": [
       "<div>\n",
       "<style scoped>\n",
       "    .dataframe tbody tr th:only-of-type {\n",
       "        vertical-align: middle;\n",
       "    }\n",
       "\n",
       "    .dataframe tbody tr th {\n",
       "        vertical-align: top;\n",
       "    }\n",
       "\n",
       "    .dataframe thead th {\n",
       "        text-align: right;\n",
       "    }\n",
       "</style>\n",
       "<table border=\"1\" class=\"dataframe\">\n",
       "  <thead>\n",
       "    <tr style=\"text-align: right;\">\n",
       "      <th></th>\n",
       "      <th>name</th>\n",
       "      <th>age</th>\n",
       "    </tr>\n",
       "  </thead>\n",
       "  <tbody>\n",
       "    <tr>\n",
       "      <th>0</th>\n",
       "      <td>sajib</td>\n",
       "      <td>25</td>\n",
       "    </tr>\n",
       "  </tbody>\n",
       "</table>\n",
       "</div>"
      ],
      "text/plain": [
       "    name  age\n",
       "0  sajib   25"
      ]
     },
     "execution_count": 74,
     "metadata": {},
     "output_type": "execute_result"
    }
   ],
   "source": [
    "df = pd.DataFrame([dic])\n",
    "df"
   ]
  },
  {
   "cell_type": "code",
   "execution_count": 79,
   "id": "bde1e3b9-1df4-4ba1-9346-00f81b01c6f8",
   "metadata": {},
   "outputs": [
    {
     "data": {
      "text/html": [
       "<div>\n",
       "<style scoped>\n",
       "    .dataframe tbody tr th:only-of-type {\n",
       "        vertical-align: middle;\n",
       "    }\n",
       "\n",
       "    .dataframe tbody tr th {\n",
       "        vertical-align: top;\n",
       "    }\n",
       "\n",
       "    .dataframe thead th {\n",
       "        text-align: right;\n",
       "    }\n",
       "</style>\n",
       "<table border=\"1\" class=\"dataframe\">\n",
       "  <thead>\n",
       "    <tr style=\"text-align: right;\">\n",
       "      <th></th>\n",
       "      <th>name</th>\n",
       "      <th>age</th>\n",
       "      <th>grade</th>\n",
       "    </tr>\n",
       "  </thead>\n",
       "  <tbody>\n",
       "    <tr>\n",
       "      <th>0</th>\n",
       "      <td>sajib</td>\n",
       "      <td>25</td>\n",
       "      <td>A+</td>\n",
       "    </tr>\n",
       "    <tr>\n",
       "      <th>1</th>\n",
       "      <td>ryhan</td>\n",
       "      <td>26</td>\n",
       "      <td>A</td>\n",
       "    </tr>\n",
       "    <tr>\n",
       "      <th>2</th>\n",
       "      <td>shovon</td>\n",
       "      <td>27</td>\n",
       "      <td>B+</td>\n",
       "    </tr>\n",
       "  </tbody>\n",
       "</table>\n",
       "</div>"
      ],
      "text/plain": [
       "     name  age grade\n",
       "0   sajib   25    A+\n",
       "1   ryhan   26     A\n",
       "2  shovon   27    B+"
      ]
     },
     "execution_count": 79,
     "metadata": {},
     "output_type": "execute_result"
    }
   ],
   "source": [
    "dic = {\n",
    "    \"name\" : [\"sajib\", \"ryhan\", \"shovon\"],\n",
    "    \"age\"  : [25, 26,27],\n",
    "    \"grade\" : [\"A+\", \"A\", \"B+\"]\n",
    "}\n",
    "df = pd.DataFrame(dic)\n",
    "df"
   ]
  },
  {
   "cell_type": "code",
   "execution_count": 82,
   "id": "6e698090-37ce-4171-8a4c-cee71f0bb1c3",
   "metadata": {},
   "outputs": [
    {
     "name": "stdout",
     "output_type": "stream",
     "text": [
      "{'name': ['sajib', 'ryhan', 'shovon'], 'age': [25, 26, 27], 'grade': ['A+', 'A', 'B+']}\n"
     ]
    }
   ],
   "source": [
    "dic = {\n",
    "    \"name\" : [\"sajib\", \"ryhan\", \"shovon\"],\n",
    "    \"age\"  : [25, 26,27],\n",
    "    \"grade\" : [\"A+\", \"A\", \"B+\"]\n",
    "}\n",
    "print(dic)"
   ]
  },
  {
   "cell_type": "code",
   "execution_count": 85,
   "id": "31b68398-dca6-4cae-b2a3-d879cb00a1fe",
   "metadata": {},
   "outputs": [
    {
     "data": {
      "text/plain": [
       "'sajib'"
      ]
     },
     "execution_count": 85,
     "metadata": {},
     "output_type": "execute_result"
    }
   ],
   "source": [
    "dic[\"name\"][0]"
   ]
  },
  {
   "cell_type": "code",
   "execution_count": 86,
   "id": "52055ac3-d732-48e4-92f9-c02e458f7956",
   "metadata": {},
   "outputs": [
    {
     "data": {
      "text/plain": [
       "'B+'"
      ]
     },
     "execution_count": 86,
     "metadata": {},
     "output_type": "execute_result"
    }
   ],
   "source": [
    "dic[\"grade\"][2]"
   ]
  },
  {
   "cell_type": "code",
   "execution_count": 88,
   "id": "8eb27f43-e3d6-4882-bd6b-35b1cf2e38d2",
   "metadata": {},
   "outputs": [
    {
     "data": {
      "text/html": [
       "<div>\n",
       "<style scoped>\n",
       "    .dataframe tbody tr th:only-of-type {\n",
       "        vertical-align: middle;\n",
       "    }\n",
       "\n",
       "    .dataframe tbody tr th {\n",
       "        vertical-align: top;\n",
       "    }\n",
       "\n",
       "    .dataframe thead th {\n",
       "        text-align: right;\n",
       "    }\n",
       "</style>\n",
       "<table border=\"1\" class=\"dataframe\">\n",
       "  <thead>\n",
       "    <tr style=\"text-align: right;\">\n",
       "      <th></th>\n",
       "      <th>name</th>\n",
       "      <th>age</th>\n",
       "      <th>grade</th>\n",
       "    </tr>\n",
       "  </thead>\n",
       "  <tbody>\n",
       "    <tr>\n",
       "      <th>0</th>\n",
       "      <td>sajib</td>\n",
       "      <td>25</td>\n",
       "      <td>A+</td>\n",
       "    </tr>\n",
       "    <tr>\n",
       "      <th>1</th>\n",
       "      <td>ryhan</td>\n",
       "      <td>26</td>\n",
       "      <td>A</td>\n",
       "    </tr>\n",
       "    <tr>\n",
       "      <th>2</th>\n",
       "      <td>shovon</td>\n",
       "      <td>27</td>\n",
       "      <td>B+</td>\n",
       "    </tr>\n",
       "  </tbody>\n",
       "</table>\n",
       "</div>"
      ],
      "text/plain": [
       "     name  age grade\n",
       "0   sajib   25    A+\n",
       "1   ryhan   26     A\n",
       "2  shovon   27    B+"
      ]
     },
     "execution_count": 88,
     "metadata": {},
     "output_type": "execute_result"
    }
   ],
   "source": [
    "dic = {\n",
    "    \"name\" : [\"sajib\", \"ryhan\", \"shovon\"],\n",
    "    \"age\"  : [25, 26,27],\n",
    "    \"grade\" : [\"A+\", \"A\", \"B+\"]\n",
    "}\n",
    "df = pd.DataFrame(dic)\n",
    "df"
   ]
  },
  {
   "cell_type": "code",
   "execution_count": 90,
   "id": "439984c8-c89a-4f0e-a2b6-42d3e1643bd7",
   "metadata": {},
   "outputs": [
    {
     "name": "stderr",
     "output_type": "stream",
     "text": [
      "C:\\Users\\Sajib Saha\\AppData\\Local\\Temp\\ipykernel_3240\\3488935083.py:1: FutureWarning: ChainedAssignmentError: behaviour will change in pandas 3.0!\n",
      "You are setting values through chained assignment. Currently this works in certain cases, but when using Copy-on-Write (which will become the default behaviour in pandas 3.0) this will never work to update the original DataFrame or Series, because the intermediate object on which we are setting values will behave as a copy.\n",
      "A typical example is when you are setting values in a column of a DataFrame, like:\n",
      "\n",
      "df[\"col\"][row_indexer] = value\n",
      "\n",
      "Use `df.loc[row_indexer, \"col\"] = values` instead, to perform the assignment in a single step and ensure this keeps updating the original `df`.\n",
      "\n",
      "See the caveats in the documentation: https://pandas.pydata.org/pandas-docs/stable/user_guide/indexing.html#returning-a-view-versus-a-copy\n",
      "\n",
      "  df[\"grade\"][2] = \"c+\"\n",
      "C:\\Users\\Sajib Saha\\AppData\\Local\\Temp\\ipykernel_3240\\3488935083.py:1: SettingWithCopyWarning: \n",
      "A value is trying to be set on a copy of a slice from a DataFrame\n",
      "\n",
      "See the caveats in the documentation: https://pandas.pydata.org/pandas-docs/stable/user_guide/indexing.html#returning-a-view-versus-a-copy\n",
      "  df[\"grade\"][2] = \"c+\"\n"
     ]
    }
   ],
   "source": [
    "df[\"grade\"][2] = \"c+\""
   ]
  },
  {
   "cell_type": "code",
   "execution_count": 91,
   "id": "e27740df-a8ad-4425-94c0-ca45752db5bf",
   "metadata": {},
   "outputs": [
    {
     "data": {
      "text/html": [
       "<div>\n",
       "<style scoped>\n",
       "    .dataframe tbody tr th:only-of-type {\n",
       "        vertical-align: middle;\n",
       "    }\n",
       "\n",
       "    .dataframe tbody tr th {\n",
       "        vertical-align: top;\n",
       "    }\n",
       "\n",
       "    .dataframe thead th {\n",
       "        text-align: right;\n",
       "    }\n",
       "</style>\n",
       "<table border=\"1\" class=\"dataframe\">\n",
       "  <thead>\n",
       "    <tr style=\"text-align: right;\">\n",
       "      <th></th>\n",
       "      <th>name</th>\n",
       "      <th>age</th>\n",
       "      <th>grade</th>\n",
       "    </tr>\n",
       "  </thead>\n",
       "  <tbody>\n",
       "    <tr>\n",
       "      <th>0</th>\n",
       "      <td>sajib</td>\n",
       "      <td>25</td>\n",
       "      <td>A+</td>\n",
       "    </tr>\n",
       "    <tr>\n",
       "      <th>1</th>\n",
       "      <td>ryhan</td>\n",
       "      <td>26</td>\n",
       "      <td>A</td>\n",
       "    </tr>\n",
       "    <tr>\n",
       "      <th>2</th>\n",
       "      <td>shovon</td>\n",
       "      <td>27</td>\n",
       "      <td>c+</td>\n",
       "    </tr>\n",
       "  </tbody>\n",
       "</table>\n",
       "</div>"
      ],
      "text/plain": [
       "     name  age grade\n",
       "0   sajib   25    A+\n",
       "1   ryhan   26     A\n",
       "2  shovon   27    c+"
      ]
     },
     "execution_count": 91,
     "metadata": {},
     "output_type": "execute_result"
    }
   ],
   "source": [
    "df"
   ]
  },
  {
   "cell_type": "code",
   "execution_count": 102,
   "id": "f1100031-e0ea-4ccb-a199-620ccfbd00ec",
   "metadata": {},
   "outputs": [
    {
     "data": {
      "text/plain": [
       "{0: 10, 1: 25}"
      ]
     },
     "execution_count": 102,
     "metadata": {},
     "output_type": "execute_result"
    }
   ],
   "source": [
    "a = {0: 10, 1: 25}\n",
    "a"
   ]
  },
  {
   "cell_type": "code",
   "execution_count": 103,
   "id": "303bf19f-7f19-4c30-90eb-920c10765c33",
   "metadata": {},
   "outputs": [
    {
     "data": {
      "text/plain": [
       "{0: 10, 1: 21}"
      ]
     },
     "execution_count": 103,
     "metadata": {},
     "output_type": "execute_result"
    }
   ],
   "source": [
    "a[1]= 21\n",
    "a"
   ]
  },
  {
   "cell_type": "code",
   "execution_count": 104,
   "id": "e8af54e9-bace-451a-ad72-32aff90d0ec9",
   "metadata": {},
   "outputs": [
    {
     "data": {
      "text/plain": [
       "{'hello': 5, 'hi': 10}"
      ]
     },
     "execution_count": 104,
     "metadata": {},
     "output_type": "execute_result"
    }
   ],
   "source": [
    "b  = {\"hello\": 5, \"hi\": 10}\n",
    "b"
   ]
  },
  {
   "cell_type": "code",
   "execution_count": 106,
   "id": "8a69c401-e389-43ff-a10a-cb4947981edb",
   "metadata": {},
   "outputs": [
    {
     "data": {
      "text/plain": [
       "{0: 10, 1: 21, 'hello': 5, 'hi': 10}"
      ]
     },
     "execution_count": 106,
     "metadata": {},
     "output_type": "execute_result"
    }
   ],
   "source": [
    "a.update(b)\n",
    "a"
   ]
  },
  {
   "cell_type": "code",
   "execution_count": 107,
   "id": "eae502a3-00dc-4906-b33a-068fe6f79423",
   "metadata": {},
   "outputs": [
    {
     "data": {
      "text/plain": [
       "{'nice': 5, 'noob': 8}"
      ]
     },
     "execution_count": 107,
     "metadata": {},
     "output_type": "execute_result"
    }
   ],
   "source": [
    "c = {\"nice\": 5,\"noob\": 8}\n",
    "c"
   ]
  },
  {
   "cell_type": "code",
   "execution_count": 110,
   "id": "516832f1-922e-4738-85ad-b68bb14b49f9",
   "metadata": {},
   "outputs": [
    {
     "name": "stdout",
     "output_type": "stream",
     "text": [
      "{0: 10, 1: 21, 'hello': 5, 'hi': 10, 'nice': 5, 'noob': 8}\n"
     ]
    }
   ],
   "source": [
    "dic1 = {}\n",
    "for i in(a,b,c):\n",
    "    #$print(i)\n",
    "    dic1.update(i)\n",
    "print(dic1)"
   ]
  },
  {
   "cell_type": "code",
   "execution_count": 118,
   "id": "85978c76-c301-4fbd-9499-0b75e3465b6a",
   "metadata": {},
   "outputs": [
    {
     "name": "stdout",
     "output_type": "stream",
     "text": [
      "false\n",
      "false\n",
      "true\n",
      "false\n",
      "false\n",
      "false\n"
     ]
    }
   ],
   "source": [
    "a = {0: 10, 1: 21, 'hello': 5, 'hi': 10, 'nice': 5, 'noob': 8}\n",
    "n = \"hello\"\n",
    "for i in a:\n",
    "    #print(i)\n",
    "    if i == n:\n",
    "        print(\"true\")\n",
    "        continue\n",
    "    else:\n",
    "        print(\"false\")"
   ]
  },
  {
   "cell_type": "code",
   "execution_count": 129,
   "id": "2e4c069f-4b4b-461d-afe5-23b6b9060ace",
   "metadata": {},
   "outputs": [
    {
     "name": "stdout",
     "output_type": "stream",
     "text": [
      "10 ||| 0\n",
      "21 ||| 1\n",
      "5 ||| hello\n",
      "10 ||| hi\n",
      "5 ||| nice\n",
      "8 ||| noob\n"
     ]
    }
   ],
   "source": [
    "a = {0: 10, 1: 21, 'hello': 5, 'hi': 10, 'nice': 5, 'noob': 8}\n",
    "for i, j in a.items():\n",
    "    print(j ,\"|||\", i)"
   ]
  },
  {
   "cell_type": "code",
   "execution_count": 128,
   "id": "5afc5ce3-0b01-49de-9f9a-f35392393efb",
   "metadata": {},
   "outputs": [
    {
     "name": "stdout",
     "output_type": "stream",
     "text": [
      "ml\n",
      "sajib\n"
     ]
    }
   ],
   "source": [
    "a = {0: 10, 1: 21, 'hello': 5, 'hi': 10, 'nice': 5, 'noob': 8}\n",
    "n = 21\n",
    "for value in a.values():\n",
    "    #print(value)\n",
    "    if value == 21:\n",
    "        print(\"sajib\")\n",
    "        break\n",
    "    else:\n",
    "        print(\"ml\")"
   ]
  },
  {
   "cell_type": "code",
   "execution_count": 132,
   "id": "0dd69344-0fac-45ec-847f-54ba6714b438",
   "metadata": {},
   "outputs": [
    {
     "name": "stdout",
     "output_type": "stream",
     "text": [
      "yes\n"
     ]
    }
   ],
   "source": [
    "a = {0: 10, 1: 21, 'hello': 5, 'hi': 10, 'nice': 5, 'noob': 8}\n",
    "n = \"hello\"\n",
    "for key in a.keys():\n",
    "    #print(value)\n",
    "    if key == n:\n",
    "        print(\"yes\")\n",
    "        break\n",
    "    #else:\n",
    "        #print(\"no\")"
   ]
  },
  {
   "cell_type": "code",
   "execution_count": 133,
   "id": "af341c07-e8eb-4263-9d6c-a7471a59fa0b",
   "metadata": {},
   "outputs": [
    {
     "name": "stdout",
     "output_type": "stream",
     "text": [
      "{1: 1, 2: 4, 3: 27, 4: 256, 5: 3125, 6: 46656}\n"
     ]
    }
   ],
   "source": [
    "dic = {}\n",
    "n  = 6\n",
    "for i in range(1, n+1):\n",
    "    dic[i] = i**i\n",
    "print(dic)"
   ]
  },
  {
   "cell_type": "code",
   "execution_count": 135,
   "id": "ad40719b-a34d-4c20-8769-f235f8ef3151",
   "metadata": {},
   "outputs": [
    {
     "data": {
      "text/plain": [
       "{'one': 1, 'three': 3, 'two': 2, 'zero': 0}"
      ]
     },
     "execution_count": 135,
     "metadata": {},
     "output_type": "execute_result"
    }
   ],
   "source": [
    "a = {\"one\" :1, \"three\": 3, \"two\": 2, \"zero\": 0}\n",
    "a"
   ]
  },
  {
   "cell_type": "code",
   "execution_count": 136,
   "id": "03fa5ac1-0deb-43c0-b15b-4621397477b0",
   "metadata": {},
   "outputs": [
    {
     "name": "stdout",
     "output_type": "stream",
     "text": [
      "1\n",
      "3\n",
      "2\n",
      "0\n"
     ]
    }
   ],
   "source": [
    "for i in a.values():\n",
    "    print(i)\n",
    "    "
   ]
  },
  {
   "cell_type": "code",
   "execution_count": 140,
   "id": "d11ec2d1-f7a8-47ee-845f-db47240f3e8d",
   "metadata": {},
   "outputs": [
    {
     "data": {
      "text/plain": [
       "[3, 2, 1, 0]"
      ]
     },
     "execution_count": 140,
     "metadata": {},
     "output_type": "execute_result"
    }
   ],
   "source": [
    "val = list(a.values())\n",
    "val.sort(reverse= True)\n",
    "val"
   ]
  },
  {
   "cell_type": "code",
   "execution_count": 148,
   "id": "610c572f-c135-4d2e-b227-4a55bc3bba89",
   "metadata": {},
   "outputs": [
    {
     "name": "stdout",
     "output_type": "stream",
     "text": [
      "one\n",
      "three\n",
      "matched three 3\n",
      "two\n",
      "zero\n",
      "one\n",
      "three\n",
      "two\n",
      "matched two 2\n",
      "zero\n",
      "one\n",
      "matched one 1\n",
      "three\n",
      "two\n",
      "zero\n",
      "one\n",
      "three\n",
      "two\n",
      "zero\n",
      "matched zero 0\n"
     ]
    }
   ],
   "source": [
    "for value in val:\n",
    "    for key in a:\n",
    "        print(key)\n",
    "        if a[key]== value:\n",
    "            print(\"matched\", key,value)\n",
    "a = {\"one\" :1, \"three\": 3, \"two\": 2, \"zero\": 0}"
   ]
  },
  {
   "cell_type": "code",
   "execution_count": 149,
   "id": "850bed43-f35c-4950-a7cf-7e710dc1c3c6",
   "metadata": {},
   "outputs": [
    {
     "name": "stdout",
     "output_type": "stream",
     "text": [
      "6\n"
     ]
    }
   ],
   "source": [
    "total = 0\n",
    "for i in a.values():\n",
    "    total = total + i\n",
    "print(total)"
   ]
  },
  {
   "cell_type": "code",
   "execution_count": 150,
   "id": "9ba0f225-2778-483f-bf72-ac3053fad7b4",
   "metadata": {},
   "outputs": [
    {
     "data": {
      "text/plain": [
       "{'one': 8, 'three': 3, 'two': 2, 'zero': 0}"
      ]
     },
     "execution_count": 150,
     "metadata": {},
     "output_type": "execute_result"
    }
   ],
   "source": [
    "a = {\"one\" :1, \"three\": 3, \"two\": 2, \"zero\": 0, \"one\": 8}\n",
    "a"
   ]
  },
  {
   "cell_type": "code",
   "execution_count": 151,
   "id": "1b86bea1-c3bd-43d9-bac0-89f5fadf8943",
   "metadata": {},
   "outputs": [
    {
     "name": "stdout",
     "output_type": "stream",
     "text": [
      "{'one': 8, 'two': 2, 'zero': 0}\n"
     ]
    }
   ],
   "source": [
    "if \"three\" in a:\n",
    "    del a[\"three\"]\n",
    "print(a)"
   ]
  },
  {
   "cell_type": "code",
   "execution_count": 152,
   "id": "27bed2df-6693-48ca-9df4-7ea38e00bdc1",
   "metadata": {},
   "outputs": [
    {
     "data": {
      "text/plain": [
       "{'one': 8, 'two': 2, 'zero': 0}"
      ]
     },
     "execution_count": 152,
     "metadata": {},
     "output_type": "execute_result"
    }
   ],
   "source": [
    "a"
   ]
  },
  {
   "cell_type": "code",
   "execution_count": 153,
   "id": "2c52cd86-e83b-49d7-823d-76c9063a9f37",
   "metadata": {},
   "outputs": [
    {
     "data": {
      "text/plain": [
       "{'one': 8, 'two': 2, 'zero': 0, 'five': 5}"
      ]
     },
     "execution_count": 153,
     "metadata": {},
     "output_type": "execute_result"
    }
   ],
   "source": [
    "a[\"five\"] = 5\n",
    "a"
   ]
  },
  {
   "cell_type": "code",
   "execution_count": 159,
   "id": "4143be88-e2e7-4215-ae54-22982596c7de",
   "metadata": {},
   "outputs": [
    {
     "data": {
      "text/plain": [
       "{'red': '#00100f', 'green': '#0001f', 'blue': '#000012f'}"
      ]
     },
     "execution_count": 159,
     "metadata": {},
     "output_type": "execute_result"
    }
   ],
   "source": [
    "key = [\"red\", \"green\", \"blue\"]\n",
    "val = [\"#00100f\", \"#0001f\", \"#000012f\"]\n",
    "new = dict(zip(key,val))\n",
    "new"
   ]
  },
  {
   "cell_type": "code",
   "execution_count": 161,
   "id": "b4f65839-9b87-40db-90f3-f834a872ba86",
   "metadata": {},
   "outputs": [
    {
     "data": {
      "text/plain": [
       "[('blue', '#000012f'), ('green', '#0001f'), ('red', '#00100f')]"
      ]
     },
     "execution_count": 161,
     "metadata": {},
     "output_type": "execute_result"
    }
   ],
   "source": [
    "color_dic= {\n",
    "    \"red\" : \"#00100f\",\n",
    "    \"green\" :\"#0001f\",\n",
    "    \"blue\" :\"#000012f\"\n",
    "}\n",
    "sor_dic = sorted(color_dic.items()) # convert it into dictionary \n",
    "sor_dic"
   ]
  },
  {
   "cell_type": "code",
   "execution_count": null,
   "id": "bf891eaf-bdc3-4d03-a21f-b58f8fb51085",
   "metadata": {},
   "outputs": [],
   "source": [
    "color_dic= {\n",
    "    \"red\" : \"#00100f\",\n",
    "    \"green\" :\"#0001f\",\n",
    "    \"blue\" :\"#000012f\"\n",
    "}\n",
    "# sort it by key"
   ]
  }
 ],
 "metadata": {
  "kernelspec": {
   "display_name": "Python 3 (ipykernel)",
   "language": "python",
   "name": "python3"
  },
  "language_info": {
   "codemirror_mode": {
    "name": "ipython",
    "version": 3
   },
   "file_extension": ".py",
   "mimetype": "text/x-python",
   "name": "python",
   "nbconvert_exporter": "python",
   "pygments_lexer": "ipython3",
   "version": "3.11.4"
  }
 },
 "nbformat": 4,
 "nbformat_minor": 5
}
