{
 "cells": [
  {
   "cell_type": "code",
   "execution_count": 12,
   "id": "3f893199-04cc-4fe6-90b1-703984c246df",
   "metadata": {},
   "outputs": [
    {
     "name": "stdin",
     "output_type": "stream",
     "text": [
      "enter your age::-- a\n"
     ]
    },
    {
     "ename": "ValueError",
     "evalue": "invalid literal for int() with base 10: 'a'",
     "output_type": "error",
     "traceback": [
      "\u001b[1;31m---------------------------------------------------------------------------\u001b[0m",
      "\u001b[1;31mValueError\u001b[0m                                Traceback (most recent call last)",
      "Cell \u001b[1;32mIn[12], line 1\u001b[0m\n\u001b[1;32m----> 1\u001b[0m a \u001b[38;5;241m=\u001b[39m \u001b[38;5;28;43mint\u001b[39;49m\u001b[43m(\u001b[49m\u001b[38;5;28;43minput\u001b[39;49m\u001b[43m(\u001b[49m\u001b[38;5;124;43m\"\u001b[39;49m\u001b[38;5;124;43menter your age::--\u001b[39;49m\u001b[38;5;124;43m\"\u001b[39;49m\u001b[43m)\u001b[49m\u001b[43m)\u001b[49m\n\u001b[0;32m      2\u001b[0m a\n",
      "\u001b[1;31mValueError\u001b[0m: invalid literal for int() with base 10: 'a'"
     ]
    }
   ],
   "source": [
    "a = int(input(\"enter your age::--\"))\n",
    "a"
   ]
  },
  {
   "cell_type": "code",
   "execution_count": 2,
   "id": "3ce961f3-90b7-43cc-a4ca-a8a5848facfc",
   "metadata": {},
   "outputs": [
    {
     "name": "stdin",
     "output_type": "stream",
     "text": [
      "enter your age::-- thirteen\n"
     ]
    },
    {
     "ename": "ValueError",
     "evalue": "invalid literal for int() with base 10: 'thirteen'",
     "output_type": "error",
     "traceback": [
      "\u001b[1;31m---------------------------------------------------------------------------\u001b[0m",
      "\u001b[1;31mValueError\u001b[0m                                Traceback (most recent call last)",
      "Cell \u001b[1;32mIn[2], line 1\u001b[0m\n\u001b[1;32m----> 1\u001b[0m a \u001b[38;5;241m=\u001b[39m \u001b[38;5;28;43mint\u001b[39;49m\u001b[43m(\u001b[49m\u001b[38;5;28;43minput\u001b[39;49m\u001b[43m(\u001b[49m\u001b[38;5;124;43m\"\u001b[39;49m\u001b[38;5;124;43menter your age::--\u001b[39;49m\u001b[38;5;124;43m\"\u001b[39;49m\u001b[43m)\u001b[49m\u001b[43m)\u001b[49m\n\u001b[0;32m      2\u001b[0m a\n",
      "\u001b[1;31mValueError\u001b[0m: invalid literal for int() with base 10: 'thirteen'"
     ]
    }
   ],
   "source": [
    "a = int(input(\"enter your age::--\"))\n",
    "a"
   ]
  },
  {
   "cell_type": "code",
   "execution_count": 7,
   "id": "aed1a31b-1d9e-4b06-81a6-4b5928527187",
   "metadata": {},
   "outputs": [
    {
     "name": "stdin",
     "output_type": "stream",
     "text": [
      "enter any number::-- 0\n"
     ]
    },
    {
     "ename": "ZeroDivisionError",
     "evalue": "division by zero",
     "output_type": "error",
     "traceback": [
      "\u001b[1;31m---------------------------------------------------------------------------\u001b[0m",
      "\u001b[1;31mZeroDivisionError\u001b[0m                         Traceback (most recent call last)",
      "Cell \u001b[1;32mIn[7], line 2\u001b[0m\n\u001b[0;32m      1\u001b[0m a \u001b[38;5;241m=\u001b[39m \u001b[38;5;28mint\u001b[39m(\u001b[38;5;28minput\u001b[39m(\u001b[38;5;124m\"\u001b[39m\u001b[38;5;124menter any number::--\u001b[39m\u001b[38;5;124m\"\u001b[39m))\n\u001b[1;32m----> 2\u001b[0m res\u001b[38;5;241m=\u001b[39m \u001b[38;5;241;43m10\u001b[39;49m\u001b[38;5;241;43m/\u001b[39;49m\u001b[43ma\u001b[49m\n\u001b[0;32m      3\u001b[0m res\n",
      "\u001b[1;31mZeroDivisionError\u001b[0m: division by zero"
     ]
    }
   ],
   "source": [
    "a = int(input(\"enter any number::--\"))\n",
    "res= 10/a\n",
    "res"
   ]
  },
  {
   "cell_type": "code",
   "execution_count": 5,
   "id": "9024fd61-5aa7-4d64-bed3-735e3d26dc83",
   "metadata": {},
   "outputs": [],
   "source": [
    "# try\n",
    "#except\n",
    "#finally"
   ]
  },
  {
   "cell_type": "code",
   "execution_count": 11,
   "id": "580de881-ff70-4501-9899-1ff912938f58",
   "metadata": {},
   "outputs": [
    {
     "name": "stdin",
     "output_type": "stream",
     "text": [
      "enter your age::-- a\n"
     ]
    },
    {
     "name": "stdout",
     "output_type": "stream",
     "text": [
      "Error: please enter a valid integer number\n"
     ]
    }
   ],
   "source": [
    "try:\n",
    "    a = int(input(\"enter your age::--\"))\n",
    "    print(a)\n",
    "except ValueError:\n",
    "    print(\"Error: please enter a valid integer number\")"
   ]
  },
  {
   "cell_type": "code",
   "execution_count": 19,
   "id": "55fef29c-6104-41f4-9a34-572320e4614b",
   "metadata": {},
   "outputs": [
    {
     "name": "stdin",
     "output_type": "stream",
     "text": [
      "enter any number::-- 0\n"
     ]
    },
    {
     "name": "stdout",
     "output_type": "stream",
     "text": [
      "Error: can't dividable by 0\n",
      "this is the end \n"
     ]
    }
   ],
   "source": [
    "try:\n",
    "    a = int(input(\"enter any number::--\"))\n",
    "    res= 10/a\n",
    "    print(\"the division of the value is::-\", res)\n",
    "except ValueError:\n",
    "    print('Error: please enter a valid integer number')\n",
    "except ZeroDivisionError:\n",
    "    print(\"Error: can't dividable by 0\")\n",
    "finally:\n",
    "    print('this is the end ')"
   ]
  },
  {
   "cell_type": "code",
   "execution_count": 20,
   "id": "d2e602da-b8e3-422c-8473-8b61ea1193bd",
   "metadata": {},
   "outputs": [
    {
     "name": "stdout",
     "output_type": "stream",
     "text": [
      "{'name': 'sajib', 'age': 20}\n"
     ]
    }
   ],
   "source": [
    "data = {\"name\": \"sajib\", \"age\": 20}\n",
    "print(data)"
   ]
  },
  {
   "cell_type": "code",
   "execution_count": 21,
   "id": "b98329aa-8fb7-44b8-aed2-4ba5b7970aed",
   "metadata": {},
   "outputs": [
    {
     "data": {
      "text/plain": [
       "dict"
      ]
     },
     "execution_count": 21,
     "metadata": {},
     "output_type": "execute_result"
    }
   ],
   "source": [
    "type(data)"
   ]
  },
  {
   "cell_type": "code",
   "execution_count": 24,
   "id": "05f44af5-d175-436d-96ff-bf96aa13956f",
   "metadata": {},
   "outputs": [
    {
     "ename": "KeyError",
     "evalue": "'gender'",
     "output_type": "error",
     "traceback": [
      "\u001b[1;31m---------------------------------------------------------------------------\u001b[0m",
      "\u001b[1;31mKeyError\u001b[0m                                  Traceback (most recent call last)",
      "Cell \u001b[1;32mIn[24], line 1\u001b[0m\n\u001b[1;32m----> 1\u001b[0m \u001b[38;5;28mprint\u001b[39m(\u001b[43mdata\u001b[49m\u001b[43m[\u001b[49m\u001b[38;5;124;43m'\u001b[39;49m\u001b[38;5;124;43mgender\u001b[39;49m\u001b[38;5;124;43m'\u001b[39;49m\u001b[43m]\u001b[49m)\n",
      "\u001b[1;31mKeyError\u001b[0m: 'gender'"
     ]
    }
   ],
   "source": [
    "print(data['gender'])"
   ]
  },
  {
   "cell_type": "code",
   "execution_count": 26,
   "id": "a8dbc5a1-b9de-4455-a3b1-8d8111d54f23",
   "metadata": {},
   "outputs": [
    {
     "name": "stdout",
     "output_type": "stream",
     "text": [
      "sajib\n"
     ]
    }
   ],
   "source": [
    "try: \n",
    "    data = {\"name\": \"sajib\", \"age\": 20}\n",
    "    print(data['name'])\n",
    "except KeyError:\n",
    "    print(\"Error: please enter a valid key to access\")"
   ]
  },
  {
   "cell_type": "code",
   "execution_count": 33,
   "id": "b3c80f4f-7ef3-45aa-95fb-5f2d7bfb8658",
   "metadata": {},
   "outputs": [
    {
     "ename": "IndexError",
     "evalue": "list index out of range",
     "output_type": "error",
     "traceback": [
      "\u001b[1;31m---------------------------------------------------------------------------\u001b[0m",
      "\u001b[1;31mIndexError\u001b[0m                                Traceback (most recent call last)",
      "Cell \u001b[1;32mIn[33], line 2\u001b[0m\n\u001b[0;32m      1\u001b[0m n \u001b[38;5;241m=\u001b[39m [\u001b[38;5;241m1\u001b[39m,\u001b[38;5;241m2\u001b[39m,\u001b[38;5;241m3\u001b[39m,\u001b[38;5;241m4\u001b[39m,\u001b[38;5;241m5\u001b[39m]\n\u001b[1;32m----> 2\u001b[0m \u001b[38;5;28mprint\u001b[39m(\u001b[43mn\u001b[49m\u001b[43m[\u001b[49m\u001b[38;5;241;43m7\u001b[39;49m\u001b[43m]\u001b[49m)\n",
      "\u001b[1;31mIndexError\u001b[0m: list index out of range"
     ]
    }
   ],
   "source": [
    "n = [1,2,3,4,5]\n",
    "print(n[7])"
   ]
  },
  {
   "cell_type": "code",
   "execution_count": 34,
   "id": "b4b5e087-fe22-4325-ba5f-59df99a316dc",
   "metadata": {},
   "outputs": [
    {
     "name": "stdout",
     "output_type": "stream",
     "text": [
      "3\n"
     ]
    }
   ],
   "source": [
    "try:\n",
    "    n = [1,2,3,4,5]\n",
    "    print(n[2])\n",
    "except IndexError:\n",
    "    print(\"error: enter a valid slice value\")"
   ]
  },
  {
   "cell_type": "code",
   "execution_count": 39,
   "id": "faca86a4-1e8f-4ed5-a313-e51c0bbfd12d",
   "metadata": {},
   "outputs": [
    {
     "ename": "TypeError",
     "evalue": "can only concatenate str (not \"int\") to str",
     "output_type": "error",
     "traceback": [
      "\u001b[1;31m---------------------------------------------------------------------------\u001b[0m",
      "\u001b[1;31mTypeError\u001b[0m                                 Traceback (most recent call last)",
      "Cell \u001b[1;32mIn[39], line 5\u001b[0m\n\u001b[0;32m      2\u001b[0m b \u001b[38;5;241m=\u001b[39m \u001b[38;5;241m21\u001b[39m\n\u001b[0;32m      3\u001b[0m c \u001b[38;5;241m=\u001b[39m \u001b[38;5;124m'\u001b[39m\u001b[38;5;124mman\u001b[39m\u001b[38;5;124m'\u001b[39m\n\u001b[1;32m----> 5\u001b[0m \u001b[38;5;28mprint\u001b[39m(\u001b[43ma\u001b[49m\u001b[43m \u001b[49m\u001b[38;5;241;43m+\u001b[39;49m\u001b[43m \u001b[49m\u001b[38;5;124;43m\"\u001b[39;49m\u001b[38;5;124;43m \u001b[39;49m\u001b[38;5;124;43m\"\u001b[39;49m\u001b[43m \u001b[49m\u001b[38;5;241;43m+\u001b[39;49m\u001b[43mc\u001b[49m\u001b[43m \u001b[49m\u001b[38;5;241;43m+\u001b[39;49m\u001b[38;5;124;43m\"\u001b[39;49m\u001b[38;5;124;43m \u001b[39;49m\u001b[38;5;124;43m\"\u001b[39;49m\u001b[38;5;241;43m+\u001b[39;49m\u001b[43mb\u001b[49m)\n",
      "\u001b[1;31mTypeError\u001b[0m: can only concatenate str (not \"int\") to str"
     ]
    }
   ],
   "source": [
    "a = \"akib\"\n",
    "b = 21\n",
    "c = 'man'\n",
    "\n",
    "print(a + \" \" +c +\" \"+b)"
   ]
  },
  {
   "cell_type": "code",
   "execution_count": 40,
   "id": "4586ae5e-afbd-425f-8bf2-b0676b412184",
   "metadata": {},
   "outputs": [
    {
     "name": "stdout",
     "output_type": "stream",
     "text": [
      "error: invalid concatenation\n"
     ]
    }
   ],
   "source": [
    "try:\n",
    "    a = \"akib\"\n",
    "    b = 21\n",
    "    c = 'man'\n",
    "\n",
    "    print(a + \" \" +c +\" \"+b)\n",
    "except TypeError:\n",
    "    print(\"error: invalid concatenation\")"
   ]
  },
  {
   "cell_type": "code",
   "execution_count": 47,
   "id": "da95db46-aa68-4d51-ad97-975938725e01",
   "metadata": {},
   "outputs": [
    {
     "name": "stdin",
     "output_type": "stream",
     "text": [
      "enter a number a\n"
     ]
    },
    {
     "name": "stdout",
     "output_type": "stream",
     "text": [
      "Error: please enter a valid integer number\n",
      "the execusion is complete\n"
     ]
    }
   ],
   "source": [
    "try:\n",
    "    num = int(input(\"enter a number\"))\n",
    "    result = 10/num\n",
    "except ValueError:\n",
    "    print('Error: please enter a valid integer number')\n",
    "except ZeroDivisionError:\n",
    "    print(\"Error: can't dividable by 0\")\n",
    "except TypeError:\n",
    "    print(\"error: invalid concatenation\")\n",
    "else:\n",
    "    print(\"result is \", result)\n",
    "finally:\n",
    "    print(\"the execusion is complete\")"
   ]
  },
  {
   "cell_type": "code",
   "execution_count": 64,
   "id": "679beb33-87f3-4969-9c92-4d39ecce7d09",
   "metadata": {},
   "outputs": [
    {
     "name": "stdout",
     "output_type": "stream",
     "text": [
      "Select operation:\n",
      "1. Add\n",
      "2. Subtract\n",
      "3. Multiply\n",
      "4. Divide\n"
     ]
    },
    {
     "name": "stdin",
     "output_type": "stream",
     "text": [
      "Enter choice (1/2/3/4):  2\n",
      "Enter first number:  ki\n",
      "Enter second number:  2\n"
     ]
    },
    {
     "name": "stdout",
     "output_type": "stream",
     "text": [
      "Invalid input. Please enter numeric values.\n"
     ]
    }
   ],
   "source": [
    "def calculator():\n",
    "    print(\"Select operation:\")\n",
    "    print(\"1. Add\")\n",
    "    print(\"2. Subtract\")\n",
    "    print(\"3. Multiply\")\n",
    "    print(\"4. Divide\")\n",
    "\n",
    "    # Take input from the user\n",
    "    choice = input(\"Enter choice (1/2/3/4): \")\n",
    "\n",
    "    if choice in ['1', '2', '3', '4']:\n",
    "        num1 = input(\"Enter first number: \")\n",
    "        num2 = input(\"Enter second number: \")\n",
    "\n",
    "        # Check if the inputs are numeric\n",
    "        if not num1.replace('.', '', 1).isdigit() or not num2.replace('.', '', 1).isdigit():\n",
    "            print(\"Invalid input. Please enter numeric values.\")\n",
    "            return\n",
    "\n",
    "        num1 = float(num1)\n",
    "        num2 = float(num2) #type casting \n",
    "\n",
    "        if choice == '1':\n",
    "            print(f\"The result is: {num1 + num2}\")\n",
    "        elif choice == '2':\n",
    "            print(f\"The result is: {num1 - num2}\")\n",
    "        elif choice == '3':\n",
    "            print(f\"The result is: {num1 * num2}\")\n",
    "        elif choice == '4':\n",
    "            if num2 != 0:\n",
    "                print(f\"The result is: {num1 / num2}\")\n",
    "            else:\n",
    "                print(\"Error! Division by zero.\")\n",
    "    else:\n",
    "        print(\"Invalid choice. Please select 1, 2, 3, or 4.\")\n",
    "\n",
    "# Call the calculator function\n",
    "calculator()"
   ]
  },
  {
   "cell_type": "code",
   "execution_count": 50,
   "id": "70115188-43af-4b86-ab2a-8941da733212",
   "metadata": {},
   "outputs": [
    {
     "name": "stdout",
     "output_type": "stream",
     "text": [
      "True\n"
     ]
    }
   ],
   "source": [
    "print(\"123\".isdigit())"
   ]
  },
  {
   "cell_type": "code",
   "execution_count": 51,
   "id": "6c8e8fe1-27a5-476e-9351-b63f17504eea",
   "metadata": {},
   "outputs": [
    {
     "name": "stdout",
     "output_type": "stream",
     "text": [
      "False\n"
     ]
    }
   ],
   "source": [
    "print(\"123a\".isdigit())"
   ]
  },
  {
   "cell_type": "code",
   "execution_count": 71,
   "id": "4ecde3ca-84df-4c77-b343-bdbb50cb41cb",
   "metadata": {},
   "outputs": [
    {
     "name": "stdout",
     "output_type": "stream",
     "text": [
      "Select operation:\n",
      "1. Add\n",
      "2. Subtract\n",
      "3. Multiply\n",
      "4. Divide\n"
     ]
    },
    {
     "name": "stdin",
     "output_type": "stream",
     "text": [
      "Enter choice (1/2/3/4):  2\n",
      "Enter first number:  2\n",
      "Enter second number:  a\n"
     ]
    },
    {
     "name": "stdout",
     "output_type": "stream",
     "text": [
      "Error: please enter a valid numeric number\n"
     ]
    }
   ],
   "source": [
    "def calculator1():\n",
    "    print(\"Select operation:\")\n",
    "    print(\"1. Add\")\n",
    "    print(\"2. Subtract\")\n",
    "    print(\"3. Multiply\")\n",
    "    print(\"4. Divide\")\n",
    "\n",
    "    # Take input from the user\n",
    "    choice1 = input(\"Enter choice (1/2/3/4): \")\n",
    "\n",
    "    if choice1 in ['1', '2', '3', '4']:\n",
    "        try:\n",
    "            num11 = float(input(\"Enter first number: \"))\n",
    "            num22 = float(input(\"Enter second number: \"))\n",
    "        except ValueError:\n",
    "            print(\"Error: please enter a valid numeric number\")\n",
    "            return\n",
    "\n",
    "        if choice1 == '1':\n",
    "            print(f\"The result is: {num11 + num22}\")\n",
    "        elif choice1 == '2':\n",
    "            print(f\"The result is: {num11 - num22}\")\n",
    "        elif choice1 == '3':\n",
    "            print(f\"The result is: {num11 * num22}\")\n",
    "        elif choice1 == '4':\n",
    "            if num2 != 0:\n",
    "                print(f\"The result is: {num11/ num22}\")\n",
    "            else:\n",
    "                print(\"Error! Division by zero.\")\n",
    "    else:\n",
    "        print(\"Invalid choice. Please select 1, 2, 3, or 4.\")\n",
    "\n",
    "# Call the calculator function\n",
    "calculator1()"
   ]
  },
  {
   "cell_type": "code",
   "execution_count": 74,
   "id": "bd670880-1e0b-4783-9185-734054f74b10",
   "metadata": {},
   "outputs": [
    {
     "name": "stdout",
     "output_type": "stream",
     "text": [
      "Select operation:\n",
      "1. Add\n",
      "2. Subtract\n",
      "3. Multiply\n",
      "4. Divide\n"
     ]
    },
    {
     "name": "stdin",
     "output_type": "stream",
     "text": [
      "Enter choice (1/2/3/4):  2\n",
      "Enter first number:  2\n",
      "Enter second number:  g\n"
     ]
    },
    {
     "ename": "ValueError",
     "evalue": "invalid literal for int() with base 10: 'g'",
     "output_type": "error",
     "traceback": [
      "\u001b[1;31m---------------------------------------------------------------------------\u001b[0m",
      "\u001b[1;31mValueError\u001b[0m                                Traceback (most recent call last)",
      "Cell \u001b[1;32mIn[74], line 31\u001b[0m\n\u001b[0;32m     28\u001b[0m         \u001b[38;5;28mprint\u001b[39m(\u001b[38;5;124m\"\u001b[39m\u001b[38;5;124mInvalid choice. Please select 1, 2, 3, or 4.\u001b[39m\u001b[38;5;124m\"\u001b[39m)\n\u001b[0;32m     30\u001b[0m \u001b[38;5;66;03m# Call the calculator function\u001b[39;00m\n\u001b[1;32m---> 31\u001b[0m \u001b[43mcalculator\u001b[49m\u001b[43m(\u001b[49m\u001b[43m)\u001b[49m\n",
      "Cell \u001b[1;32mIn[74], line 13\u001b[0m, in \u001b[0;36mcalculator\u001b[1;34m()\u001b[0m\n\u001b[0;32m     11\u001b[0m \u001b[38;5;28;01mif\u001b[39;00m choice \u001b[38;5;129;01min\u001b[39;00m [\u001b[38;5;124m'\u001b[39m\u001b[38;5;124m1\u001b[39m\u001b[38;5;124m'\u001b[39m, \u001b[38;5;124m'\u001b[39m\u001b[38;5;124m2\u001b[39m\u001b[38;5;124m'\u001b[39m, \u001b[38;5;124m'\u001b[39m\u001b[38;5;124m3\u001b[39m\u001b[38;5;124m'\u001b[39m, \u001b[38;5;124m'\u001b[39m\u001b[38;5;124m4\u001b[39m\u001b[38;5;124m'\u001b[39m]:\n\u001b[0;32m     12\u001b[0m     num1 \u001b[38;5;241m=\u001b[39m \u001b[38;5;28mint\u001b[39m(\u001b[38;5;28minput\u001b[39m(\u001b[38;5;124m\"\u001b[39m\u001b[38;5;124mEnter first number: \u001b[39m\u001b[38;5;124m\"\u001b[39m))\n\u001b[1;32m---> 13\u001b[0m     num2 \u001b[38;5;241m=\u001b[39m \u001b[38;5;28;43mint\u001b[39;49m\u001b[43m(\u001b[49m\u001b[38;5;28;43minput\u001b[39;49m\u001b[43m(\u001b[49m\u001b[38;5;124;43m\"\u001b[39;49m\u001b[38;5;124;43mEnter second number: \u001b[39;49m\u001b[38;5;124;43m\"\u001b[39;49m\u001b[43m)\u001b[49m\u001b[43m)\u001b[49m\n\u001b[0;32m     16\u001b[0m     \u001b[38;5;28;01mif\u001b[39;00m choice \u001b[38;5;241m==\u001b[39m \u001b[38;5;124m'\u001b[39m\u001b[38;5;124m1\u001b[39m\u001b[38;5;124m'\u001b[39m:\n\u001b[0;32m     17\u001b[0m         \u001b[38;5;28mprint\u001b[39m(\u001b[38;5;124mf\u001b[39m\u001b[38;5;124m\"\u001b[39m\u001b[38;5;124mThe result is: \u001b[39m\u001b[38;5;132;01m{\u001b[39;00mnum1\u001b[38;5;250m \u001b[39m\u001b[38;5;241m+\u001b[39m\u001b[38;5;250m \u001b[39mnum2\u001b[38;5;132;01m}\u001b[39;00m\u001b[38;5;124m\"\u001b[39m)\n",
      "\u001b[1;31mValueError\u001b[0m: invalid literal for int() with base 10: 'g'"
     ]
    }
   ],
   "source": [
    "def calculator():\n",
    "    print(\"Select operation:\")\n",
    "    print(\"1. Add\")\n",
    "    print(\"2. Subtract\")\n",
    "    print(\"3. Multiply\")\n",
    "    print(\"4. Divide\")\n",
    "\n",
    "    # Take input from the user\n",
    "    choice = input(\"Enter choice (1/2/3/4): \")\n",
    "\n",
    "    if choice in ['1', '2', '3', '4']:\n",
    "        num1 = int(input(\"Enter first number: \"))\n",
    "        num2 = int(input(\"Enter second number: \"))\n",
    "\n",
    "\n",
    "        if choice == '1':\n",
    "            print(f\"The result is: {num1 + num2}\")\n",
    "        elif choice == '2':\n",
    "            print(f\"The result is: {num1 - num2}\")\n",
    "        elif choice == '3':\n",
    "            print(f\"The result is: {num1 * num2}\")\n",
    "        elif choice == '4':\n",
    "            if num2 != 0:\n",
    "                print(f\"The result is: {num1 / num2}\")\n",
    "            else:\n",
    "                print(\"Error! Division by zero.\")\n",
    "    else:\n",
    "        print(\"Invalid choice. Please select 1, 2, 3, or 4.\")\n",
    "\n",
    "# Call the calculator function\n",
    "calculator()"
   ]
  },
  {
   "cell_type": "code",
   "execution_count": null,
   "id": "b02c3515-5240-4977-a877-b8257b6d4cbc",
   "metadata": {},
   "outputs": [],
   "source": [
    "# design a calculator for Bank \n",
    "\n",
    "#  account\n",
    "# amount input  acmount input \n"
   ]
  },
  {
   "cell_type": "code",
   "execution_count": 11,
   "id": "1abe572c-598d-4748-bcc9-97c0568b1e87",
   "metadata": {},
   "outputs": [
    {
     "name": "stdout",
     "output_type": "stream",
     "text": [
      "\n",
      "Welcome to the Banking System!\n",
      "1. Add money\n",
      "2. Withdraw money\n",
      "3. Check balance\n",
      "4. Exit\n"
     ]
    },
    {
     "name": "stdin",
     "output_type": "stream",
     "text": [
      "Please choose an option (1-4):  1\n",
      "Enter amount to add: $ 5000\n"
     ]
    },
    {
     "name": "stdout",
     "output_type": "stream",
     "text": [
      "Added $5000.0 to your account. New balance: $5000.0\n",
      "\n",
      "Welcome to the Banking System!\n",
      "1. Add money\n",
      "2. Withdraw money\n",
      "3. Check balance\n",
      "4. Exit\n"
     ]
    },
    {
     "name": "stdin",
     "output_type": "stream",
     "text": [
      "Please choose an option (1-4):  2\n",
      "Enter amount to withdraw: $ 3000\n"
     ]
    },
    {
     "name": "stdout",
     "output_type": "stream",
     "text": [
      "Withdrew $3000.0. New balance: $2000.0\n",
      "\n",
      "Welcome to the Banking System!\n",
      "1. Add money\n",
      "2. Withdraw money\n",
      "3. Check balance\n",
      "4. Exit\n"
     ]
    },
    {
     "name": "stdin",
     "output_type": "stream",
     "text": [
      "Please choose an option (1-4):  3\n"
     ]
    },
    {
     "name": "stdout",
     "output_type": "stream",
     "text": [
      "Your current balance is: $2000.0\n",
      "\n",
      "Welcome to the Banking System!\n",
      "1. Add money\n",
      "2. Withdraw money\n",
      "3. Check balance\n",
      "4. Exit\n"
     ]
    },
    {
     "name": "stdin",
     "output_type": "stream",
     "text": [
      "Please choose an option (1-4):  3\n"
     ]
    },
    {
     "name": "stdout",
     "output_type": "stream",
     "text": [
      "Your current balance is: $2000.0\n",
      "\n",
      "Welcome to the Banking System!\n",
      "1. Add money\n",
      "2. Withdraw money\n",
      "3. Check balance\n",
      "4. Exit\n"
     ]
    },
    {
     "name": "stdin",
     "output_type": "stream",
     "text": [
      "Please choose an option (1-4):  4\n"
     ]
    },
    {
     "name": "stdout",
     "output_type": "stream",
     "text": [
      "Exiting the Banking System. Have a nice day!\n"
     ]
    }
   ],
   "source": [
    "# Initial balance\n",
    "balance = 0\n",
    "\n",
    "def add_money(amount):\n",
    "    global balance\n",
    "    balance += amount\n",
    "    print(f\"Added ${amount} to your account. New balance: ${balance}\")\n",
    "\n",
    "def withdraw_money(amount):\n",
    "    global balance\n",
    "    if amount > balance:\n",
    "        print(f\"Insufficient funds! You have only ${balance} in your account.\")\n",
    "    else:\n",
    "        balance -= amount\n",
    "        print(f\"Withdrew ${amount}. New balance: ${balance}\")\n",
    "\n",
    "def check_balance():\n",
    "    print(f\"Your current balance is: ${balance}\")\n",
    "\n",
    "def banking_system():\n",
    "    while True:\n",
    "        print(\"\\nWelcome to the Banking System!\")\n",
    "        print(\"1. Add money\")\n",
    "        print(\"2. Withdraw money\")\n",
    "        print(\"3. Check balance\")\n",
    "        print(\"4. Exit\")\n",
    "        \n",
    "        choice = input(\"Please choose an option (1-4): \")\n",
    "        \n",
    "        if choice == \"1\":\n",
    "            amount = float(input(\"Enter amount to add: $\"))\n",
    "            add_money(amount)\n",
    "        elif choice == \"2\":\n",
    "            amount = float(input(\"Enter amount to withdraw: $\"))\n",
    "            withdraw_money(amount)\n",
    "        elif choice == \"3\":\n",
    "            check_balance()\n",
    "        elif choice == \"4\":\n",
    "            print(\"Exiting the Banking System. Have a nice day!\")\n",
    "            break\n",
    "        else:\n",
    "            print(\"Invalid option. Please select a valid choice.\")\n",
    "\n",
    "# Run the banking system\n",
    "banking_system()\n"
   ]
  },
  {
   "cell_type": "code",
   "execution_count": null,
   "id": "d4fb3cfd-93a2-44f9-8f00-3aad2298d4e1",
   "metadata": {},
   "outputs": [],
   "source": []
  }
 ],
 "metadata": {
  "kernelspec": {
   "display_name": "Python 3 (ipykernel)",
   "language": "python",
   "name": "python3"
  },
  "language_info": {
   "codemirror_mode": {
    "name": "ipython",
    "version": 3
   },
   "file_extension": ".py",
   "mimetype": "text/x-python",
   "name": "python",
   "nbconvert_exporter": "python",
   "pygments_lexer": "ipython3",
   "version": "3.11.4"
  }
 },
 "nbformat": 4,
 "nbformat_minor": 5
}
