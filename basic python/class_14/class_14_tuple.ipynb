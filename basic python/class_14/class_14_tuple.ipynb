{
 "cells": [
  {
   "cell_type": "code",
   "execution_count": 1,
   "id": "937b23d2-2b01-460c-a29d-180628bc1442",
   "metadata": {},
   "outputs": [
    {
     "data": {
      "text/plain": [
       "tuple"
      ]
     },
     "execution_count": 1,
     "metadata": {},
     "output_type": "execute_result"
    }
   ],
   "source": [
    "tup = ()\n",
    "type(tup)"
   ]
  },
  {
   "cell_type": "code",
   "execution_count": 4,
   "id": "414d2a3a-ad81-4e59-9ec0-7a94db4e076e",
   "metadata": {},
   "outputs": [
    {
     "data": {
      "text/plain": [
       "tuple"
      ]
     },
     "execution_count": 4,
     "metadata": {},
     "output_type": "execute_result"
    }
   ],
   "source": [
    "tu1 = 2,\n",
    "type(tu1)"
   ]
  },
  {
   "cell_type": "code",
   "execution_count": 7,
   "id": "eed74927-1486-42c7-b027-767d76571568",
   "metadata": {},
   "outputs": [
    {
     "data": {
      "text/plain": [
       "tuple"
      ]
     },
     "execution_count": 7,
     "metadata": {},
     "output_type": "execute_result"
    }
   ],
   "source": [
    "tu1 = 2,5,8,96\n",
    "type(tu1)"
   ]
  },
  {
   "cell_type": "code",
   "execution_count": 10,
   "id": "cbe0ce0f-810f-41d7-b45d-bd171c6da9d8",
   "metadata": {},
   "outputs": [
    {
     "data": {
      "text/plain": [
       "(1, 4, 5, 'python', True, 2.0)"
      ]
     },
     "execution_count": 10,
     "metadata": {},
     "output_type": "execute_result"
    }
   ],
   "source": [
    "tu = 1,4,5,\"python\", True, 2.0\n",
    "\n",
    "tu"
   ]
  },
  {
   "cell_type": "code",
   "execution_count": 11,
   "id": "035b9058-7464-484b-a0bd-141379f7f4a8",
   "metadata": {},
   "outputs": [
    {
     "data": {
      "text/plain": [
       "tuple"
      ]
     },
     "execution_count": 11,
     "metadata": {},
     "output_type": "execute_result"
    }
   ],
   "source": [
    "type(tu)"
   ]
  },
  {
   "cell_type": "code",
   "execution_count": 13,
   "id": "d9e6447b-c19e-4516-acca-b1c9dbcbb7a1",
   "metadata": {},
   "outputs": [
    {
     "data": {
      "text/plain": [
       "(1, 4, 5, 'python', [1, 4, 5], True, 2.0)"
      ]
     },
     "execution_count": 13,
     "metadata": {},
     "output_type": "execute_result"
    }
   ],
   "source": [
    "tu1 = 1,4,5,\"python\",[1,4,5],True, 2.0\n",
    "\n",
    "tu1"
   ]
  },
  {
   "cell_type": "code",
   "execution_count": 14,
   "id": "d7f70f40-cfed-40b6-beb6-9507bd6eb160",
   "metadata": {},
   "outputs": [
    {
     "data": {
      "text/plain": [
       "tuple"
      ]
     },
     "execution_count": 14,
     "metadata": {},
     "output_type": "execute_result"
    }
   ],
   "source": [
    "type(tu1)"
   ]
  },
  {
   "cell_type": "code",
   "execution_count": 18,
   "id": "977db645-893e-4300-8b5a-7666409e947a",
   "metadata": {},
   "outputs": [
    {
     "data": {
      "text/plain": [
       "(2, 45, 8, 1, 85, 41)"
      ]
     },
     "execution_count": 18,
     "metadata": {},
     "output_type": "execute_result"
    }
   ],
   "source": [
    "a = [2,45,8,1,85,41]\n",
    "#type(a)\n",
    "b = tuple(a)\n",
    "type(b)\n",
    "b"
   ]
  },
  {
   "cell_type": "code",
   "execution_count": 19,
   "id": "96af6908-7e20-4f20-bb6f-73cbad4aa978",
   "metadata": {},
   "outputs": [
    {
     "data": {
      "text/plain": [
       "41"
      ]
     },
     "execution_count": 19,
     "metadata": {},
     "output_type": "execute_result"
    }
   ],
   "source": [
    "b[5]"
   ]
  },
  {
   "cell_type": "code",
   "execution_count": 20,
   "id": "9eece910-4135-48e2-98f0-df3358f9c8a4",
   "metadata": {},
   "outputs": [
    {
     "data": {
      "text/plain": [
       "2"
      ]
     },
     "execution_count": 20,
     "metadata": {},
     "output_type": "execute_result"
    }
   ],
   "source": [
    "b[0]"
   ]
  },
  {
   "cell_type": "code",
   "execution_count": 21,
   "id": "17da277f-683d-4d15-acf3-be95e0a782b9",
   "metadata": {},
   "outputs": [
    {
     "data": {
      "text/plain": [
       "(8, 1)"
      ]
     },
     "execution_count": 21,
     "metadata": {},
     "output_type": "execute_result"
    }
   ],
   "source": [
    "b[2: 4]"
   ]
  },
  {
   "cell_type": "code",
   "execution_count": 22,
   "id": "51f66854-cc40-4886-b1d5-719e05b71071",
   "metadata": {},
   "outputs": [
    {
     "data": {
      "text/plain": [
       "(41, 1)"
      ]
     },
     "execution_count": 22,
     "metadata": {},
     "output_type": "execute_result"
    }
   ],
   "source": [
    "b[-1: -5 :-2]"
   ]
  },
  {
   "cell_type": "code",
   "execution_count": 23,
   "id": "e33455d1-9868-4bca-891a-288a8e8d3182",
   "metadata": {},
   "outputs": [
    {
     "data": {
      "text/plain": [
       "True"
      ]
     },
     "execution_count": 23,
     "metadata": {},
     "output_type": "execute_result"
    }
   ],
   "source": [
    "#membership in python\n",
    "\n",
    "45 in b"
   ]
  },
  {
   "cell_type": "code",
   "execution_count": 24,
   "id": "e0c2f0e0-365c-4d0d-a785-81166a57476b",
   "metadata": {},
   "outputs": [
    {
     "data": {
      "text/plain": [
       "False"
      ]
     },
     "execution_count": 24,
     "metadata": {},
     "output_type": "execute_result"
    }
   ],
   "source": [
    "89 in b"
   ]
  },
  {
   "cell_type": "code",
   "execution_count": 25,
   "id": "b95da8ac-3e85-47a3-927d-7982678190bd",
   "metadata": {},
   "outputs": [
    {
     "name": "stdout",
     "output_type": "stream",
     "text": [
      "2\n",
      "45\n",
      "8\n",
      "1\n",
      "85\n",
      "41\n"
     ]
    }
   ],
   "source": [
    "a = (2, 45, 8, 1, 85, 41)\n",
    "for i in a:\n",
    "    print(i)"
   ]
  },
  {
   "cell_type": "code",
   "execution_count": 38,
   "id": "c112e8a3-757c-4f76-a810-6afe01a5c3ad",
   "metadata": {},
   "outputs": [
    {
     "data": {
      "text/plain": [
       "2"
      ]
     },
     "execution_count": 38,
     "metadata": {},
     "output_type": "execute_result"
    }
   ],
   "source": [
    "a = (2, 45, 8)\n",
    "v1, v2 , v3 = a\n",
    "v1"
   ]
  },
  {
   "cell_type": "code",
   "execution_count": 39,
   "id": "30bcfdd0-d900-43b4-bd15-24065a412cd5",
   "metadata": {},
   "outputs": [
    {
     "data": {
      "text/plain": [
       "8"
      ]
     },
     "execution_count": 39,
     "metadata": {},
     "output_type": "execute_result"
    }
   ],
   "source": [
    "v3"
   ]
  },
  {
   "cell_type": "code",
   "execution_count": 40,
   "id": "5cca1996-54ff-4abf-b212-ba8d1d1d1ea0",
   "metadata": {},
   "outputs": [
    {
     "data": {
      "text/plain": [
       "45"
      ]
     },
     "execution_count": 40,
     "metadata": {},
     "output_type": "execute_result"
    }
   ],
   "source": [
    "v2"
   ]
  },
  {
   "cell_type": "code",
   "execution_count": 41,
   "id": "5864f123-5852-4591-9a08-97b46cbd2206",
   "metadata": {},
   "outputs": [
    {
     "data": {
      "text/plain": [
       "55"
      ]
     },
     "execution_count": 41,
     "metadata": {},
     "output_type": "execute_result"
    }
   ],
   "source": [
    "a = v1+ v2 +v3\n",
    "a"
   ]
  },
  {
   "cell_type": "code",
   "execution_count": 43,
   "id": "7f4995c8-7027-486d-b3b2-ea6088aec864",
   "metadata": {},
   "outputs": [
    {
     "ename": "AttributeError",
     "evalue": "'tuple' object has no attribute 'add'",
     "output_type": "error",
     "traceback": [
      "\u001b[1;31m---------------------------------------------------------------------------\u001b[0m",
      "\u001b[1;31mAttributeError\u001b[0m                            Traceback (most recent call last)",
      "Cell \u001b[1;32mIn[43], line 2\u001b[0m\n\u001b[0;32m      1\u001b[0m a \u001b[38;5;241m=\u001b[39m (\u001b[38;5;241m2\u001b[39m, \u001b[38;5;241m45\u001b[39m, \u001b[38;5;241m8\u001b[39m, \u001b[38;5;241m1\u001b[39m, \u001b[38;5;241m85\u001b[39m, \u001b[38;5;241m41\u001b[39m)\n\u001b[1;32m----> 2\u001b[0m \u001b[43ma\u001b[49m\u001b[38;5;241;43m.\u001b[39;49m\u001b[43madd\u001b[49m(\u001b[38;5;241m4\u001b[39m)\n",
      "\u001b[1;31mAttributeError\u001b[0m: 'tuple' object has no attribute 'add'"
     ]
    }
   ],
   "source": [
    "a = (2, 45, 8, 1, 85, 41) # immutable \n",
    "a.add(4)"
   ]
  },
  {
   "cell_type": "code",
   "execution_count": 69,
   "id": "6e546f94-1a4a-458b-b7be-a6af607ffc91",
   "metadata": {},
   "outputs": [],
   "source": [
    "#a = (2, 45, 8, 1, 85, 41) \n",
    "a = a + (\"hi\",)"
   ]
  },
  {
   "cell_type": "code",
   "execution_count": 71,
   "id": "c0344284-d1b7-4aee-b204-e59d204399ec",
   "metadata": {},
   "outputs": [
    {
     "data": {
      "text/plain": [
       "(2, 45, 8, 1, 85, 41, 'hi', 'hi', 'hi')"
      ]
     },
     "execution_count": 71,
     "metadata": {},
     "output_type": "execute_result"
    }
   ],
   "source": [
    "a"
   ]
  },
  {
   "cell_type": "code",
   "execution_count": 74,
   "id": "83129234-903a-48c2-92af-087aa5bc8077",
   "metadata": {},
   "outputs": [
    {
     "data": {
      "text/plain": [
       "(2, 45, 10, 5, 'jak', 8, 1, 85, 41, 'hi', 'hi', 'hi')"
      ]
     },
     "execution_count": 74,
     "metadata": {},
     "output_type": "execute_result"
    }
   ],
   "source": [
    "new_tu = a[: 2] + (10,5,\"jak\") + a[2 :]\n",
    "new_tu"
   ]
  },
  {
   "cell_type": "code",
   "execution_count": 78,
   "id": "f98ff331-f876-4b29-a91b-0506ff55c9fc",
   "metadata": {},
   "outputs": [
    {
     "data": {
      "text/plain": [
       "(2, 45, 8, 1, 85, 41, 'moc')"
      ]
     },
     "execution_count": 78,
     "metadata": {},
     "output_type": "execute_result"
    }
   ],
   "source": [
    "a = (2, 45, 8, 1, 85, 41) \n",
    "b = list(a)\n",
    "b.append(\"moc\")\n",
    "b = tuple(b)\n",
    "b"
   ]
  },
  {
   "cell_type": "code",
   "execution_count": 80,
   "id": "851c31c7-dfd1-4035-9c13-151ce789d3ed",
   "metadata": {},
   "outputs": [],
   "source": [
    "from copy import deepcopy"
   ]
  },
  {
   "cell_type": "code",
   "execution_count": 81,
   "id": "467102fb-080a-4c5c-9e05-72b585501059",
   "metadata": {},
   "outputs": [
    {
     "data": {
      "text/plain": [
       "(2, 45, 8, 1, ['hello'], 85, 41)"
      ]
     },
     "execution_count": 81,
     "metadata": {},
     "output_type": "execute_result"
    }
   ],
   "source": [
    "a = (2, 45, 8, 1, [], 85, 41) \n",
    "a[4].append(\"hello\")\n",
    "a"
   ]
  },
  {
   "cell_type": "code",
   "execution_count": 82,
   "id": "8a17242b-84a3-4731-9d5a-c4094f82c7d5",
   "metadata": {},
   "outputs": [
    {
     "data": {
      "text/plain": [
       "(2, 45, 8, 1, [], 85, 41)"
      ]
     },
     "execution_count": 82,
     "metadata": {},
     "output_type": "execute_result"
    }
   ],
   "source": [
    "a = (2, 45, 8, 1, [], 85, 41) \n",
    "b = deepcopy(a)\n",
    "b"
   ]
  },
  {
   "cell_type": "code",
   "execution_count": 83,
   "id": "156cc45b-fc1d-4e27-ac10-a37b2100ce36",
   "metadata": {},
   "outputs": [
    {
     "data": {
      "text/plain": [
       "(2, 45, 8, 1, [10], 85, 41)"
      ]
     },
     "execution_count": 83,
     "metadata": {},
     "output_type": "execute_result"
    }
   ],
   "source": [
    "b[4].append(10)\n",
    "b"
   ]
  },
  {
   "cell_type": "code",
   "execution_count": 84,
   "id": "e1723c6f-1113-4550-be82-9918cd248877",
   "metadata": {},
   "outputs": [
    {
     "data": {
      "text/plain": [
       "(2, 45, 8, 1, [], 85, 41)"
      ]
     },
     "execution_count": 84,
     "metadata": {},
     "output_type": "execute_result"
    }
   ],
   "source": [
    "a"
   ]
  },
  {
   "cell_type": "code",
   "execution_count": 86,
   "id": "7f46ab5d-14e1-4799-bbac-afc892896a84",
   "metadata": {},
   "outputs": [
    {
     "data": {
      "text/plain": [
       "(2, 45, 8, 1, [15], 85, 41)"
      ]
     },
     "execution_count": 86,
     "metadata": {},
     "output_type": "execute_result"
    }
   ],
   "source": [
    "c = a\n",
    "c[4].append(15)\n",
    "c"
   ]
  },
  {
   "cell_type": "code",
   "execution_count": 87,
   "id": "91ca5214-ef42-4fe5-8790-39bb6aabfef5",
   "metadata": {},
   "outputs": [
    {
     "data": {
      "text/plain": [
       "(2, 45, 8, 1, [15], 85, 41)"
      ]
     },
     "execution_count": 87,
     "metadata": {},
     "output_type": "execute_result"
    }
   ],
   "source": [
    "a"
   ]
  },
  {
   "cell_type": "code",
   "execution_count": 88,
   "id": "2391717c-df73-4aee-b3c8-b2917672066b",
   "metadata": {},
   "outputs": [
    {
     "ename": "AttributeError",
     "evalue": "'tuple' object has no attribute 'remove'",
     "output_type": "error",
     "traceback": [
      "\u001b[1;31m---------------------------------------------------------------------------\u001b[0m",
      "\u001b[1;31mAttributeError\u001b[0m                            Traceback (most recent call last)",
      "Cell \u001b[1;32mIn[88], line 3\u001b[0m\n\u001b[0;32m      1\u001b[0m \u001b[38;5;66;03m# remove \u001b[39;00m\n\u001b[0;32m      2\u001b[0m a  \u001b[38;5;241m=\u001b[39m (\u001b[38;5;241m2\u001b[39m, \u001b[38;5;241m45\u001b[39m, \u001b[38;5;241m8\u001b[39m, \u001b[38;5;241m1\u001b[39m,\u001b[38;5;124m\"\u001b[39m\u001b[38;5;124mtesla\u001b[39m\u001b[38;5;124m\"\u001b[39m, \u001b[38;5;241m85\u001b[39m, \u001b[38;5;241m41\u001b[39m)\n\u001b[1;32m----> 3\u001b[0m \u001b[43ma\u001b[49m\u001b[38;5;241;43m.\u001b[39;49m\u001b[43mremove\u001b[49m(\u001b[38;5;241m45\u001b[39m)\n",
      "\u001b[1;31mAttributeError\u001b[0m: 'tuple' object has no attribute 'remove'"
     ]
    }
   ],
   "source": [
    "# remove \n",
    "a  = (2, 45, 8, 1,\"tesla\", 85, 41)\n",
    "a.remove(45)"
   ]
  },
  {
   "cell_type": "code",
   "execution_count": 89,
   "id": "ba93a57e-ff85-49c7-b85b-84355ea2acde",
   "metadata": {},
   "outputs": [
    {
     "ename": "AttributeError",
     "evalue": "'tuple' object has no attribute 'pop'",
     "output_type": "error",
     "traceback": [
      "\u001b[1;31m---------------------------------------------------------------------------\u001b[0m",
      "\u001b[1;31mAttributeError\u001b[0m                            Traceback (most recent call last)",
      "Cell \u001b[1;32mIn[89], line 1\u001b[0m\n\u001b[1;32m----> 1\u001b[0m \u001b[43ma\u001b[49m\u001b[38;5;241;43m.\u001b[39;49m\u001b[43mpop\u001b[49m()\n",
      "\u001b[1;31mAttributeError\u001b[0m: 'tuple' object has no attribute 'pop'"
     ]
    }
   ],
   "source": [
    "a.pop()"
   ]
  },
  {
   "cell_type": "code",
   "execution_count": 90,
   "id": "9e4914fe-23ca-4a3c-9cf2-92af435c48f7",
   "metadata": {},
   "outputs": [
    {
     "data": {
      "text/plain": [
       "(2, 45, 8, 1, 'tesla', 85, 41)"
      ]
     },
     "execution_count": 90,
     "metadata": {},
     "output_type": "execute_result"
    }
   ],
   "source": [
    "a"
   ]
  },
  {
   "cell_type": "code",
   "execution_count": 91,
   "id": "a80b21a0-df1e-4619-8e28-301c1f235797",
   "metadata": {},
   "outputs": [],
   "source": [
    "a = a[:3] + a[5 : ]"
   ]
  },
  {
   "cell_type": "code",
   "execution_count": 92,
   "id": "b9cb70f4-dab6-4fa1-8f14-51217ce453c0",
   "metadata": {},
   "outputs": [
    {
     "data": {
      "text/plain": [
       "(2, 45, 8, 85, 41)"
      ]
     },
     "execution_count": 92,
     "metadata": {},
     "output_type": "execute_result"
    }
   ],
   "source": [
    "a"
   ]
  },
  {
   "cell_type": "code",
   "execution_count": 94,
   "id": "62b19da3-5291-41e5-931d-47dd49bbc6d2",
   "metadata": {},
   "outputs": [
    {
     "data": {
      "text/plain": [
       "41"
      ]
     },
     "execution_count": 94,
     "metadata": {},
     "output_type": "execute_result"
    }
   ],
   "source": [
    "b = list(a)\n",
    "b.pop()"
   ]
  },
  {
   "cell_type": "code",
   "execution_count": 95,
   "id": "a53e3609-b6db-48d3-b1c5-6a870ef76f5d",
   "metadata": {},
   "outputs": [
    {
     "data": {
      "text/plain": [
       "[2, 45, 8, 85]"
      ]
     },
     "execution_count": 95,
     "metadata": {},
     "output_type": "execute_result"
    }
   ],
   "source": [
    "b"
   ]
  },
  {
   "cell_type": "code",
   "execution_count": 96,
   "id": "31f106a8-147d-476d-8082-82949ad3eef0",
   "metadata": {},
   "outputs": [],
   "source": [
    "b.remove(45)"
   ]
  },
  {
   "cell_type": "code",
   "execution_count": 99,
   "id": "1e033e37-993e-4b73-9e04-1f21c88536db",
   "metadata": {},
   "outputs": [
    {
     "data": {
      "text/plain": [
       "(2, 8, 85)"
      ]
     },
     "execution_count": 99,
     "metadata": {},
     "output_type": "execute_result"
    }
   ],
   "source": [
    "b"
   ]
  },
  {
   "cell_type": "code",
   "execution_count": 98,
   "id": "6265350b-280e-40b7-82b4-9cf966f02810",
   "metadata": {},
   "outputs": [
    {
     "data": {
      "text/plain": [
       "(2, 8, 85)"
      ]
     },
     "execution_count": 98,
     "metadata": {},
     "output_type": "execute_result"
    }
   ],
   "source": [
    "b = tuple(b)\n",
    "b"
   ]
  },
  {
   "cell_type": "code",
   "execution_count": 100,
   "id": "e3dbfc03-66fc-4eca-a906-31e70e24d07a",
   "metadata": {},
   "outputs": [
    {
     "data": {
      "text/plain": [
       "1"
      ]
     },
     "execution_count": 100,
     "metadata": {},
     "output_type": "execute_result"
    }
   ],
   "source": [
    "b = [2, 45, 8, 85]\n",
    "b.index(45)"
   ]
  },
  {
   "cell_type": "code",
   "execution_count": 101,
   "id": "01ce2d0c-e4e9-40ec-bead-d4d53edd1728",
   "metadata": {},
   "outputs": [
    {
     "data": {
      "text/plain": [
       "1"
      ]
     },
     "execution_count": 101,
     "metadata": {},
     "output_type": "execute_result"
    }
   ],
   "source": [
    "c = (2, 8, 85)\n",
    "c.index(8)"
   ]
  },
  {
   "cell_type": "code",
   "execution_count": 102,
   "id": "2aaad46a-8b23-4d96-917d-49b17615be43",
   "metadata": {},
   "outputs": [
    {
     "data": {
      "text/plain": [
       "3"
      ]
     },
     "execution_count": 102,
     "metadata": {},
     "output_type": "execute_result"
    }
   ],
   "source": [
    "len(c)"
   ]
  },
  {
   "cell_type": "code",
   "execution_count": 103,
   "id": "f625f916-fe6c-4b9a-93bf-1fe64610b83a",
   "metadata": {},
   "outputs": [
    {
     "data": {
      "text/plain": [
       "(1, 4, 7, 68, 8, 'hello', 'hi', 'by')"
      ]
     },
     "execution_count": 103,
     "metadata": {},
     "output_type": "execute_result"
    }
   ],
   "source": [
    "a = (1,4,7,68,8)\n",
    "b = (\"hello\",\"hi\",\"by\")\n",
    "c = a + b\n",
    "c"
   ]
  },
  {
   "cell_type": "code",
   "execution_count": 105,
   "id": "08439bdf-32d0-4140-afd0-9d82f1aa27a7",
   "metadata": {},
   "outputs": [
    {
     "name": "stdout",
     "output_type": "stream",
     "text": [
      "88\n"
     ]
    }
   ],
   "source": [
    "a = (1,4,7,68,8)\n",
    "total = 0\n",
    "for i in a:\n",
    "    total = total + i\n",
    "print(total)"
   ]
  },
  {
   "cell_type": "code",
   "execution_count": 106,
   "id": "ab8be5c2-abe4-44d2-a901-bf46bd12a0d1",
   "metadata": {},
   "outputs": [
    {
     "data": {
      "text/plain": [
       "88"
      ]
     },
     "execution_count": 106,
     "metadata": {},
     "output_type": "execute_result"
    }
   ],
   "source": [
    "sum(a)"
   ]
  },
  {
   "cell_type": "code",
   "execution_count": 109,
   "id": "85757e75-7ce2-44dc-9ea1-f258f487f641",
   "metadata": {},
   "outputs": [
    {
     "data": {
      "text/plain": [
       "100"
      ]
     },
     "execution_count": 109,
     "metadata": {},
     "output_type": "execute_result"
    }
   ],
   "source": [
    "def cal_sum(a):\n",
    "    return sum(a)\n",
    "a = 10, 20, 30, 40\n",
    "cal_sum(a)"
   ]
  },
  {
   "cell_type": "code",
   "execution_count": 110,
   "id": "8f8f0fdf-22bb-4d9c-be17-3dd5d15705ea",
   "metadata": {},
   "outputs": [
    {
     "data": {
      "text/plain": [
       "1"
      ]
     },
     "execution_count": 110,
     "metadata": {},
     "output_type": "execute_result"
    }
   ],
   "source": [
    "a = (1,4,7,68,8)\n",
    "min(a)"
   ]
  },
  {
   "cell_type": "code",
   "execution_count": 111,
   "id": "dec7547f-85b9-4615-ac5c-1e595049c57f",
   "metadata": {},
   "outputs": [
    {
     "data": {
      "text/plain": [
       "68"
      ]
     },
     "execution_count": 111,
     "metadata": {},
     "output_type": "execute_result"
    }
   ],
   "source": [
    "max(a)"
   ]
  },
  {
   "cell_type": "code",
   "execution_count": 113,
   "id": "149e2bdb-8896-48d5-bcdc-a64cfab82f25",
   "metadata": {},
   "outputs": [
    {
     "data": {
      "text/plain": [
       "[68, 8, 7, 4, 1]"
      ]
     },
     "execution_count": 113,
     "metadata": {},
     "output_type": "execute_result"
    }
   ],
   "source": [
    "a = (1,4,7,68,8)\n",
    "b = sorted(a,reverse=True)\n",
    "b"
   ]
  },
  {
   "cell_type": "code",
   "execution_count": 118,
   "id": "52456fb9-2098-443c-8705-bdc3997a6d8f",
   "metadata": {},
   "outputs": [
    {
     "name": "stdout",
     "output_type": "stream",
     "text": [
      "31.41592653589793\n"
     ]
    },
    {
     "data": {
      "text/plain": [
       "78.53981633974483"
      ]
     },
     "execution_count": 118,
     "metadata": {},
     "output_type": "execute_result"
    }
   ],
   "source": [
    "# pi * r squre \n",
    "import math\n",
    "r = 5\n",
    "\n",
    "def circle(i):\n",
    "    area= math.pi * i**2\n",
    "    bas = 2 * math.pi * i\n",
    "    print(bas)\n",
    "    return area \n",
    "    \n",
    "\n",
    "circle(r)"
   ]
  },
  {
   "cell_type": "code",
   "execution_count": 122,
   "id": "368170f3-b067-4c84-b657-825e8708f984",
   "metadata": {},
   "outputs": [
    {
     "name": "stdout",
     "output_type": "stream",
     "text": [
      "the student name is sajib and his age is 26\n"
     ]
    }
   ],
   "source": [
    "def get_stue_info():\n",
    "    name= \"sajib\"\n",
    "    age = 26\n",
    "    grade= \"A+\"\n",
    "    return name,age\n",
    "\n",
    "\n",
    "name , age= get_stue_info()\n",
    "print(f'the student name is {name} and his age is {age}')"
   ]
  },
  {
   "cell_type": "code",
   "execution_count": 123,
   "id": "efa8651f-f803-454f-a66d-e61440d8b370",
   "metadata": {},
   "outputs": [
    {
     "data": {
      "text/plain": [
       "('sajib', 26)"
      ]
     },
     "execution_count": 123,
     "metadata": {},
     "output_type": "execute_result"
    }
   ],
   "source": [
    "get_stue_info()"
   ]
  },
  {
   "cell_type": "code",
   "execution_count": 132,
   "id": "6a7bc4f3-1722-4a41-afb7-77fd86a74eab",
   "metadata": {},
   "outputs": [
    {
     "name": "stdout",
     "output_type": "stream",
     "text": [
      "the student name is sajib and his age is 26 and grade is A+\n"
     ]
    }
   ],
   "source": [
    "def get_stue_info(name,age,grade):\n",
    "    name= name \n",
    "    age = age\n",
    "    grade= grade\n",
    "    return name,age,grade\n",
    "\n",
    "#get_stue_info(\"sajib\", 26, \"F\")\n",
    "\n",
    "\n",
    "name, age,grade =get_stue_info(\"sajib\", 26,\"A+\")\n",
    "print(f'the student name is {name} and his age is {age} and grade is {grade}')"
   ]
  },
  {
   "cell_type": "code",
   "execution_count": 134,
   "id": "91da058f-1589-47d2-8d8d-b20c69c8cbbc",
   "metadata": {},
   "outputs": [
    {
     "name": "stdout",
     "output_type": "stream",
     "text": [
      "the student name is haider \n"
     ]
    }
   ],
   "source": [
    "name, age,grade =get_stue_info(\"haider\", 45,\"A++\")\n",
    "print(f'the student name is {name} ')"
   ]
  },
  {
   "cell_type": "code",
   "execution_count": 135,
   "id": "dbd5ea13-cc88-452a-8a1a-79b2f88fe7cb",
   "metadata": {},
   "outputs": [
    {
     "data": {
      "text/plain": [
       "2"
      ]
     },
     "execution_count": 135,
     "metadata": {},
     "output_type": "execute_result"
    }
   ],
   "source": [
    "fruits = \"banana\",'mango','cheery','banana','apple'\n",
    "a = fruits.count(\"banana\")\n",
    "a"
   ]
  },
  {
   "cell_type": "code",
   "execution_count": 137,
   "id": "ca76f826-826d-4aed-ba34-2f8a202b9003",
   "metadata": {},
   "outputs": [
    {
     "data": {
      "text/plain": [
       "(2,)"
      ]
     },
     "execution_count": 137,
     "metadata": {},
     "output_type": "execute_result"
    }
   ],
   "source": [
    "a = 2,\n",
    "a"
   ]
  },
  {
   "cell_type": "code",
   "execution_count": 138,
   "id": "21a156dc-2f6b-437d-a7ed-422a49b6b62c",
   "metadata": {},
   "outputs": [
    {
     "data": {
      "text/plain": [
       "(2, 2, 2)"
      ]
     },
     "execution_count": 138,
     "metadata": {},
     "output_type": "execute_result"
    }
   ],
   "source": [
    "b = a * 3\n",
    "b"
   ]
  },
  {
   "cell_type": "code",
   "execution_count": 141,
   "id": "b438ca0e-bbe4-413d-8f8b-1fb17558247d",
   "metadata": {},
   "outputs": [
    {
     "name": "stdout",
     "output_type": "stream",
     "text": [
      "60\n"
     ]
    }
   ],
   "source": [
    "b = 80,60,9,0,58,78\n",
    "for i in b:\n",
    "    if i >= 60 and i <=70:\n",
    "        print(i)"
   ]
  },
  {
   "cell_type": "code",
   "execution_count": 143,
   "id": "82a09e1a-4745-41a3-9abe-78cb70bc2329",
   "metadata": {},
   "outputs": [
    {
     "data": {
      "text/plain": [
       "4"
      ]
     },
     "execution_count": 143,
     "metadata": {},
     "output_type": "execute_result"
    }
   ],
   "source": [
    "a = ((1,4),(1,5),(5,6))\n",
    "a[0][1]"
   ]
  },
  {
   "cell_type": "code",
   "execution_count": 145,
   "id": "108464a0-6136-4102-8701-89e3f90a28cc",
   "metadata": {},
   "outputs": [
    {
     "data": {
      "text/plain": [
       "(1, 4, 5, 6, 8, 89)"
      ]
     },
     "execution_count": 145,
     "metadata": {},
     "output_type": "execute_result"
    }
   ],
   "source": [
    "a = (1,5,6,8,89,4,4,1,5)\n",
    "b = tuple(set(a))\n",
    "b"
   ]
  },
  {
   "cell_type": "code",
   "execution_count": 147,
   "id": "2db45b9f-99a1-43c8-a15f-22c08ef4a342",
   "metadata": {},
   "outputs": [
    {
     "name": "stdout",
     "output_type": "stream",
     "text": [
      "1\n",
      "4\n",
      "1\n",
      "5\n",
      "5\n",
      "6\n"
     ]
    }
   ],
   "source": [
    "a = ((1,4),(1,5),(5,6))\n",
    "for i in a:\n",
    "    for j in i:\n",
    "        print(j)"
   ]
  },
  {
   "cell_type": "code",
   "execution_count": 149,
   "id": "c76062a9-3249-4f17-8baf-d6704a971b48",
   "metadata": {},
   "outputs": [
    {
     "name": "stdin",
     "output_type": "stream",
     "text": [
      "give a range 3\n",
      "enter any valid integer number------ 2\n",
      "enter any valid integer number------ 5\n"
     ]
    },
    {
     "name": "stdout",
     "output_type": "stream",
     "text": [
      "[2, 5]\n"
     ]
    }
   ],
   "source": [
    "# range 5\n",
    "li = []\n",
    "n = int(input('give a range'))\n",
    "for i in range(1,n): # 1,2,3,4\n",
    "    a = int(input(\"enter any valid integer number------\"))\n",
    "    li.append(a)\n",
    "print(li)"
   ]
  },
  {
   "cell_type": "code",
   "execution_count": 152,
   "id": "982e7ded-af18-4d09-8d5b-d609f30fd016",
   "metadata": {},
   "outputs": [
    {
     "name": "stdin",
     "output_type": "stream",
     "text": [
      "give a range 4\n",
      "enter any valid integer number------ 5\n",
      "enter any valid integer number------ 6\n",
      "enter any valid integer number------ 8\n"
     ]
    },
    {
     "name": "stdout",
     "output_type": "stream",
     "text": [
      "(5, 6, 8)\n"
     ]
    }
   ],
   "source": [
    "# range 5\n",
    "li = []\n",
    "n = int(input('give a range'))\n",
    "for i in range(1,n): # 1,2,3,4\n",
    "    a = int(input(\"enter any valid integer number------\"))\n",
    "    li.append(a)\n",
    "print(tuple(li))"
   ]
  },
  {
   "cell_type": "code",
   "execution_count": 158,
   "id": "c118259c-adae-4250-92b8-33b3ea2ffcbc",
   "metadata": {},
   "outputs": [
    {
     "name": "stdin",
     "output_type": "stream",
     "text": [
      "enter any number insted using 4  \n",
      "enter any number insted using 4 4\n",
      "enter any number insted using 4 space\\\n",
      "enter any number insted using 4 space\n"
     ]
    },
    {
     "name": "stdout",
     "output_type": "stream",
     "text": [
      "\n",
      "[' ', '4', 'space\\\\']\n"
     ]
    }
   ],
   "source": [
    "li = []\n",
    "\n",
    "\n",
    "for i in range(1,15):\n",
    "    a = input('enter any number insted using 4')\n",
    "    if a== \"space\":\n",
    "        print(\"\")\n",
    "        break\n",
    "    else:\n",
    "        li.append(a)\n",
    "print(li)"
   ]
  },
  {
   "cell_type": "code",
   "execution_count": 160,
   "id": "7701a223-59f3-4c0f-9c97-a8ff55dadf37",
   "metadata": {},
   "outputs": [
    {
     "data": {
      "text/plain": [
       "3"
      ]
     },
     "execution_count": 160,
     "metadata": {},
     "output_type": "execute_result"
    }
   ],
   "source": [
    "math.floor(3.2)"
   ]
  },
  {
   "cell_type": "code",
   "execution_count": 166,
   "id": "bc7809c7-d59e-48f7-9eee-0c6dabe02b1b",
   "metadata": {},
   "outputs": [
    {
     "data": {
      "text/plain": [
       "4"
      ]
     },
     "execution_count": 166,
     "metadata": {},
     "output_type": "execute_result"
    }
   ],
   "source": [
    "math.ceil(3.2)"
   ]
  },
  {
   "cell_type": "code",
   "execution_count": 167,
   "id": "4a8bd68f-e8e1-4ac6-b2d1-48b5d2d8f074",
   "metadata": {},
   "outputs": [
    {
     "name": "stdout",
     "output_type": "stream",
     "text": [
      "['False', 'None', 'True', 'and', 'as', 'assert', 'async', 'await', 'break', 'class', 'continue', 'def', 'del', 'elif', 'else', 'except', 'finally', 'for', 'from', 'global', 'if', 'import', 'in', 'is', 'lambda', 'nonlocal', 'not', 'or', 'pass', 'raise', 'return', 'try', 'while', 'with', 'yield']\n"
     ]
    }
   ],
   "source": [
    "import keyword\n",
    "print(keyword.kwlist)"
   ]
  },
  {
   "cell_type": "code",
   "execution_count": 168,
   "id": "38db3d25-d521-4578-909e-00073d0e08b6",
   "metadata": {},
   "outputs": [
    {
     "data": {
      "text/plain": [
       "{'car_name': ['BMW', 'toyota', 'lamborgini'], 'year': [2020, 2021, 2022]}"
      ]
     },
     "execution_count": 168,
     "metadata": {},
     "output_type": "execute_result"
    }
   ],
   "source": [
    "car ={\n",
    "\t\"car_name\": ['BMW','toyota','lamborgini'],\n",
    "\t\"year\" : [2020,2021,2022]\n",
    "}\n",
    "car"
   ]
  },
  {
   "cell_type": "code",
   "execution_count": null,
   "id": "e61ad2f4-5690-4ace-a2e6-0b1914cc7237",
   "metadata": {},
   "outputs": [],
   "source": []
  }
 ],
 "metadata": {
  "kernelspec": {
   "display_name": "Python 3 (ipykernel)",
   "language": "python",
   "name": "python3"
  },
  "language_info": {
   "codemirror_mode": {
    "name": "ipython",
    "version": 3
   },
   "file_extension": ".py",
   "mimetype": "text/x-python",
   "name": "python",
   "nbconvert_exporter": "python",
   "pygments_lexer": "ipython3",
   "version": "3.11.4"
  }
 },
 "nbformat": 4,
 "nbformat_minor": 5
}
