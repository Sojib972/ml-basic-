{
 "cells": [
  {
   "cell_type": "code",
   "execution_count": 1,
   "id": "eacd702a-ef48-4c96-bb38-60ac3bbbb3ce",
   "metadata": {},
   "outputs": [
    {
     "name": "stdout",
     "output_type": "stream",
     "text": [
      "prime 2\n",
      "prime 3\n",
      "prime 5\n",
      "prime 7\n",
      "prime 11\n",
      "prime 13\n",
      "prime 17\n",
      "prime 19\n",
      "prime 23\n",
      "prime 29\n",
      "prime 31\n",
      "prime 37\n",
      "prime 41\n",
      "prime 43\n",
      "prime 47\n"
     ]
    }
   ],
   "source": [
    "# prime number \n",
    "\n",
    "\n",
    "start = 1\n",
    "end = 50\n",
    "\n",
    "for num in range(start, end+1):\n",
    "    \n",
    "    if num > 1:\n",
    "        \n",
    "        for i in range(2, num):\n",
    "            if num % i == 0:\n",
    "                break\n",
    "        else:\n",
    "            print('prime', num)"
   ]
  },
  {
   "cell_type": "code",
   "execution_count": null,
   "id": "5022f8be-e6dc-4250-ad8e-f4b8f5a246dc",
   "metadata": {},
   "outputs": [],
   "source": [
    "n = int(input(\"please enter a valid number\"))\n",
    "for i in range(1,n+1):\n",
    "    for j in range(1, i+1 ):\n",
    "        print(\"#\", end=' ')\n",
    "    print()\n",
    "        \n",
    "        "
   ]
  },
  {
   "cell_type": "code",
   "execution_count": null,
   "id": "2df5f1c8-faeb-4944-8b74-8840b0ff7e2a",
   "metadata": {},
   "outputs": [],
   "source": [
    "n = 10\n",
    "seq = [0,1,3]\n",
    "for i in range(3,n):\n",
    "    seq.append(seq[-1] + seq[-2])\n",
    "    print(seq)"
   ]
  },
  {
   "cell_type": "code",
   "execution_count": null,
   "id": "bd2f7745-9bed-4750-a990-d6f1d77cbb19",
   "metadata": {},
   "outputs": [],
   "source": [
    "li = [1,2,5]\n",
    "li.append(3)\n",
    "li"
   ]
  },
  {
   "cell_type": "code",
   "execution_count": null,
   "id": "33463a0f-82ae-43c7-a27d-69f76bb18b4c",
   "metadata": {},
   "outputs": [],
   "source": [
    "for i in range(1,10):\n",
    "    print(i, end=' ')"
   ]
  },
  {
   "cell_type": "code",
   "execution_count": null,
   "id": "4753d549-4e3d-47f8-a358-db22f99dac07",
   "metadata": {},
   "outputs": [],
   "source": [
    "i =1\n",
    "while i<=10:\n",
    "    print(i)\n",
    "    i = i + 2"
   ]
  },
  {
   "cell_type": "code",
   "execution_count": 8,
   "id": "9fe9971f-bc6f-4212-a2eb-97fadb0d4dbd",
   "metadata": {},
   "outputs": [
    {
     "name": "stdout",
     "output_type": "stream",
     "text": [
      "10\n",
      "9\n",
      "8\n",
      "7\n",
      "6\n",
      "5\n",
      "4\n",
      "3\n",
      "2\n",
      "1\n"
     ]
    }
   ],
   "source": [
    "i =10\n",
    "while i >= 1:\n",
    "    print(i)\n",
    "    i -=1"
   ]
  },
  {
   "cell_type": "code",
   "execution_count": 16,
   "id": "75653c58-0f95-4472-842f-9b26922ff7ec",
   "metadata": {},
   "outputs": [
    {
     "name": "stdin",
     "output_type": "stream",
     "text": [
      " 8\n"
     ]
    },
    {
     "name": "stdout",
     "output_type": "stream",
     "text": [
      "even\n"
     ]
    }
   ],
   "source": [
    "num = int(input())\n",
    "\n",
    "while num % 2 != 0:\n",
    "    print('the number is odd')\n",
    "    num = int(input())\n",
    "print('even')"
   ]
  },
  {
   "cell_type": "code",
   "execution_count": 19,
   "id": "4188b648-826b-4e57-baee-0c92dd9cf3e7",
   "metadata": {},
   "outputs": [
    {
     "name": "stdout",
     "output_type": "stream",
     "text": [
      "5 x 1 = 5\n",
      "5 x 2 = 10\n",
      "5 x 3 = 15\n",
      "5 x 4 = 20\n",
      "5 x 5 = 25\n",
      "5 x 6 = 30\n",
      "5 x 7 = 35\n",
      "5 x 8 = 40\n",
      "5 x 9 = 45\n",
      "5 x 10 = 50\n"
     ]
    }
   ],
   "source": [
    "n = 5\n",
    "i =1\n",
    "while i <= 10:\n",
    "    print(f'{5} x {i} = {n * i}')\n",
    "    i += 1"
   ]
  },
  {
   "cell_type": "code",
   "execution_count": 20,
   "id": "164402c1-8928-4b75-bbe1-d4aea61b0444",
   "metadata": {},
   "outputs": [
    {
     "name": "stdout",
     "output_type": "stream",
     "text": [
      "hello world\n"
     ]
    }
   ],
   "source": [
    "# string\n",
    "st= 'hello'\n",
    "st1= 'world'\n",
    "print(st,st1)"
   ]
  },
  {
   "cell_type": "code",
   "execution_count": 22,
   "id": "036fe044-b04c-4e3f-a5f9-0080c884900a",
   "metadata": {},
   "outputs": [
    {
     "name": "stdout",
     "output_type": "stream",
     "text": [
      "hello     world\n"
     ]
    }
   ],
   "source": [
    "st= 'hello'\n",
    "st1= 'world'\n",
    "print(st +'     '+st1)"
   ]
  },
  {
   "cell_type": "code",
   "execution_count": 23,
   "id": "803e1e8b-34df-4e33-adf5-4c433bbf58f6",
   "metadata": {},
   "outputs": [
    {
     "name": "stdout",
     "output_type": "stream",
     "text": [
      "hellohellohello\n"
     ]
    }
   ],
   "source": [
    "st= 'hello'\n",
    "print(st*3)"
   ]
  },
  {
   "cell_type": "code",
   "execution_count": 24,
   "id": "35e29671-6a50-44df-ad12-46fe2caa0a9c",
   "metadata": {},
   "outputs": [
    {
     "data": {
      "text/plain": [
       "'h'"
      ]
     },
     "execution_count": 24,
     "metadata": {},
     "output_type": "execute_result"
    }
   ],
   "source": [
    "st[0]"
   ]
  },
  {
   "cell_type": "code",
   "execution_count": 25,
   "id": "662d4a95-b100-45b7-a6f6-f33a19f3991a",
   "metadata": {},
   "outputs": [
    {
     "data": {
      "text/plain": [
       "'llo'"
      ]
     },
     "execution_count": 25,
     "metadata": {},
     "output_type": "execute_result"
    }
   ],
   "source": [
    "st[2:]"
   ]
  },
  {
   "cell_type": "code",
   "execution_count": 27,
   "id": "4997671d-3eb4-4348-ab49-a3b7584323d2",
   "metadata": {},
   "outputs": [
    {
     "data": {
      "text/plain": [
       "'hello'"
      ]
     },
     "execution_count": 27,
     "metadata": {},
     "output_type": "execute_result"
    }
   ],
   "source": [
    "#strip\n",
    "st= '  hello '\n",
    "st= st.strip()\n",
    "st"
   ]
  },
  {
   "cell_type": "code",
   "execution_count": 29,
   "id": "9d870580-84c4-45b4-9c01-0ae8b1f1a442",
   "metadata": {},
   "outputs": [
    {
     "data": {
      "text/plain": [
       "['i', 'love', 'machine', 'learning']"
      ]
     },
     "execution_count": 29,
     "metadata": {},
     "output_type": "execute_result"
    }
   ],
   "source": [
    "s = 'i love machine learning'\n",
    "v = s.split()\n",
    "v"
   ]
  },
  {
   "cell_type": "code",
   "execution_count": 30,
   "id": "984e5153-2835-4e44-a8e3-f71d283a2189",
   "metadata": {},
   "outputs": [
    {
     "name": "stdout",
     "output_type": "stream",
     "text": [
      "i\n",
      "love\n",
      "machine\n",
      "learning\n"
     ]
    }
   ],
   "source": [
    "for i in v:\n",
    "    print(i)"
   ]
  },
  {
   "cell_type": "code",
   "execution_count": 33,
   "id": "263b0e4a-3790-4e06-a1c0-6746472c7af2",
   "metadata": {},
   "outputs": [
    {
     "data": {
      "text/plain": [
       "'i love machine learning'"
      ]
     },
     "execution_count": 33,
     "metadata": {},
     "output_type": "execute_result"
    }
   ],
   "source": [
    "new_dat= ' '.join(v)\n",
    "new_dat"
   ]
  },
  {
   "cell_type": "code",
   "execution_count": null,
   "id": "b6f0b302-a1c0-4cea-9171-bdc05db2efcb",
   "metadata": {},
   "outputs": [],
   "source": []
  }
 ],
 "metadata": {
  "kernelspec": {
   "display_name": "Python 3 (ipykernel)",
   "language": "python",
   "name": "python3"
  },
  "language_info": {
   "codemirror_mode": {
    "name": "ipython",
    "version": 3
   },
   "file_extension": ".py",
   "mimetype": "text/x-python",
   "name": "python",
   "nbconvert_exporter": "python",
   "pygments_lexer": "ipython3",
   "version": "3.11.4"
  }
 },
 "nbformat": 4,
 "nbformat_minor": 5
}
