{
 "cells": [
  {
   "cell_type": "markdown",
   "id": "4ddef773-7c2d-4292-b00d-ad8f7606a7e7",
   "metadata": {},
   "source": [
    "A function is a block of code which is orgnized and used as a reusable manner for performing a specific task"
   ]
  },
  {
   "cell_type": "code",
   "execution_count": 1,
   "id": "055efee5-5a9f-4da9-a6a3-b1a535fba4da",
   "metadata": {},
   "outputs": [
    {
     "name": "stdout",
     "output_type": "stream",
     "text": [
      "2\n"
     ]
    }
   ],
   "source": [
    "print(2)"
   ]
  },
  {
   "cell_type": "code",
   "execution_count": 2,
   "id": "0adc17d6-08da-433a-8f8d-4b5a4e95ee89",
   "metadata": {},
   "outputs": [
    {
     "data": {
      "text/plain": [
       "4"
      ]
     },
     "execution_count": 2,
     "metadata": {},
     "output_type": "execute_result"
    }
   ],
   "source": [
    "li = [1,2,5,6]\n",
    "len(li) # len()"
   ]
  },
  {
   "cell_type": "code",
   "execution_count": 3,
   "id": "fb5ce42b-2550-4a23-9f94-b1e5d290ade2",
   "metadata": {},
   "outputs": [
    {
     "name": "stdout",
     "output_type": "stream",
     "text": [
      "\n"
     ]
    },
    {
     "ename": "TypeError",
     "evalue": "len() takes exactly one argument (0 given)",
     "output_type": "error",
     "traceback": [
      "\u001b[1;31m---------------------------------------------------------------------------\u001b[0m",
      "\u001b[1;31mTypeError\u001b[0m                                 Traceback (most recent call last)",
      "Cell \u001b[1;32mIn[3], line 2\u001b[0m\n\u001b[0;32m      1\u001b[0m \u001b[38;5;28mprint\u001b[39m()\n\u001b[1;32m----> 2\u001b[0m \u001b[38;5;28;43mlen\u001b[39;49m\u001b[43m(\u001b[49m\u001b[43m)\u001b[49m\n\u001b[0;32m      3\u001b[0m \u001b[38;5;28minput\u001b[39m()\n\u001b[0;32m      4\u001b[0m \u001b[38;5;28mtype\u001b[39m()\n",
      "\u001b[1;31mTypeError\u001b[0m: len() takes exactly one argument (0 given)"
     ]
    }
   ],
   "source": [
    "print()\n",
    "len()\n",
    "input()\n",
    "type()\n",
    "int()\n",
    "float()\n",
    "range()\n",
    "sum()\n",
    "min()\n",
    "max()\n",
    "abs()\n",
    "round() # can be \n",
    "sorted()\n",
    "reversed()\n",
    "any()\n",
    "all()\n",
    "''.join()\n",
    "lower()\n",
    "upper()\n",
    "list()\n",
    "tuple()\n",
    "dict()\n",
    "set()\n",
    "enumerate()\n",
    "zip()\n",
    "slice()\n",
    "chr() # work with ascii value\n",
    "ord() ## work with ascii value\n"
   ]
  },
  {
   "cell_type": "code",
   "execution_count": 4,
   "id": "09f4073c-c974-4cd7-ae92-b031af76fa8e",
   "metadata": {},
   "outputs": [
    {
     "name": "stdout",
     "output_type": "stream",
     "text": [
      "50\n"
     ]
    }
   ],
   "source": [
    "li = [1,25,9,3,4,8]\n",
    "print(sum(li))"
   ]
  },
  {
   "cell_type": "code",
   "execution_count": 5,
   "id": "9e4a6693-9c8b-4511-970e-22c57503baad",
   "metadata": {},
   "outputs": [
    {
     "name": "stdout",
     "output_type": "stream",
     "text": [
      "1\n"
     ]
    }
   ],
   "source": [
    "print(min(li))"
   ]
  },
  {
   "cell_type": "code",
   "execution_count": 6,
   "id": "e2f27e01-6c62-434c-97ad-0f62a0308762",
   "metadata": {},
   "outputs": [
    {
     "name": "stdout",
     "output_type": "stream",
     "text": [
      "25\n"
     ]
    }
   ],
   "source": [
    "print(max(li))"
   ]
  },
  {
   "cell_type": "code",
   "execution_count": 7,
   "id": "a8ea3ddb-6413-4a4f-8a8c-8975e3de7d4c",
   "metadata": {},
   "outputs": [
    {
     "name": "stdout",
     "output_type": "stream",
     "text": [
      "3.141592653589793\n"
     ]
    }
   ],
   "source": [
    "import math\n",
    "print(math.pi)"
   ]
  },
  {
   "cell_type": "code",
   "execution_count": 9,
   "id": "263cbc01-8c2f-43fd-b030-e8a7d5cb525d",
   "metadata": {},
   "outputs": [
    {
     "name": "stdout",
     "output_type": "stream",
     "text": [
      "1.4142135623730951\n"
     ]
    }
   ],
   "source": [
    "print(math.sqrt(2))"
   ]
  },
  {
   "cell_type": "code",
   "execution_count": 11,
   "id": "2294baa9-48aa-4652-882b-aa330f508a19",
   "metadata": {},
   "outputs": [
    {
     "name": "stdout",
     "output_type": "stream",
     "text": [
      "3.0\n"
     ]
    }
   ],
   "source": [
    "print(9 ** .5)"
   ]
  },
  {
   "cell_type": "code",
   "execution_count": 12,
   "id": "27d89121-4403-4977-ba9a-3ded4e889b24",
   "metadata": {},
   "outputs": [
    {
     "data": {
      "text/plain": [
       "5"
      ]
     },
     "execution_count": 12,
     "metadata": {},
     "output_type": "execute_result"
    }
   ],
   "source": [
    "a = -5\n",
    "abs(a)"
   ]
  },
  {
   "cell_type": "code",
   "execution_count": 15,
   "id": "0f38934f-0d67-4aea-a809-7e00b8367324",
   "metadata": {},
   "outputs": [
    {
     "data": {
      "text/plain": [
       "3.142"
      ]
     },
     "execution_count": 15,
     "metadata": {},
     "output_type": "execute_result"
    }
   ],
   "source": [
    "a = 3.14161254\n",
    "round(a, 3)"
   ]
  },
  {
   "cell_type": "code",
   "execution_count": 16,
   "id": "bb3af898-b620-4aa9-8cf3-18b9f21a1062",
   "metadata": {},
   "outputs": [
    {
     "data": {
      "text/plain": [
       "[1, 3, 4, 8, 9, 25]"
      ]
     },
     "execution_count": 16,
     "metadata": {},
     "output_type": "execute_result"
    }
   ],
   "source": [
    "li = [1,25,9,3,4,8]\n",
    "sorted(li)"
   ]
  },
  {
   "cell_type": "code",
   "execution_count": 18,
   "id": "6ea1ce1e-ca8d-4edb-9603-d4860d3df5eb",
   "metadata": {},
   "outputs": [
    {
     "name": "stdout",
     "output_type": "stream",
     "text": [
      "[8, 4, 3, 9, 25, 1]\n"
     ]
    }
   ],
   "source": [
    "lis= list(reversed(li))\n",
    "print(lis)"
   ]
  },
  {
   "cell_type": "code",
   "execution_count": 20,
   "id": "81d3f7d7-44c0-4b0f-98c0-801e58f2351c",
   "metadata": {},
   "outputs": [
    {
     "data": {
      "text/plain": [
       "[1, 3, 4, 8, 9, 25]"
      ]
     },
     "execution_count": 20,
     "metadata": {},
     "output_type": "execute_result"
    }
   ],
   "source": [
    "li = [1,25,9,3,4,8]\n",
    "sort= sorted(li, reversed= True)\n",
    "sort"
   ]
  },
  {
   "cell_type": "code",
   "execution_count": null,
   "id": "b658a838-1a80-4fe8-ad27-a8bf06b2566c",
   "metadata": {},
   "outputs": [],
   "source": []
  }
 ],
 "metadata": {
  "kernelspec": {
   "display_name": "Python 3 (ipykernel)",
   "language": "python",
   "name": "python3"
  },
  "language_info": {
   "codemirror_mode": {
    "name": "ipython",
    "version": 3
   },
   "file_extension": ".py",
   "mimetype": "text/x-python",
   "name": "python",
   "nbconvert_exporter": "python",
   "pygments_lexer": "ipython3",
   "version": "3.11.4"
  }
 },
 "nbformat": 4,
 "nbformat_minor": 5
}
