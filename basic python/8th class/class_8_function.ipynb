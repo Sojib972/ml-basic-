{
 "cells": [
  {
   "cell_type": "markdown",
   "id": "4ddef773-7c2d-4292-b00d-ad8f7606a7e7",
   "metadata": {},
   "source": [
    "A function is a block of code which is orgnized and used as a reusable manner for performing a specific task"
   ]
  },
  {
   "cell_type": "code",
   "execution_count": 1,
   "id": "055efee5-5a9f-4da9-a6a3-b1a535fba4da",
   "metadata": {},
   "outputs": [
    {
     "name": "stdout",
     "output_type": "stream",
     "text": [
      "2\n"
     ]
    }
   ],
   "source": [
    "print(2)"
   ]
  },
  {
   "cell_type": "code",
   "execution_count": 2,
   "id": "0adc17d6-08da-433a-8f8d-4b5a4e95ee89",
   "metadata": {},
   "outputs": [
    {
     "data": {
      "text/plain": [
       "4"
      ]
     },
     "execution_count": 2,
     "metadata": {},
     "output_type": "execute_result"
    }
   ],
   "source": [
    "li = [1,2,5,6]\n",
    "len(li) # len()"
   ]
  },
  {
   "cell_type": "code",
   "execution_count": 3,
   "id": "fb5ce42b-2550-4a23-9f94-b1e5d290ade2",
   "metadata": {},
   "outputs": [
    {
     "name": "stdout",
     "output_type": "stream",
     "text": [
      "\n"
     ]
    },
    {
     "ename": "TypeError",
     "evalue": "len() takes exactly one argument (0 given)",
     "output_type": "error",
     "traceback": [
      "\u001b[1;31m---------------------------------------------------------------------------\u001b[0m",
      "\u001b[1;31mTypeError\u001b[0m                                 Traceback (most recent call last)",
      "Cell \u001b[1;32mIn[3], line 2\u001b[0m\n\u001b[0;32m      1\u001b[0m \u001b[38;5;28mprint\u001b[39m()\n\u001b[1;32m----> 2\u001b[0m \u001b[38;5;28;43mlen\u001b[39;49m\u001b[43m(\u001b[49m\u001b[43m)\u001b[49m\n\u001b[0;32m      3\u001b[0m \u001b[38;5;28minput\u001b[39m()\n\u001b[0;32m      4\u001b[0m \u001b[38;5;28mtype\u001b[39m()\n",
      "\u001b[1;31mTypeError\u001b[0m: len() takes exactly one argument (0 given)"
     ]
    }
   ],
   "source": [
    "print()\n",
    "len()\n",
    "input()\n",
    "type()\n",
    "int()\n",
    "float()\n",
    "range()\n",
    "sum()\n",
    "min()\n",
    "max()\n",
    "abs()\n",
    "round() # can be \n",
    "sorted()\n",
    "reversed()\n",
    "any()\n",
    "all()\n",
    "''.join()\n",
    "lower()\n",
    "upper()\n",
    "list()\n",
    "tuple()\n",
    "dict()\n",
    "set()\n",
    "enumerate()\n",
    "zip()\n",
    "slice()\n",
    "chr() # work with ascii value\n",
    "ord() ## work with ascii value\n",
    "keys()\n",
    "values()\n"
   ]
  },
  {
   "cell_type": "code",
   "execution_count": 4,
   "id": "09f4073c-c974-4cd7-ae92-b031af76fa8e",
   "metadata": {},
   "outputs": [
    {
     "name": "stdout",
     "output_type": "stream",
     "text": [
      "50\n"
     ]
    }
   ],
   "source": [
    "li = [1,25,9,3,4,8]\n",
    "print(sum(li))"
   ]
  },
  {
   "cell_type": "code",
   "execution_count": 5,
   "id": "9e4a6693-9c8b-4511-970e-22c57503baad",
   "metadata": {},
   "outputs": [
    {
     "name": "stdout",
     "output_type": "stream",
     "text": [
      "1\n"
     ]
    }
   ],
   "source": [
    "print(min(li))"
   ]
  },
  {
   "cell_type": "code",
   "execution_count": 6,
   "id": "e2f27e01-6c62-434c-97ad-0f62a0308762",
   "metadata": {},
   "outputs": [
    {
     "name": "stdout",
     "output_type": "stream",
     "text": [
      "25\n"
     ]
    }
   ],
   "source": [
    "print(max(li))"
   ]
  },
  {
   "cell_type": "code",
   "execution_count": 7,
   "id": "a8ea3ddb-6413-4a4f-8a8c-8975e3de7d4c",
   "metadata": {},
   "outputs": [
    {
     "name": "stdout",
     "output_type": "stream",
     "text": [
      "3.141592653589793\n"
     ]
    }
   ],
   "source": [
    "import math\n",
    "print(math.pi)"
   ]
  },
  {
   "cell_type": "code",
   "execution_count": 9,
   "id": "263cbc01-8c2f-43fd-b030-e8a7d5cb525d",
   "metadata": {},
   "outputs": [
    {
     "name": "stdout",
     "output_type": "stream",
     "text": [
      "1.4142135623730951\n"
     ]
    }
   ],
   "source": [
    "print(math.sqrt(2))"
   ]
  },
  {
   "cell_type": "code",
   "execution_count": 11,
   "id": "2294baa9-48aa-4652-882b-aa330f508a19",
   "metadata": {},
   "outputs": [
    {
     "name": "stdout",
     "output_type": "stream",
     "text": [
      "3.0\n"
     ]
    }
   ],
   "source": [
    "print(9 ** .5)"
   ]
  },
  {
   "cell_type": "code",
   "execution_count": 12,
   "id": "27d89121-4403-4977-ba9a-3ded4e889b24",
   "metadata": {},
   "outputs": [
    {
     "data": {
      "text/plain": [
       "5"
      ]
     },
     "execution_count": 12,
     "metadata": {},
     "output_type": "execute_result"
    }
   ],
   "source": [
    "a = -5\n",
    "abs(a)"
   ]
  },
  {
   "cell_type": "code",
   "execution_count": 15,
   "id": "0f38934f-0d67-4aea-a809-7e00b8367324",
   "metadata": {},
   "outputs": [
    {
     "data": {
      "text/plain": [
       "3.142"
      ]
     },
     "execution_count": 15,
     "metadata": {},
     "output_type": "execute_result"
    }
   ],
   "source": [
    "a = 3.14161254\n",
    "round(a, 3)"
   ]
  },
  {
   "cell_type": "code",
   "execution_count": 16,
   "id": "bb3af898-b620-4aa9-8cf3-18b9f21a1062",
   "metadata": {},
   "outputs": [
    {
     "data": {
      "text/plain": [
       "[1, 3, 4, 8, 9, 25]"
      ]
     },
     "execution_count": 16,
     "metadata": {},
     "output_type": "execute_result"
    }
   ],
   "source": [
    "li = [1,25,9,3,4,8]\n",
    "sorted(li)"
   ]
  },
  {
   "cell_type": "code",
   "execution_count": 18,
   "id": "6ea1ce1e-ca8d-4edb-9603-d4860d3df5eb",
   "metadata": {},
   "outputs": [
    {
     "name": "stdout",
     "output_type": "stream",
     "text": [
      "[8, 4, 3, 9, 25, 1]\n"
     ]
    }
   ],
   "source": [
    "lis= list(reversed(li))\n",
    "print(lis)"
   ]
  },
  {
   "cell_type": "code",
   "execution_count": 22,
   "id": "81d3f7d7-44c0-4b0f-98c0-801e58f2351c",
   "metadata": {},
   "outputs": [
    {
     "data": {
      "text/plain": [
       "[25, 9, 8, 4, 3, 1]"
      ]
     },
     "execution_count": 22,
     "metadata": {},
     "output_type": "execute_result"
    }
   ],
   "source": [
    "li = [1,25,9,3,4,8]\n",
    "sort= sorted(li, reverse=True)\n",
    "sort"
   ]
  },
  {
   "cell_type": "code",
   "execution_count": 24,
   "id": "b658a838-1a80-4fe8-ad27-a8bf06b2566c",
   "metadata": {},
   "outputs": [
    {
     "data": {
      "text/plain": [
       "True"
      ]
     },
     "execution_count": 24,
     "metadata": {},
     "output_type": "execute_result"
    }
   ],
   "source": [
    "a = [False,True,False,True]\n",
    "any_true = any(a)\n",
    "any_true"
   ]
  },
  {
   "cell_type": "code",
   "execution_count": 25,
   "id": "b3aadb85-2725-4b2a-9fb4-0617a320dd72",
   "metadata": {},
   "outputs": [
    {
     "data": {
      "text/plain": [
       "False"
      ]
     },
     "execution_count": 25,
     "metadata": {},
     "output_type": "execute_result"
    }
   ],
   "source": [
    "all_true = all(a)\n",
    "all_true"
   ]
  },
  {
   "cell_type": "code",
   "execution_count": 33,
   "id": "a25e5bec-6fcd-4f1a-9f8e-d4a4f71351cf",
   "metadata": {},
   "outputs": [
    {
     "name": "stdout",
     "output_type": "stream",
     "text": [
      "hello\n",
      "world\n"
     ]
    }
   ],
   "source": [
    "a = 'hello world'\n",
    "for i in a.split():\n",
    "    print(i)\n"
   ]
  },
  {
   "cell_type": "code",
   "execution_count": 36,
   "id": "755ee300-3301-4f81-8618-ad555f663ae4",
   "metadata": {},
   "outputs": [
    {
     "data": {
      "text/plain": [
       "'string apple mask'"
      ]
     },
     "execution_count": 36,
     "metadata": {},
     "output_type": "execute_result"
    }
   ],
   "source": [
    "li = [\"string\",\"apple\",\"mask\"]\n",
    "new= \" \".join(li)\n",
    "new"
   ]
  },
  {
   "cell_type": "code",
   "execution_count": 37,
   "id": "f36006d8-f665-4cf0-9a51-5307a900ecc4",
   "metadata": {},
   "outputs": [
    {
     "name": "stdout",
     "output_type": "stream",
     "text": [
      "hello\n",
      "world\n",
      "hello world\n"
     ]
    }
   ],
   "source": [
    "a = 'hello world'\n",
    "for i in a.split():\n",
    "    print(i)\n",
    "\n",
    "new= \" \".join(a.split())\n",
    "print(new)\n"
   ]
  },
  {
   "cell_type": "code",
   "execution_count": 38,
   "id": "1beecbfa-97f1-4c3c-abe9-210b87fc3c61",
   "metadata": {},
   "outputs": [
    {
     "data": {
      "text/plain": [
       "tuple"
      ]
     },
     "execution_count": 38,
     "metadata": {},
     "output_type": "execute_result"
    }
   ],
   "source": [
    "li = [\"string\",\"apple\",\"mask\"]\n",
    "new_li = tuple(li)\n",
    "type(new_li)"
   ]
  },
  {
   "cell_type": "code",
   "execution_count": 39,
   "id": "046ba716-9734-40bc-8ab2-98a5b78ddb22",
   "metadata": {},
   "outputs": [
    {
     "data": {
      "text/plain": [
       "{'name': 'python', 'age': '1957'}"
      ]
     },
     "execution_count": 39,
     "metadata": {},
     "output_type": "execute_result"
    }
   ],
   "source": [
    "dic = dict(name = \"python\", age= \"1957,165\")\n",
    "dic"
   ]
  },
  {
   "cell_type": "code",
   "execution_count": 40,
   "id": "2bbbef4f-a8a7-4dac-a241-cd0de610c3a4",
   "metadata": {},
   "outputs": [
    {
     "data": {
      "text/plain": [
       "dict_keys(['name', 'age'])"
      ]
     },
     "execution_count": 40,
     "metadata": {},
     "output_type": "execute_result"
    }
   ],
   "source": [
    "dic.keys()"
   ]
  },
  {
   "cell_type": "code",
   "execution_count": 41,
   "id": "2bf0cde2-b7b0-4d3c-8bee-2817e48e2256",
   "metadata": {},
   "outputs": [
    {
     "data": {
      "text/plain": [
       "dict_values(['python', '1957'])"
      ]
     },
     "execution_count": 41,
     "metadata": {},
     "output_type": "execute_result"
    }
   ],
   "source": [
    "dic.values()"
   ]
  },
  {
   "cell_type": "code",
   "execution_count": 43,
   "id": "7b61eb8a-9093-4bb5-96d3-d25ea9b87267",
   "metadata": {},
   "outputs": [
    {
     "name": "stdout",
     "output_type": "stream",
     "text": [
      "0 it is the value string\n",
      "1 it is the value apple\n",
      "2 it is the value mask\n"
     ]
    }
   ],
   "source": [
    "li = [\"string\",\"apple\",\"mask\"]\n",
    "for index, value in enumerate(li):\n",
    "    print(index, \"it is the value\", value)"
   ]
  },
  {
   "cell_type": "code",
   "execution_count": 46,
   "id": "5b225442-f84e-4c2d-a1be-67a4c1ac88e1",
   "metadata": {},
   "outputs": [
    {
     "name": "stdout",
     "output_type": "stream",
     "text": [
      "['mask', 1, 4, 56]\n"
     ]
    }
   ],
   "source": [
    "li = [\"string\",\"apple\",\"mask\",1,4,56,8,4]\n",
    "new_sl= slice(2,6)\n",
    "sli= li[new_sl]\n",
    "print(sli)"
   ]
  },
  {
   "cell_type": "code",
   "execution_count": 49,
   "id": "6fdbe2fc-d763-42c2-8f46-6c2d7b5d4aa0",
   "metadata": {},
   "outputs": [
    {
     "data": {
      "text/plain": [
       "121"
      ]
     },
     "execution_count": 49,
     "metadata": {},
     "output_type": "execute_result"
    }
   ],
   "source": [
    "a = ord(\"y\")\n",
    "a"
   ]
  },
  {
   "cell_type": "code",
   "execution_count": 52,
   "id": "bcc65ecd-888b-4829-9eac-1ae0b0f1941f",
   "metadata": {},
   "outputs": [
    {
     "data": {
      "text/plain": [
       "'ሪ'"
      ]
     },
     "execution_count": 52,
     "metadata": {},
     "output_type": "execute_result"
    }
   ],
   "source": [
    "a= chr(4650)\n",
    "a"
   ]
  },
  {
   "cell_type": "code",
   "execution_count": 54,
   "id": "cf2e8a62-301d-45d8-89d0-ef8d0e83592a",
   "metadata": {},
   "outputs": [
    {
     "name": "stdout",
     "output_type": "stream",
     "text": [
      "hello I am python\n"
     ]
    }
   ],
   "source": [
    "# user defined \n",
    "\n",
    "def my_function():\n",
    "    print(\"hello I am python\")\n",
    "my_function()"
   ]
  },
  {
   "cell_type": "code",
   "execution_count": 55,
   "id": "b7799cec-ec3e-45a0-b9ce-5315b57ac666",
   "metadata": {},
   "outputs": [
    {
     "name": "stdout",
     "output_type": "stream",
     "text": [
      "hello I am python\n"
     ]
    }
   ],
   "source": [
    "my_function()"
   ]
  },
  {
   "cell_type": "code",
   "execution_count": 57,
   "id": "8cbc8e0e-7438-49e1-bd9d-29468ed408bf",
   "metadata": {},
   "outputs": [
    {
     "name": "stdout",
     "output_type": "stream",
     "text": [
      "hello I am python\n"
     ]
    }
   ],
   "source": [
    "my_function()"
   ]
  },
  {
   "cell_type": "code",
   "execution_count": 60,
   "id": "3895ef25-d177-4718-a3b0-06ab46dd34eb",
   "metadata": {},
   "outputs": [
    {
     "name": "stdout",
     "output_type": "stream",
     "text": [
      "my name is machine\n"
     ]
    }
   ],
   "source": [
    "# parameterized \n",
    "def name(name):\n",
    "    print(f'my name is {name}')\n",
    "name(\"machine\")\n"
   ]
  },
  {
   "cell_type": "code",
   "execution_count": 64,
   "id": "013c1726-f924-4eac-938e-a44d3a414fb4",
   "metadata": {},
   "outputs": [
    {
     "data": {
      "text/plain": [
       "2"
      ]
     },
     "execution_count": 64,
     "metadata": {},
     "output_type": "execute_result"
    }
   ],
   "source": [
    "def name():\n",
    "    #print('sajib')\n",
    "    return 2\n",
    "name()"
   ]
  },
  {
   "cell_type": "code",
   "execution_count": 65,
   "id": "840d8c76-a038-4a82-bc11-21985b5012da",
   "metadata": {},
   "outputs": [
    {
     "data": {
      "text/plain": [
       "30"
      ]
     },
     "execution_count": 65,
     "metadata": {},
     "output_type": "execute_result"
    }
   ],
   "source": [
    "# local \n",
    "def num():\n",
    "  a = 10\n",
    "  b = 20\n",
    "  return(a+b)\n",
    "num()"
   ]
  },
  {
   "cell_type": "code",
   "execution_count": 69,
   "id": "a2bc4090-51e3-48f6-93e0-0b1d97769254",
   "metadata": {},
   "outputs": [
    {
     "data": {
      "text/plain": [
       "-1"
      ]
     },
     "execution_count": 69,
     "metadata": {},
     "output_type": "execute_result"
    }
   ],
   "source": [
    "def num(x,y):\n",
    "    res = x-y\n",
    "    return(res)\n",
    "    \n",
    "num(2,3)"
   ]
  },
  {
   "cell_type": "code",
   "execution_count": 72,
   "id": "28076e60-f79b-41da-bacf-1a09d7d58931",
   "metadata": {},
   "outputs": [
    {
     "name": "stdin",
     "output_type": "stream",
     "text": [
      "enter any number 9\n",
      "enter any number 3\n",
      "enter any number 8\n",
      "enter any number 2\n"
     ]
    },
    {
     "data": {
      "text/plain": [
       "((9, 3), (8, 2))"
      ]
     },
     "execution_count": 72,
     "metadata": {},
     "output_type": "execute_result"
    }
   ],
   "source": [
    "def user():\n",
    "    l= int(input(\"enter any number\"))\n",
    "    x= int(input(\"enter any number\"))\n",
    "    y= int(input(\"enter any number\"))\n",
    "    a= int(input(\"enter any number\"))\n",
    "    return (l,x), (y,a)\n",
    "\n",
    "user()"
   ]
  },
  {
   "cell_type": "code",
   "execution_count": 77,
   "id": "0f7ffacd-3377-4302-ba59-9903854d54c9",
   "metadata": {},
   "outputs": [
    {
     "name": "stdin",
     "output_type": "stream",
     "text": [
      "enter any number 9\n",
      "enter any number 6\n",
      "enter any number 8\n",
      "enter any number 7\n"
     ]
    },
    {
     "data": {
      "text/plain": [
       "(8, 7)"
      ]
     },
     "execution_count": 77,
     "metadata": {},
     "output_type": "execute_result"
    }
   ],
   "source": [
    "_, v2 = user()\n",
    "v2"
   ]
  },
  {
   "cell_type": "code",
   "execution_count": 75,
   "id": "5ce4cec2-9ff6-4237-a374-1f722af8365e",
   "metadata": {},
   "outputs": [
    {
     "data": {
      "text/plain": [
       "2"
      ]
     },
     "execution_count": 75,
     "metadata": {},
     "output_type": "execute_result"
    }
   ],
   "source": [
    "a,b = 2,3\n",
    "a"
   ]
  },
  {
   "cell_type": "code",
   "execution_count": 79,
   "id": "3bf8af26-d6c1-4737-a190-9d439c576fb5",
   "metadata": {},
   "outputs": [
    {
     "data": {
      "text/plain": [
       "15"
      ]
     },
     "execution_count": 79,
     "metadata": {},
     "output_type": "execute_result"
    }
   ],
   "source": [
    "def squ(x,y):\n",
    "    sq = x*y\n",
    "    return sq\n",
    "\n",
    "squ(5,3)"
   ]
  },
  {
   "cell_type": "code",
   "execution_count": 80,
   "id": "89d7485b-0f3a-4a32-ac3f-a2e3ca2f914e",
   "metadata": {},
   "outputs": [
    {
     "data": {
      "text/plain": [
       "(8, 15, 125)"
      ]
     },
     "execution_count": 80,
     "metadata": {},
     "output_type": "execute_result"
    }
   ],
   "source": [
    "def squ(x,y):\n",
    "    sq = x*y\n",
    "    cu= x**3\n",
    "    return (x+y), sq,cu\n",
    "\n",
    "squ(5,3)"
   ]
  },
  {
   "cell_type": "code",
   "execution_count": 81,
   "id": "c8bf264f-5bfe-440d-a5ca-3c1a1bde825c",
   "metadata": {},
   "outputs": [
    {
     "name": "stdin",
     "output_type": "stream",
     "text": [
      "enter any number:::1 5\n",
      "enter any number::: 2 9\n"
     ]
    },
    {
     "data": {
      "text/plain": [
       "14"
      ]
     },
     "execution_count": 81,
     "metadata": {},
     "output_type": "execute_result"
    }
   ],
   "source": [
    "def num1():\n",
    "    l= int(input(\"enter any number:::1\" ))\n",
    "    x= int(input(\"enter any number::: 2\"))\n",
    "    total = l + x\n",
    "    return total\n",
    "num1()"
   ]
  },
  {
   "cell_type": "code",
   "execution_count": 83,
   "id": "7398c925-944e-46d9-bf11-3d10deb9d4c9",
   "metadata": {},
   "outputs": [
    {
     "name": "stdin",
     "output_type": "stream",
     "text": [
      "enter any number:::1 5\n",
      "enter any number::: 2 4\n",
      "enter any number:::3 6\n",
      "enter any number:::4 8\n"
     ]
    },
    {
     "data": {
      "text/plain": [
       "57"
      ]
     },
     "execution_count": 83,
     "metadata": {},
     "output_type": "execute_result"
    }
   ],
   "source": [
    "def num2():\n",
    "    result= num1()\n",
    "    y= int(input(\"enter any number:::3\" ))\n",
    "    z= int(input(\"enter any number:::4\" ))\n",
    "    res = y * z\n",
    "    g_tot= result + res\n",
    "    return g_tot\n",
    "num2()"
   ]
  },
  {
   "cell_type": "code",
   "execution_count": null,
   "id": "e994577f-bd6e-4be3-bf57-caa6e1d36089",
   "metadata": {},
   "outputs": [],
   "source": []
  }
 ],
 "metadata": {
  "kernelspec": {
   "display_name": "Python 3 (ipykernel)",
   "language": "python",
   "name": "python3"
  },
  "language_info": {
   "codemirror_mode": {
    "name": "ipython",
    "version": 3
   },
   "file_extension": ".py",
   "mimetype": "text/x-python",
   "name": "python",
   "nbconvert_exporter": "python",
   "pygments_lexer": "ipython3",
   "version": "3.11.4"
  }
 },
 "nbformat": 4,
 "nbformat_minor": 5
}
