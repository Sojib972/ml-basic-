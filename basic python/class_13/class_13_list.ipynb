{
 "cells": [
  {
   "cell_type": "code",
   "execution_count": 1,
   "id": "cc7cf550-cf40-4370-b9a7-e632020a880b",
   "metadata": {},
   "outputs": [
    {
     "data": {
      "text/plain": [
       "[1, 2, 5]"
      ]
     },
     "execution_count": 1,
     "metadata": {},
     "output_type": "execute_result"
    }
   ],
   "source": [
    "# 9. Write a Python program to clone or copy list\n",
    "a = [1,2,5]\n",
    "b = [5,6,2]\n",
    "\n",
    "c = a.copy()\n",
    "c"
   ]
  },
  {
   "cell_type": "code",
   "execution_count": 2,
   "id": "0d3501f6-2509-4b43-91e6-624a249ff6ad",
   "metadata": {},
   "outputs": [
    {
     "data": {
      "text/plain": [
       "5"
      ]
     },
     "execution_count": 2,
     "metadata": {},
     "output_type": "execute_result"
    }
   ],
   "source": [
    "c.pop()"
   ]
  },
  {
   "cell_type": "code",
   "execution_count": 3,
   "id": "e5fba251-2cb0-466f-9d4f-d450449f5019",
   "metadata": {},
   "outputs": [
    {
     "data": {
      "text/plain": [
       "[1, 2]"
      ]
     },
     "execution_count": 3,
     "metadata": {},
     "output_type": "execute_result"
    }
   ],
   "source": [
    "c"
   ]
  },
  {
   "cell_type": "code",
   "execution_count": 4,
   "id": "74d8913c-26d8-4a36-85e8-3eaf4c089c03",
   "metadata": {},
   "outputs": [
    {
     "data": {
      "text/plain": [
       "[1, 2, 5]"
      ]
     },
     "execution_count": 4,
     "metadata": {},
     "output_type": "execute_result"
    }
   ],
   "source": [
    "a"
   ]
  },
  {
   "cell_type": "code",
   "execution_count": 5,
   "id": "4c6ea24c-243f-4e09-9b31-aaf75f46f1ea",
   "metadata": {},
   "outputs": [
    {
     "data": {
      "text/plain": [
       "[5, 6, 2]"
      ]
     },
     "execution_count": 5,
     "metadata": {},
     "output_type": "execute_result"
    }
   ],
   "source": [
    "d = b \n",
    "d"
   ]
  },
  {
   "cell_type": "code",
   "execution_count": 6,
   "id": "c4c10a88-4252-48e1-bfe4-4218c7225b5c",
   "metadata": {},
   "outputs": [
    {
     "data": {
      "text/plain": [
       "[5, 6, 2, 9]"
      ]
     },
     "execution_count": 6,
     "metadata": {},
     "output_type": "execute_result"
    }
   ],
   "source": [
    "d.append(9)\n",
    "d"
   ]
  },
  {
   "cell_type": "code",
   "execution_count": 7,
   "id": "ebf1190c-c17b-4e27-b3d7-7b0b7a570104",
   "metadata": {},
   "outputs": [
    {
     "data": {
      "text/plain": [
       "[5, 6, 2, 9]"
      ]
     },
     "execution_count": 7,
     "metadata": {},
     "output_type": "execute_result"
    }
   ],
   "source": [
    "b"
   ]
  },
  {
   "cell_type": "code",
   "execution_count": 11,
   "id": "939b78bf-aa85-421a-ab68-5b7221ce7be5",
   "metadata": {},
   "outputs": [
    {
     "name": "stdout",
     "output_type": "stream",
     "text": [
      "SAJIB SAHA\n"
     ]
    }
   ],
   "source": [
    "s = ['S', 'A', 'J', 'I','B',' ', 'S','A',\"H\",\"A\"] #  \"abcd\"\n",
    "string = ''.join(s)\n",
    "print(string)"
   ]
  },
  {
   "cell_type": "code",
   "execution_count": 1,
   "id": "f3e0b2ff-593b-4303-8bfc-88a582675a6d",
   "metadata": {},
   "outputs": [],
   "source": [
    "#22 \n",
    "\n",
    "a = [1,2,5,89,3,4]\n",
    "indix = a.index(89)"
   ]
  },
  {
   "cell_type": "code",
   "execution_count": 2,
   "id": "704c18fc-6c9e-4109-9b2c-e08b6fbef833",
   "metadata": {},
   "outputs": [
    {
     "data": {
      "text/plain": [
       "3"
      ]
     },
     "execution_count": 2,
     "metadata": {},
     "output_type": "execute_result"
    }
   ],
   "source": [
    "indix"
   ]
  },
  {
   "cell_type": "code",
   "execution_count": 3,
   "id": "43f1aa5c-231d-4f53-aa3e-bc19674e565d",
   "metadata": {},
   "outputs": [
    {
     "name": "stdout",
     "output_type": "stream",
     "text": [
      "5\n"
     ]
    }
   ],
   "source": [
    "print(a.index(4))"
   ]
  },
  {
   "cell_type": "code",
   "execution_count": 6,
   "id": "62a849be-3fd2-459a-b154-7ec6438c4fda",
   "metadata": {},
   "outputs": [
    {
     "data": {
      "text/plain": [
       "[[1, 2, 5, 96, 7], [1, 2, 5], [9], [5, 8, 9]]"
      ]
     },
     "execution_count": 6,
     "metadata": {},
     "output_type": "execute_result"
    }
   ],
   "source": [
    "#23 Write a Python program to flatten a shallow list.\n",
    "li = [[1,2,5,96,7],[1,2,5],[9],[5,8,9]]\n",
    "li"
   ]
  },
  {
   "cell_type": "code",
   "execution_count": 9,
   "id": "512a3017-d6cc-4129-b84f-66c4dc6207c7",
   "metadata": {},
   "outputs": [
    {
     "name": "stdout",
     "output_type": "stream",
     "text": [
      "1\n",
      "2\n",
      "5\n",
      "96\n",
      "7\n",
      "1\n",
      "2\n",
      "5\n",
      "9\n",
      "5\n",
      "8\n",
      "9\n"
     ]
    }
   ],
   "source": [
    "for i in li:\n",
    "    #print(i)\n",
    "    for j in i:\n",
    "        print(j)"
   ]
  },
  {
   "cell_type": "code",
   "execution_count": 15,
   "id": "e9394d29-25eb-41b5-afe9-0e29bdaef2b6",
   "metadata": {},
   "outputs": [
    {
     "data": {
      "text/plain": [
       "[1, 2, 5, 96, 7, 1, 2, 5, 9, 5, 8, 9]"
      ]
     },
     "execution_count": 15,
     "metadata": {},
     "output_type": "execute_result"
    }
   ],
   "source": [
    "li = [[1, 2, 5, 96, 7], [1, 2, 5], [9], [5, 8, 9]]\n",
    "def flatten(new):\n",
    "    return [j for i in new for j in i]\n",
    "\n",
    "flatten(li)"
   ]
  },
  {
   "cell_type": "code",
   "execution_count": 16,
   "id": "8fb39511-9d5e-4041-95f5-958be320ac10",
   "metadata": {},
   "outputs": [
    {
     "name": "stdout",
     "output_type": "stream",
     "text": [
      "[1, 2, 5, 96, 7, 1, 2, 5, 9, 5, 8, 9]\n"
     ]
    }
   ],
   "source": [
    "#24. Write a Python program to append a list to the second list.\n",
    "a= [1, 2, 5, 96, 7]\n",
    "b = [1, 2, 5, 9, 5, 8, 9]\n",
    "print(a + b )"
   ]
  },
  {
   "cell_type": "code",
   "execution_count": 17,
   "id": "c69a2a68-44c4-468b-9cf8-c54912dd0a65",
   "metadata": {},
   "outputs": [],
   "source": [
    "a.extend(b)"
   ]
  },
  {
   "cell_type": "code",
   "execution_count": 18,
   "id": "18560dbb-7f81-49b1-847d-8febcd89d23c",
   "metadata": {},
   "outputs": [
    {
     "data": {
      "text/plain": [
       "[1, 2, 5, 96, 7, 1, 2, 5, 9, 5, 8, 9]"
      ]
     },
     "execution_count": 18,
     "metadata": {},
     "output_type": "execute_result"
    }
   ],
   "source": [
    "a"
   ]
  },
  {
   "cell_type": "code",
   "execution_count": 21,
   "id": "d42c2ae0-5ee3-4b84-8329-b554dd2a09af",
   "metadata": {},
   "outputs": [
    {
     "name": "stdout",
     "output_type": "stream",
     "text": [
      "[1, 2, 5, 9, 5, 8, 9, 1, 2, 5, 96, 7]\n"
     ]
    }
   ],
   "source": [
    "a= [1, 2, 5, 96, 7]\n",
    "b = [1, 2, 5, 9, 5, 8, 9]\n",
    "for i in a:\n",
    "    #print(i)\n",
    "    b.append(i)\n",
    "print(b)"
   ]
  },
  {
   "cell_type": "code",
   "execution_count": 26,
   "id": "ca675ac6-5cd6-4d1b-8823-d158a98f85b2",
   "metadata": {},
   "outputs": [
    {
     "data": {
      "text/plain": [
       "([1, 2, 5, 9, 5, 8, 9, 1, 2, 5, 96, 7], [1, 2, 5, 96, 7], 7)"
      ]
     },
     "execution_count": 26,
     "metadata": {},
     "output_type": "execute_result"
    }
   ],
   "source": [
    "def appen(li1,li2):\n",
    "    for i in li1:\n",
    "        #print(i)\n",
    "        li2.append(i)\n",
    "    return li2,li1,i\n",
    "    \n",
    "\n",
    "\n",
    "a= [1, 2, 5, 96, 7]\n",
    "b = [1, 2, 5, 9, 5, 8, 9]\n",
    "appen(a,b)"
   ]
  },
  {
   "cell_type": "code",
   "execution_count": 36,
   "id": "9814b82e-8bf5-44e3-a360-be86d6cff34d",
   "metadata": {},
   "outputs": [
    {
     "name": "stdout",
     "output_type": "stream",
     "text": [
      "berry\n"
     ]
    }
   ],
   "source": [
    "# 25 Write a Python program to select an item randomly from a list.\n",
    "li = [\"apple\",\"illish\",\"mutton\",\"shrimp\",\"berry\"]\n",
    "import random\n",
    "print(random.choice(li))"
   ]
  },
  {
   "cell_type": "code",
   "execution_count": 42,
   "id": "a86044b7-4186-426a-9eee-1fb8a438f6d9",
   "metadata": {},
   "outputs": [
    {
     "data": {
      "text/plain": [
       "5"
      ]
     },
     "execution_count": 42,
     "metadata": {},
     "output_type": "execute_result"
    }
   ],
   "source": [
    "# 26 skip\n",
    "# 27. Write a Python program to find the second smallest number in a list.\n",
    "a = [5,8,6,7,3]\n",
    "a.sort()\n",
    "a[1]"
   ]
  },
  {
   "cell_type": "code",
   "execution_count": 45,
   "id": "502cc721-3155-4299-8787-560f237caa5d",
   "metadata": {},
   "outputs": [
    {
     "name": "stdout",
     "output_type": "stream",
     "text": [
      "0\n"
     ]
    }
   ],
   "source": [
    "li1 = []\n",
    "li = [1, 1, 0, 0, 2, 4, -2]\n",
    "for i in li:\n",
    "    #print(i)\n",
    "    if i not in li1:\n",
    "        li1.append(i)\n",
    "        li1.sort()\n",
    "print(li1[1])"
   ]
  },
  {
   "cell_type": "code",
   "execution_count": 51,
   "id": "bd87b2e5-ede1-449e-a6e1-aa81160d8f37",
   "metadata": {},
   "outputs": [
    {
     "data": {
      "text/plain": [
       "0"
      ]
     },
     "execution_count": 51,
     "metadata": {},
     "output_type": "execute_result"
    }
   ],
   "source": [
    "li = [1, 1, 0, 0, 2, 4, -2]\n",
    "def second_smallest(li):\n",
    "    if len(li) < 2:\n",
    "        return(\"don't match the required format\")\n",
    "    if len(li) ==2 and li[0] == li[1]:\n",
    "        print(\"the number are common\") \n",
    "\n",
    "    li2=[1]\n",
    "    for i in li:\n",
    "        if i not in li2:\n",
    "            li2.append(i)\n",
    "            li2.sort()\n",
    "    return li2[1]\n",
    "\n",
    "second_smallest(li)"
   ]
  },
  {
   "cell_type": "code",
   "execution_count": 54,
   "id": "d523a0ed-e6a4-4bc3-b70c-332eb9ec9a3c",
   "metadata": {},
   "outputs": [
    {
     "name": "stdout",
     "output_type": "stream",
     "text": [
      "[4, 2, 1, 0, -2]\n"
     ]
    }
   ],
   "source": [
    "li = [1, 1, 0, 0, 2, 4, -2]\n",
    " \n",
    "def second_highest(li):\n",
    "    if len(li) < 2:\n",
    "        return \"don't match the required format\"\n",
    "    if len(li) == 2 and li[0] == li[1]:\n",
    "        print(\"the numbers are common\")\n",
    "    li2 = []\n",
    "    for i in li:\n",
    "        if i not in li2:\n",
    "            li2.append(i)\n",
    "    li2.sort(reverse=True)\n",
    "    if len(li2) < 2:\n",
    "        return \"Not enough unique numbers\"\n",
    "    return li2\n",
    " \n",
    "print(second_highest(li))"
   ]
  },
  {
   "cell_type": "code",
   "execution_count": 56,
   "id": "3a1be3eb-cb3f-49a3-a8d1-f7cbc8deaf68",
   "metadata": {},
   "outputs": [
    {
     "name": "stdout",
     "output_type": "stream",
     "text": [
      "[40, 10, 50, 20, 60, 'Hello', 30]\n"
     ]
    }
   ],
   "source": [
    "#29 Write a Python program to get unique values from a list.\n",
    "my_list = [10, 20, 30, 40, 20, 50, 60, 40,'Hello', 'Hello']\n",
    "\n",
    "print(list(set(my_list)))"
   ]
  },
  {
   "cell_type": "code",
   "execution_count": 57,
   "id": "3a01db70-a075-4cab-ad32-41ce6453996a",
   "metadata": {},
   "outputs": [
    {
     "name": "stdout",
     "output_type": "stream",
     "text": [
      "[10, 20, 30, 40, 50, 60, 'Hello']\n"
     ]
    }
   ],
   "source": [
    "unique= []\n",
    "for item in my_list:\n",
    "    if item not in unique:\n",
    "        unique.append(item)\n",
    "print(unique)"
   ]
  },
  {
   "cell_type": "code",
   "execution_count": 60,
   "id": "979a8a72-98d9-437a-aa25-04a0d47a2f2a",
   "metadata": {},
   "outputs": [
    {
     "name": "stdout",
     "output_type": "stream",
     "text": [
      "{10: 1, 20: 2, 30: 1, 40: 2, 50: 1, 60: 1}\n"
     ]
    }
   ],
   "source": [
    "# 30. Write a Python program to get the frequency of the elements in a list.\n",
    "my_list = [10, 20, 30, 40, 20, 50, 60, 40]\n",
    "feq = {}\n",
    "for item in my_list:\n",
    "    if item in feq:\n",
    "        feq[item]+= 1 # feq[item] =feq[item] + 1\n",
    "    else:\n",
    "        feq[item] = 1\n",
    "print(feq)"
   ]
  },
  {
   "cell_type": "code",
   "execution_count": 63,
   "id": "6a79f590-d957-45f4-b7f6-2540b84ec58f",
   "metadata": {},
   "outputs": [
    {
     "name": "stdout",
     "output_type": "stream",
     "text": [
      "2 [80, 90]\n"
     ]
    }
   ],
   "source": [
    "#31. Write a Python program to count the number of elements in a list within a specified range.\n",
    "my_list = [10, 20, 30, 40, 20, 50, 60, 40,80,90,70]\n",
    "count = 0\n",
    "mi= 80\n",
    "mx= 90\n",
    "new = []\n",
    "for item in my_list:\n",
    "    if mi <= item <= mx:\n",
    "        count= count +1\n",
    "        new.append(item)\n",
    "print(count, new)"
   ]
  },
  {
   "cell_type": "code",
   "execution_count": 64,
   "id": "3dc8f7bb-96d9-43aa-8f6f-725a920e592f",
   "metadata": {},
   "outputs": [
    {
     "data": {
      "text/plain": [
       "(2, 80, 90)"
      ]
     },
     "execution_count": 64,
     "metadata": {},
     "output_type": "execute_result"
    }
   ],
   "source": [
    "def cout(li,min, max):\n",
    "    count =0 \n",
    "    for item in my_list:\n",
    "        if mi <= item <= mx:\n",
    "            count= count +1\n",
    "            new.append(item)\n",
    "    return count, min, max\n",
    "\n",
    "\n",
    "\n",
    "my_list = [10, 20, 30, 40, 20, 50, 60, 40,80,90,70]\n",
    "cout(my_list,80,90)"
   ]
  },
  {
   "cell_type": "code",
   "execution_count": 67,
   "id": "eb17b28b-ab91-4ba3-a9c4-fc249370eafd",
   "metadata": {},
   "outputs": [
    {
     "name": "stdout",
     "output_type": "stream",
     "text": [
      "[[], [10], [20], [30], [40], [10, 20], [10, 30], [10, 40], [20, 30], [20, 40], [30, 40], [10, 20, 30], [10, 20, 40], [10, 30, 40], [20, 30, 40], [10, 20, 30, 40]]\n"
     ]
    }
   ],
   "source": [
    "# 33. Write a Python program to generate all sublists of a list.\n",
    "my_list = [10, 20, 30, 40]\n",
    "from itertools import combinations\n",
    "sub = []\n",
    "for i in range(len(my_list)+1):\n",
    "    temp = [list(x) for x in combinations(my_list,i)]\n",
    "    if len(temp)>0:\n",
    "        sub.extend(temp)\n",
    "print(sub)"
   ]
  },
  {
   "cell_type": "code",
   "execution_count": 69,
   "id": "1274421b-5b0c-49de-abad-9275695ccd38",
   "metadata": {},
   "outputs": [
    {
     "name": "stdout",
     "output_type": "stream",
     "text": [
      "['p1', 'q1', 'p2', 'q2', 'p3', 'q3', 'p4', 'q4', 'p5', 'q5']\n"
     ]
    }
   ],
   "source": [
    "# 35 Write a Python program to create a list by concatenating a given list which range goes from 1 to n.\n",
    "Sample= ['p', 'q']\n",
    "n = 5\n",
    "sample = []\n",
    "for i in range(1, n+1):\n",
    "    sample.append(f'p{i}')\n",
    "    sample.append(f'q{i}')\n",
    "print(sample)"
   ]
  },
  {
   "cell_type": "code",
   "execution_count": 72,
   "id": "d68f509c-b66f-4526-96c4-fd7d8cd98417",
   "metadata": {},
   "outputs": [
    {
     "name": "stdout",
     "output_type": "stream",
     "text": [
      "2189334273808\n"
     ]
    }
   ],
   "source": [
    "# 36. Write a Python program to get variable unique identification number or string.\n",
    "x = 1000\n",
    "print(format(id(x)))"
   ]
  },
  {
   "cell_type": "code",
   "execution_count": 73,
   "id": "270c5b29-8a16-4e63-9d97-5478fea629c4",
   "metadata": {},
   "outputs": [
    {
     "data": {
      "text/plain": [
       "{40, 50, 60}"
      ]
     },
     "execution_count": 73,
     "metadata": {},
     "output_type": "execute_result"
    }
   ],
   "source": [
    "#37. Write a Python program to find common items from two lists.\n",
    "num1=[10,20,30,40,50,60]\n",
    "num2=[40,50,60,70,80,90]\n",
    "num3 = set(num1) & set(num2)\n",
    "num3"
   ]
  },
  {
   "cell_type": "code",
   "execution_count": 75,
   "id": "cf2fc035-7b23-45b5-a9ff-6bc15e9d7862",
   "metadata": {},
   "outputs": [
    {
     "data": {
      "text/plain": [
       "1234"
      ]
     },
     "execution_count": 75,
     "metadata": {},
     "output_type": "execute_result"
    }
   ],
   "source": [
    "# 39 Write a Python program to convert a list of multiple integers into a single integer.\n",
    "a = [1,2,3,4] # 1234 means map \n",
    "\n",
    "num= int(''.join(map(str,a)))\n",
    "num"
   ]
  },
  {
   "cell_type": "code",
   "execution_count": 76,
   "id": "cc08e49f-1248-4e16-a1ae-6a1231dd74cd",
   "metadata": {},
   "outputs": [
    {
     "name": "stdout",
     "output_type": "stream",
     "text": [
      "<class 'int'>\n"
     ]
    }
   ],
   "source": [
    "print(type(num)) "
   ]
  },
  {
   "cell_type": "code",
   "execution_count": 87,
   "id": "ba67b305-dd48-4e91-a263-8b941e9d884e",
   "metadata": {},
   "outputs": [],
   "source": [
    "new_a = (''.join(map(str,a)))"
   ]
  },
  {
   "cell_type": "code",
   "execution_count": 88,
   "id": "995bb317-ba6e-4689-8f8e-5b7ada104dc2",
   "metadata": {},
   "outputs": [
    {
     "data": {
      "text/plain": [
       "str"
      ]
     },
     "execution_count": 88,
     "metadata": {},
     "output_type": "execute_result"
    }
   ],
   "source": [
    "type(new_a)"
   ]
  },
  {
   "cell_type": "code",
   "execution_count": 89,
   "id": "ba104063-9097-4f47-a47c-2c9154908291",
   "metadata": {},
   "outputs": [
    {
     "name": "stdout",
     "output_type": "stream",
     "text": [
      "a\n",
      "ask\n",
      "b\n",
      "be\n",
      "c\n",
      "call\n",
      "come\n",
      "d\n",
      "do\n",
      "f\n",
      "feel\n",
      "find\n",
      "g\n",
      "get\n",
      "give\n",
      "go\n",
      "h\n",
      "have\n",
      "k\n",
      "know\n",
      "l\n",
      "leave\n",
      "look\n",
      "m\n",
      "make\n",
      "s\n",
      "say\n",
      "see\n",
      "seem\n",
      "t\n",
      "take\n",
      "tell\n",
      "think\n",
      "u\n",
      "use\n",
      "w\n",
      "want\n",
      "work\n"
     ]
    }
   ],
   "source": [
    "# 40\n",
    "from itertools import groupby\n",
    "from operator import itemgetter\n",
    "\n",
    "# Define a list 'word_list' containing words\n",
    "word_list = ['be', 'have', 'do', 'say', 'get', 'make', 'go', 'know', 'take', 'see', 'come', 'think',\n",
    "             'look', 'want', 'give', 'use', 'find', 'tell', 'ask', 'work', 'seem', 'feel', 'leave', 'call']\n",
    "\n",
    "# Use 'groupby' to group and sort the words in 'word_list' based on the first letter of each word\n",
    "# Iterate through the groups and print the first letter and the words starting with that letter\n",
    "for letter, words in groupby(sorted(word_list), key=itemgetter(0)):\n",
    "    print(letter)\n",
    "    for word in words:\n",
    "        print(word)"
   ]
  },
  {
   "cell_type": "code",
   "execution_count": null,
   "id": "3326882c-47b5-4cbc-bd4d-f54455729c29",
   "metadata": {},
   "outputs": [],
   "source": []
  }
 ],
 "metadata": {
  "kernelspec": {
   "display_name": "Python 3 (ipykernel)",
   "language": "python",
   "name": "python3"
  },
  "language_info": {
   "codemirror_mode": {
    "name": "ipython",
    "version": 3
   },
   "file_extension": ".py",
   "mimetype": "text/x-python",
   "name": "python",
   "nbconvert_exporter": "python",
   "pygments_lexer": "ipython3",
   "version": "3.11.4"
  }
 },
 "nbformat": 4,
 "nbformat_minor": 5
}
