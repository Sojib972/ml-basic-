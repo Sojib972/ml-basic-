{
 "cells": [
  {
   "cell_type": "code",
   "execution_count": 3,
   "id": "e066be6b-a41d-40c7-9e23-6cde07112af0",
   "metadata": {},
   "outputs": [
    {
     "name": "stdout",
     "output_type": "stream",
     "text": [
      "5\n"
     ]
    }
   ],
   "source": [
    "def add():\n",
    "    a = 2\n",
    "    b = 3\n",
    "    c = a + b\n",
    "    print(c)\n",
    "\n",
    "add()"
   ]
  },
  {
   "cell_type": "code",
   "execution_count": 4,
   "id": "8ec1f14e-646f-4f35-927c-50c608487cde",
   "metadata": {},
   "outputs": [
    {
     "name": "stdout",
     "output_type": "stream",
     "text": [
      "5\n"
     ]
    }
   ],
   "source": [
    "def add(a,b): # parameter\n",
    "    c = a + b\n",
    "    print(c)\n",
    "\n",
    "add(2,3) # argument"
   ]
  },
  {
   "cell_type": "code",
   "execution_count": 7,
   "id": "64c06e52-78e4-4e6b-ab05-c40aff86443a",
   "metadata": {},
   "outputs": [
    {
     "data": {
      "text/plain": [
       "111"
      ]
     },
     "execution_count": 7,
     "metadata": {},
     "output_type": "execute_result"
    }
   ],
   "source": [
    "def add(lis):\n",
    "    total = 0\n",
    "    for i in lis:\n",
    "        total = total + i\n",
    "    return total\n",
    "    \n",
    "\n",
    "li = [1,2,5,6,74,8,6,9]\n",
    "\n",
    "add(li)"
   ]
  },
  {
   "cell_type": "code",
   "execution_count": 10,
   "id": "087747e7-5d14-4297-94f9-6c797391b64e",
   "metadata": {},
   "outputs": [
    {
     "name": "stdin",
     "output_type": "stream",
     "text": [
      "enter the 1st number::---- 5\n",
      "enter the last number::---- 9\n"
     ]
    },
    {
     "name": "stdout",
     "output_type": "stream",
     "text": [
      "summation of the range of values from 5 to 9 35\n"
     ]
    }
   ],
   "source": [
    "def add_num(a , b):\n",
    "    total = 0\n",
    "    for i in range(a,b+1):\n",
    "        total = total + i\n",
    "    return total\n",
    "\n",
    "\n",
    "\n",
    "start = int(input(\"enter the 1st number::----\"))\n",
    "end = int(input(\"enter the last number::----\"))\n",
    "\n",
    "print(f'summation of the range of values from {start} to {end}', add_num(start, end))\n"
   ]
  },
  {
   "cell_type": "code",
   "execution_count": 11,
   "id": "fefcac01-ae16-46bb-ba9f-b4ed80b198e7",
   "metadata": {},
   "outputs": [
    {
     "data": {
      "text/plain": [
       "88"
      ]
     },
     "execution_count": 11,
     "metadata": {},
     "output_type": "execute_result"
    }
   ],
   "source": [
    "lis = [1,2,5,6,74]\n",
    "\n",
    "add(lis)"
   ]
  },
  {
   "cell_type": "code",
   "execution_count": 12,
   "id": "2691c7d2-d7fb-4349-ae83-7b355e6203f2",
   "metadata": {},
   "outputs": [
    {
     "data": {
      "text/plain": [
       "[8, 3, 6, 5, 2]"
      ]
     },
     "execution_count": 12,
     "metadata": {},
     "output_type": "execute_result"
    }
   ],
   "source": [
    "# reverse \n",
    "\n",
    "def reverse(a):\n",
    "    for i in a:\n",
    "        return a[:: -1]\n",
    "\n",
    "\n",
    "li =[2,5,6,3,8]\n",
    "reverse(li)"
   ]
  },
  {
   "cell_type": "code",
   "execution_count": 14,
   "id": "c4198eb4-becc-4231-aabb-03cf44223b2d",
   "metadata": {},
   "outputs": [
    {
     "name": "stdout",
     "output_type": "stream",
     "text": [
      "[2, 5, 6]\n"
     ]
    }
   ],
   "source": [
    "li =[2,5,6,3,8]\n",
    "print(li[: 3])"
   ]
  },
  {
   "cell_type": "code",
   "execution_count": 15,
   "id": "a11ea0bb-4711-4309-b3b2-a00fd04bfa8e",
   "metadata": {},
   "outputs": [
    {
     "data": {
      "text/plain": [
       "16"
      ]
     },
     "execution_count": 15,
     "metadata": {},
     "output_type": "execute_result"
    }
   ],
   "source": [
    "def li_sum(a):\n",
    "    total = 0\n",
    "    for i in a:\n",
    "        if i % 2==0:\n",
    "         total = total + i\n",
    "    return total\n",
    "\n",
    "li =[2,5,6,3,8]\n",
    "li_sum(li)"
   ]
  },
  {
   "cell_type": "code",
   "execution_count": 23,
   "id": "d93e29cd-f58b-410e-b2aa-21a9a8aeb68f",
   "metadata": {},
   "outputs": [
    {
     "data": {
      "text/plain": [
       "[2, 5, 6, 3, 8, 4, 9]"
      ]
     },
     "execution_count": 23,
     "metadata": {},
     "output_type": "execute_result"
    }
   ],
   "source": [
    "#find out unique values\n",
    "def unique(a):\n",
    "    dep =[]\n",
    "    for v in a:\n",
    "        if v not in dep:\n",
    "            dep.append(v)\n",
    "    return dep\n",
    "        \n",
    "\n",
    "li =[2,5,6,3,8,4,5,8,2,4,9]\n",
    "unique(li)"
   ]
  },
  {
   "cell_type": "code",
   "execution_count": 36,
   "id": "7e20b732-a862-493d-b946-e8a1d7bd151c",
   "metadata": {},
   "outputs": [
    {
     "data": {
      "text/plain": [
       "2"
      ]
     },
     "execution_count": 36,
     "metadata": {},
     "output_type": "execute_result"
    }
   ],
   "source": [
    "li =[2,5,6,3,8,4,5,8,2,4,9]\n",
    "li.count(5)"
   ]
  },
  {
   "cell_type": "code",
   "execution_count": 34,
   "id": "16da41dd-e875-482f-8124-57bcb3bd032c",
   "metadata": {},
   "outputs": [
    {
     "data": {
      "text/plain": [
       "[5, 8, 2, 4]"
      ]
     },
     "execution_count": 34,
     "metadata": {},
     "output_type": "execute_result"
    }
   ],
   "source": [
    "def nunique(a):\n",
    "    dep =[]\n",
    "    dup= []\n",
    "    for i in a:\n",
    "        dep.append(i)\n",
    "        if dep.count(i)>1:\n",
    "            dup.append(i)\n",
    "    return(dup)\n",
    "\n",
    "\n",
    "\n",
    "li =[2,5,6,3,8,4,5,8,2,4,9]\n",
    "nunique(li)"
   ]
  },
  {
   "cell_type": "code",
   "execution_count": 38,
   "id": "ef6d79e7-22ce-4d64-aea1-97de7a5c3d85",
   "metadata": {},
   "outputs": [
    {
     "data": {
      "text/plain": [
       "[1, 2, 5, 4, 36, 8, 4, 1, 5, 2, 6, 9, 36]"
      ]
     },
     "execution_count": 38,
     "metadata": {},
     "output_type": "execute_result"
    }
   ],
   "source": [
    "# concate\n",
    "def concate(a,b):\n",
    "    new_li= []\n",
    "    for i in a:\n",
    "        new_li.append(i)\n",
    "    for j in b:\n",
    "        new_li.append(j)\n",
    "    return new_li\n",
    "\n",
    "li1 =[1,2,5,4,36,8]\n",
    "li2=[4,1,5,2,6,9,36]\n",
    "concate(li1,li2)"
   ]
  },
  {
   "cell_type": "code",
   "execution_count": 43,
   "id": "bb9440db-d8a5-42cb-a68f-dd81f487abc6",
   "metadata": {},
   "outputs": [
    {
     "name": "stdout",
     "output_type": "stream",
     "text": [
      "name: sajib\n",
      "age: 26\n"
     ]
    }
   ],
   "source": [
    "#key word argument\n",
    "\n",
    "def  value(name,age):\n",
    "    print(\"name:\" ,name)\n",
    "    print(\"age:\",age)\n",
    "\n",
    "\n",
    "value(age= 26, name=\"sajib\")"
   ]
  },
  {
   "cell_type": "code",
   "execution_count": 47,
   "id": "a22b8b82-7f9a-4863-89f8-3b040d71af59",
   "metadata": {},
   "outputs": [
    {
     "name": "stdout",
     "output_type": "stream",
     "text": [
      "name: sajib\n",
      "age: 26\n"
     ]
    }
   ],
   "source": [
    "def val( name,age= 26):\n",
    "    print(\"name:\" ,name)\n",
    "    print(\"age:\",age)\n",
    "\n",
    "val(\"sajib\")"
   ]
  },
  {
   "cell_type": "code",
   "execution_count": 49,
   "id": "639c7e24-2e52-4d5b-acaa-1f26250ea221",
   "metadata": {},
   "outputs": [
    {
     "ename": "TypeError",
     "evalue": "val() missing 1 required positional argument: 'age'",
     "output_type": "error",
     "traceback": [
      "\u001b[1;31m---------------------------------------------------------------------------\u001b[0m",
      "\u001b[1;31mTypeError\u001b[0m                                 Traceback (most recent call last)",
      "Cell \u001b[1;32mIn[49], line 5\u001b[0m\n\u001b[0;32m      2\u001b[0m     \u001b[38;5;28mprint\u001b[39m(\u001b[38;5;124m\"\u001b[39m\u001b[38;5;124mname:\u001b[39m\u001b[38;5;124m\"\u001b[39m ,name)\n\u001b[0;32m      3\u001b[0m     \u001b[38;5;28mprint\u001b[39m(\u001b[38;5;124m\"\u001b[39m\u001b[38;5;124mage:\u001b[39m\u001b[38;5;124m\"\u001b[39m,age)\n\u001b[1;32m----> 5\u001b[0m \u001b[43mval\u001b[49m\u001b[43m(\u001b[49m\u001b[38;5;124;43m\"\u001b[39;49m\u001b[38;5;124;43msajib\u001b[39;49m\u001b[38;5;124;43m\"\u001b[39;49m\u001b[43m)\u001b[49m\n",
      "\u001b[1;31mTypeError\u001b[0m: val() missing 1 required positional argument: 'age'"
     ]
    }
   ],
   "source": [
    "def val( name,age):\n",
    "    print(\"name:\" ,name)\n",
    "    print(\"age:\",age)\n",
    "\n",
    "val(\"sajib\")"
   ]
  },
  {
   "cell_type": "code",
   "execution_count": null,
   "id": "967d18bc-a73f-47be-89fb-e6ddc680a2e8",
   "metadata": {},
   "outputs": [],
   "source": []
  }
 ],
 "metadata": {
  "kernelspec": {
   "display_name": "Python 3 (ipykernel)",
   "language": "python",
   "name": "python3"
  },
  "language_info": {
   "codemirror_mode": {
    "name": "ipython",
    "version": 3
   },
   "file_extension": ".py",
   "mimetype": "text/x-python",
   "name": "python",
   "nbconvert_exporter": "python",
   "pygments_lexer": "ipython3",
   "version": "3.11.4"
  }
 },
 "nbformat": 4,
 "nbformat_minor": 5
}
