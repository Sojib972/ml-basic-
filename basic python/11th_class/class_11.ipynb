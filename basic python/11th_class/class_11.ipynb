{
 "cells": [
  {
   "cell_type": "markdown",
   "id": "a2dad792-2643-4c2e-ae72-abe355468f7d",
   "metadata": {},
   "source": [
    "# A list is a built-in data structure that allows you to store an ordered collection of items. Lists are mutable, meaning their elements can be changed after the list is created. Lists can store items of different types, including integers, strings, and other lists"
   ]
  },
  {
   "cell_type": "code",
   "execution_count": 1,
   "id": "37507409-4d6d-4fc0-a845-e286d6bc8f71",
   "metadata": {},
   "outputs": [
    {
     "data": {
      "text/plain": [
       "list"
      ]
     },
     "execution_count": 1,
     "metadata": {},
     "output_type": "execute_result"
    }
   ],
   "source": [
    "a = [1,2,5]\n",
    "a\n",
    "type(a)"
   ]
  },
  {
   "cell_type": "code",
   "execution_count": 8,
   "id": "eb656877-428f-4922-9555-31665560de0e",
   "metadata": {},
   "outputs": [
    {
     "data": {
      "text/plain": [
       "list"
      ]
     },
     "execution_count": 8,
     "metadata": {},
     "output_type": "execute_result"
    }
   ],
   "source": [
    "a = [1,2,4,[1,2,5,8],(\"name\", \"age\"),{1,5,9}]\n",
    "a\n",
    "type(a)"
   ]
  },
  {
   "cell_type": "code",
   "execution_count": 9,
   "id": "75998fea-aa7b-408c-acd5-b615654f60a5",
   "metadata": {},
   "outputs": [
    {
     "data": {
      "text/plain": [
       "2"
      ]
     },
     "execution_count": 9,
     "metadata": {},
     "output_type": "execute_result"
    }
   ],
   "source": [
    "a[1]"
   ]
  },
  {
   "cell_type": "code",
   "execution_count": 12,
   "id": "e77bfbc7-79aa-4b04-b78b-3e90d3722a86",
   "metadata": {},
   "outputs": [
    {
     "data": {
      "text/plain": [
       "5"
      ]
     },
     "execution_count": 12,
     "metadata": {},
     "output_type": "execute_result"
    }
   ],
   "source": [
    "a[3][2]"
   ]
  },
  {
   "cell_type": "code",
   "execution_count": 15,
   "id": "0f78445c-d563-450c-99fe-84319c23aa42",
   "metadata": {},
   "outputs": [
    {
     "data": {
      "text/plain": [
       "'name'"
      ]
     },
     "execution_count": 15,
     "metadata": {},
     "output_type": "execute_result"
    }
   ],
   "source": [
    "a[4][0]"
   ]
  },
  {
   "cell_type": "code",
   "execution_count": 16,
   "id": "caa10ce7-4999-4c1a-8a5a-2e20db6cbc76",
   "metadata": {},
   "outputs": [
    {
     "ename": "IndexError",
     "evalue": "list index out of range",
     "output_type": "error",
     "traceback": [
      "\u001b[1;31m---------------------------------------------------------------------------\u001b[0m",
      "\u001b[1;31mIndexError\u001b[0m                                Traceback (most recent call last)",
      "Cell \u001b[1;32mIn[16], line 1\u001b[0m\n\u001b[1;32m----> 1\u001b[0m \u001b[43ma\u001b[49m\u001b[43m[\u001b[49m\u001b[38;5;241;43m5\u001b[39;49m\u001b[43m]\u001b[49m[\u001b[38;5;241m2\u001b[39m]\n",
      "\u001b[1;31mIndexError\u001b[0m: list index out of range"
     ]
    }
   ],
   "source": [
    "a[5][2]"
   ]
  },
  {
   "cell_type": "code",
   "execution_count": 17,
   "id": "0caa4dda-7040-4aab-8a70-0ef0df3d1d7b",
   "metadata": {},
   "outputs": [
    {
     "data": {
      "text/plain": [
       "{'name': ['raji', 'jira'], 'age': [25, 26]}"
      ]
     },
     "execution_count": 17,
     "metadata": {},
     "output_type": "execute_result"
    }
   ],
   "source": [
    "dic = {\"name\": [\"raji\",'jira'],\n",
    "      \"age\": [25,26]}\n",
    "dic"
   ]
  },
  {
   "cell_type": "code",
   "execution_count": 20,
   "id": "436f35e1-1de4-4899-b7b2-a594c46e5b51",
   "metadata": {},
   "outputs": [
    {
     "data": {
      "text/plain": [
       "['raji', 'jira']"
      ]
     },
     "execution_count": 20,
     "metadata": {},
     "output_type": "execute_result"
    }
   ],
   "source": [
    "dic[\"name\"]"
   ]
  },
  {
   "cell_type": "code",
   "execution_count": 21,
   "id": "2ce8ff19-91df-4cf1-a8c2-cdcd88756be7",
   "metadata": {},
   "outputs": [
    {
     "data": {
      "text/plain": [
       "[1, 2, 4, [1, 2, 5, 8]]"
      ]
     },
     "execution_count": 21,
     "metadata": {},
     "output_type": "execute_result"
    }
   ],
   "source": [
    "a = [1,2,4,[1,2,5,8],(\"name\", \"age\"),{1,5,9}] #slice\n",
    "a[0: 4]"
   ]
  },
  {
   "cell_type": "code",
   "execution_count": 24,
   "id": "56943123-33ef-4ab7-a5ca-2e11971b6dac",
   "metadata": {},
   "outputs": [
    {
     "data": {
      "text/plain": [
       "[{1, 5, 9}, [1, 2, 5, 8]]"
      ]
     },
     "execution_count": 24,
     "metadata": {},
     "output_type": "execute_result"
    }
   ],
   "source": [
    "a[-1:-5:-2]"
   ]
  },
  {
   "cell_type": "code",
   "execution_count": 26,
   "id": "5387831b-6c01-44c9-8ccb-ae7f0ba3d62c",
   "metadata": {},
   "outputs": [
    {
     "data": {
      "text/plain": [
       "[10, 1, 2, 4, [1, 2, 5, 8], ('name', 'age'), {1, 5, 9}]"
      ]
     },
     "execution_count": 26,
     "metadata": {},
     "output_type": "execute_result"
    }
   ],
   "source": [
    "# append\n",
    "a = [1,2,4,[1,2,5,8],(\"name\", \"age\"),{1,5,9}] \n",
    "a.insert(0,10)\n",
    "a"
   ]
  },
  {
   "cell_type": "code",
   "execution_count": 27,
   "id": "50bb4676-8c03-43df-95f0-ab93a0ce6e58",
   "metadata": {},
   "outputs": [
    {
     "data": {
      "text/plain": [
       "[10, 1, 2, 4, [1, 2, 5, 8], ('name', 'age'), {1, 5, 9}, 'python']"
      ]
     },
     "execution_count": 27,
     "metadata": {},
     "output_type": "execute_result"
    }
   ],
   "source": [
    "a.append(\"python\")\n",
    "a"
   ]
  },
  {
   "cell_type": "code",
   "execution_count": 29,
   "id": "6171e99c-06cc-43bf-a9ec-9396f4992565",
   "metadata": {},
   "outputs": [
    {
     "data": {
      "text/plain": [
       "[10, 1, 2, 4, [1, 2, 5, 8], ('name', 'age'), {1, 5, 9}, 'python', 'ML', 'DL']"
      ]
     },
     "execution_count": 29,
     "metadata": {},
     "output_type": "execute_result"
    }
   ],
   "source": [
    "a.extend([\"ML\",\"DL\"])\n",
    "a"
   ]
  },
  {
   "cell_type": "code",
   "execution_count": 30,
   "id": "57f6ff58-9bdd-4840-b13c-d6ccbce1f592",
   "metadata": {},
   "outputs": [
    {
     "data": {
      "text/plain": [
       "[10,\n",
       " 1,\n",
       " 2,\n",
       " 4,\n",
       " [1, 2, 5, 8],\n",
       " ('name', 'age'),\n",
       " {1, 5, 9},\n",
       " 'python',\n",
       " 'ML',\n",
       " 'DL',\n",
       " ['python', 'Rubi']]"
      ]
     },
     "execution_count": 30,
     "metadata": {},
     "output_type": "execute_result"
    }
   ],
   "source": [
    "a.append([\"python\", \"Rubi\"])\n",
    "a"
   ]
  },
  {
   "cell_type": "code",
   "execution_count": 32,
   "id": "f3664386-e538-4be0-b3b8-7ea735122193",
   "metadata": {},
   "outputs": [
    {
     "data": {
      "text/plain": [
       "[10,\n",
       " 1,\n",
       " 2,\n",
       " 4,\n",
       " [1, 2, 5, 8],\n",
       " ('name', 'age'),\n",
       " {1, 5, 9},\n",
       " 'python',\n",
       " 'ML',\n",
       " 'DL',\n",
       " ['python', 'Rubi']]"
      ]
     },
     "execution_count": 32,
     "metadata": {},
     "output_type": "execute_result"
    }
   ],
   "source": [
    "a.index(4)\n",
    "a"
   ]
  },
  {
   "cell_type": "code",
   "execution_count": 37,
   "id": "3b7e85f9-63a4-4d20-8d5d-2937dff6e5d1",
   "metadata": {},
   "outputs": [
    {
     "data": {
      "text/plain": [
       "4"
      ]
     },
     "execution_count": 37,
     "metadata": {},
     "output_type": "execute_result"
    }
   ],
   "source": [
    "b = [10, 1, 2, 4, [1, 2, 5, 8], ('name', 'age'), {1, 5, 9}, 'python', 'ML', 'DL']\n",
    "b.index([1, 2, 5, 8])"
   ]
  },
  {
   "cell_type": "code",
   "execution_count": 43,
   "id": "8a2cf158-219f-409e-b9dd-0531e81214c0",
   "metadata": {},
   "outputs": [],
   "source": [
    "c = [1, 9,2, 5, 3,8]\n",
    "c.sort(reverse=True)"
   ]
  },
  {
   "cell_type": "code",
   "execution_count": 44,
   "id": "74565d2c-435f-47dc-bd04-2b7894f66bde",
   "metadata": {},
   "outputs": [
    {
     "data": {
      "text/plain": [
       "[9, 8, 5, 3, 2, 1]"
      ]
     },
     "execution_count": 44,
     "metadata": {},
     "output_type": "execute_result"
    }
   ],
   "source": [
    "c"
   ]
  },
  {
   "cell_type": "code",
   "execution_count": 45,
   "id": "4dd1ee66-fe43-4547-b515-657bb04ab041",
   "metadata": {},
   "outputs": [
    {
     "data": {
      "text/plain": [
       "[9, 'ml', 5, 3, 2, 1]"
      ]
     },
     "execution_count": 45,
     "metadata": {},
     "output_type": "execute_result"
    }
   ],
   "source": [
    "c[1]= \"ml\"\n",
    "c"
   ]
  },
  {
   "cell_type": "code",
   "execution_count": 46,
   "id": "6f23ca33-4831-4d55-ae91-cce110691be8",
   "metadata": {},
   "outputs": [
    {
     "data": {
      "text/plain": [
       "[9, 'ml', 5, 3, 2, 1]"
      ]
     },
     "execution_count": 46,
     "metadata": {},
     "output_type": "execute_result"
    }
   ],
   "source": [
    "#remove \n",
    "c"
   ]
  },
  {
   "cell_type": "code",
   "execution_count": 47,
   "id": "911b6711-5ae5-417d-8e98-241379faa867",
   "metadata": {},
   "outputs": [],
   "source": [
    "c.remove(5)"
   ]
  },
  {
   "cell_type": "code",
   "execution_count": 48,
   "id": "1d2bea0a-3d12-4c5f-a0c1-7db9c08f7edf",
   "metadata": {},
   "outputs": [
    {
     "data": {
      "text/plain": [
       "[9, 'ml', 3, 2, 1]"
      ]
     },
     "execution_count": 48,
     "metadata": {},
     "output_type": "execute_result"
    }
   ],
   "source": [
    "c"
   ]
  },
  {
   "cell_type": "code",
   "execution_count": 49,
   "id": "ef517004-4ed1-4d65-8570-bac3a5ee8ef9",
   "metadata": {},
   "outputs": [
    {
     "data": {
      "text/plain": [
       "1"
      ]
     },
     "execution_count": 49,
     "metadata": {},
     "output_type": "execute_result"
    }
   ],
   "source": [
    "c.pop()"
   ]
  },
  {
   "cell_type": "code",
   "execution_count": 50,
   "id": "d614100e-ec88-4143-9fed-584afb2a899a",
   "metadata": {},
   "outputs": [
    {
     "data": {
      "text/plain": [
       "[9, 'ml', 3, 2]"
      ]
     },
     "execution_count": 50,
     "metadata": {},
     "output_type": "execute_result"
    }
   ],
   "source": [
    "c"
   ]
  },
  {
   "cell_type": "code",
   "execution_count": 51,
   "id": "f0ff69ef-5945-4899-a9e0-6b02221fb9a5",
   "metadata": {},
   "outputs": [
    {
     "data": {
      "text/plain": [
       "3"
      ]
     },
     "execution_count": 51,
     "metadata": {},
     "output_type": "execute_result"
    }
   ],
   "source": [
    "c.pop(2)"
   ]
  },
  {
   "cell_type": "code",
   "execution_count": 52,
   "id": "2495fa06-a7fd-4e36-bb52-5231749940b4",
   "metadata": {},
   "outputs": [
    {
     "data": {
      "text/plain": [
       "[9, 'ml', 2]"
      ]
     },
     "execution_count": 52,
     "metadata": {},
     "output_type": "execute_result"
    }
   ],
   "source": [
    "c"
   ]
  },
  {
   "cell_type": "code",
   "execution_count": 53,
   "id": "eb5b9b78-7dee-49fc-b7ff-d3148661fd75",
   "metadata": {},
   "outputs": [],
   "source": [
    "c.clear()"
   ]
  },
  {
   "cell_type": "code",
   "execution_count": 54,
   "id": "87ecb3a8-1155-42eb-8975-cd46de86411a",
   "metadata": {},
   "outputs": [
    {
     "data": {
      "text/plain": [
       "[]"
      ]
     },
     "execution_count": 54,
     "metadata": {},
     "output_type": "execute_result"
    }
   ],
   "source": [
    "c"
   ]
  },
  {
   "cell_type": "code",
   "execution_count": 55,
   "id": "057ab20c-26ae-4b0b-8072-b01850160426",
   "metadata": {},
   "outputs": [
    {
     "data": {
      "text/plain": [
       "0"
      ]
     },
     "execution_count": 55,
     "metadata": {},
     "output_type": "execute_result"
    }
   ],
   "source": [
    "len(c)"
   ]
  },
  {
   "cell_type": "code",
   "execution_count": 56,
   "id": "07236857-d5b9-4820-a86f-1bbf51e9692a",
   "metadata": {},
   "outputs": [],
   "source": [
    "# copy \n",
    "a = [1,2,5,6,5]\n",
    "b = [2,5,8,9]"
   ]
  },
  {
   "cell_type": "code",
   "execution_count": 58,
   "id": "6b79153a-6a1b-4e56-821c-3982d12ec9d5",
   "metadata": {},
   "outputs": [
    {
     "data": {
      "text/plain": [
       "[1, 2, 5, 6, 5]"
      ]
     },
     "execution_count": 58,
     "metadata": {},
     "output_type": "execute_result"
    }
   ],
   "source": [
    "c= a.copy()\n",
    "c"
   ]
  },
  {
   "cell_type": "code",
   "execution_count": 59,
   "id": "a808d1b5-cd19-4592-b257-d2fee2b318d6",
   "metadata": {},
   "outputs": [
    {
     "data": {
      "text/plain": [
       "[1, 2, 5, 6]"
      ]
     },
     "execution_count": 59,
     "metadata": {},
     "output_type": "execute_result"
    }
   ],
   "source": [
    "a.pop()\n",
    "a"
   ]
  },
  {
   "cell_type": "code",
   "execution_count": 60,
   "id": "14823e5d-2b7b-413c-83a1-3c25630a1b19",
   "metadata": {},
   "outputs": [
    {
     "data": {
      "text/plain": [
       "[1, 2, 5, 6, 5]"
      ]
     },
     "execution_count": 60,
     "metadata": {},
     "output_type": "execute_result"
    }
   ],
   "source": [
    "c"
   ]
  },
  {
   "cell_type": "code",
   "execution_count": 61,
   "id": "c9e351ff-58c8-4af6-8f12-b17966836a05",
   "metadata": {},
   "outputs": [
    {
     "data": {
      "text/plain": [
       "[2, 5, 8, 9]"
      ]
     },
     "execution_count": 61,
     "metadata": {},
     "output_type": "execute_result"
    }
   ],
   "source": [
    "x = b\n",
    "x"
   ]
  },
  {
   "cell_type": "code",
   "execution_count": 62,
   "id": "46e388bd-7808-468a-a9aa-8ccd6c3a3ad0",
   "metadata": {},
   "outputs": [
    {
     "data": {
      "text/plain": [
       "[2, 5, 8]"
      ]
     },
     "execution_count": 62,
     "metadata": {},
     "output_type": "execute_result"
    }
   ],
   "source": [
    "b.pop()\n",
    "b"
   ]
  },
  {
   "cell_type": "code",
   "execution_count": 63,
   "id": "be7cc851-e40b-4a9a-b42f-962f241a4bbf",
   "metadata": {},
   "outputs": [
    {
     "data": {
      "text/plain": [
       "[2, 5, 8]"
      ]
     },
     "execution_count": 63,
     "metadata": {},
     "output_type": "execute_result"
    }
   ],
   "source": [
    "x"
   ]
  },
  {
   "cell_type": "code",
   "execution_count": 64,
   "id": "3a1505a0-4815-4051-8aa0-338ed41a570c",
   "metadata": {},
   "outputs": [
    {
     "data": {
      "text/plain": [
       "[1, 2, 5, 6]"
      ]
     },
     "execution_count": 64,
     "metadata": {},
     "output_type": "execute_result"
    }
   ],
   "source": [
    "a"
   ]
  },
  {
   "cell_type": "code",
   "execution_count": 66,
   "id": "2f07f4a4-bc39-4338-8cad-be785ed4b70a",
   "metadata": {},
   "outputs": [
    {
     "name": "stdout",
     "output_type": "stream",
     "text": [
      "1 2 5 6 "
     ]
    }
   ],
   "source": [
    "for i in a:\n",
    "    print(i, end= \" \")"
   ]
  },
  {
   "cell_type": "code",
   "execution_count": 67,
   "id": "80d0d528-ba4a-4564-8a3c-5cd00656a649",
   "metadata": {},
   "outputs": [
    {
     "data": {
      "text/plain": [
       "30"
      ]
     },
     "execution_count": 67,
     "metadata": {},
     "output_type": "execute_result"
    }
   ],
   "source": [
    "def add(li):\n",
    "    total = 0\n",
    "    for i in li:\n",
    "        total = total + i\n",
    "    return total\n",
    "\n",
    "\n",
    "\n",
    "x = [1,2,5,8,6,8]\n",
    "add(x)"
   ]
  },
  {
   "cell_type": "code",
   "execution_count": 68,
   "id": "6b02d344-8a64-42fb-a6e1-3a558487f2ac",
   "metadata": {},
   "outputs": [
    {
     "data": {
      "text/plain": [
       "30"
      ]
     },
     "execution_count": 68,
     "metadata": {},
     "output_type": "execute_result"
    }
   ],
   "source": [
    "def add(li):\n",
    "    return sum(li)\n",
    "\n",
    "\n",
    "\n",
    "x = [1,2,5,8,6,8]\n",
    "add(x)"
   ]
  },
  {
   "cell_type": "code",
   "execution_count": 69,
   "id": "36f64c51-00e3-4548-b1f8-18c6b7612a25",
   "metadata": {},
   "outputs": [
    {
     "data": {
      "text/plain": [
       "8"
      ]
     },
     "execution_count": 69,
     "metadata": {},
     "output_type": "execute_result"
    }
   ],
   "source": [
    "x = [1,2,5,8,6,8]\n",
    "max(x)"
   ]
  },
  {
   "cell_type": "code",
   "execution_count": 70,
   "id": "e7ee6ad2-bd66-42a4-8de5-702bd20fa9b2",
   "metadata": {},
   "outputs": [
    {
     "data": {
      "text/plain": [
       "1"
      ]
     },
     "execution_count": 70,
     "metadata": {},
     "output_type": "execute_result"
    }
   ],
   "source": [
    "min(x)"
   ]
  },
  {
   "cell_type": "code",
   "execution_count": 71,
   "id": "652d7385-80f4-4d37-8bd9-13c7be88ff77",
   "metadata": {},
   "outputs": [
    {
     "data": {
      "text/plain": [
       "8"
      ]
     },
     "execution_count": 71,
     "metadata": {},
     "output_type": "execute_result"
    }
   ],
   "source": [
    "def add(li):\n",
    "    return max(li)\n",
    "\n",
    "\n",
    "\n",
    "x = [1,2,5,8,6,8]\n",
    "add(x)"
   ]
  },
  {
   "cell_type": "code",
   "execution_count": 72,
   "id": "35c3201b-aec2-4a6c-bf89-de43bc8ce76c",
   "metadata": {},
   "outputs": [
    {
     "name": "stdout",
     "output_type": "stream",
     "text": [
      "8\n"
     ]
    }
   ],
   "source": [
    "maxi = x[0]\n",
    "\n",
    "for i in x:\n",
    "    if i > maxi:\n",
    "        maxi = i\n",
    "print(maxi)"
   ]
  },
  {
   "cell_type": "code",
   "execution_count": 73,
   "id": "c931ff04-7e6f-4fd3-a21c-5ba80eb881d8",
   "metadata": {},
   "outputs": [
    {
     "name": "stdout",
     "output_type": "stream",
     "text": [
      "8\n"
     ]
    }
   ],
   "source": [
    "def add(li):\n",
    "    maxi = x[0]\n",
    "\n",
    "    for i in x:\n",
    "        if i > maxi:\n",
    "            maxi = i\n",
    "    print(maxi)\n",
    "    \n",
    "\n",
    "\n",
    "\n",
    "x = [1,2,5,8,6,8]\n",
    "add(x)"
   ]
  },
  {
   "cell_type": "code",
   "execution_count": 77,
   "id": "2616d6f0-ca47-42e0-a2aa-aa7797254d04",
   "metadata": {},
   "outputs": [
    {
     "data": {
      "text/plain": [
       "2"
      ]
     },
     "execution_count": 77,
     "metadata": {},
     "output_type": "execute_result"
    }
   ],
   "source": [
    "x = [1,2,5,8,6,8,5,5]\n",
    "x.count(8)"
   ]
  },
  {
   "cell_type": "markdown",
   "id": "57158a77-8ed8-4930-9886-d9f8b9851e71",
   "metadata": {},
   "source": [
    "# Do for min value"
   ]
  },
  {
   "cell_type": "code",
   "execution_count": 78,
   "id": "f2513318-173e-4c6e-8b83-b4d86c268e85",
   "metadata": {},
   "outputs": [
    {
     "name": "stdout",
     "output_type": "stream",
     "text": [
      "3\n"
     ]
    }
   ],
   "source": [
    "count = 0\n",
    "for i in x:\n",
    "    if i == 5:\n",
    "        count += 1\n",
    "print(count)"
   ]
  },
  {
   "cell_type": "markdown",
   "id": "269c94ac-b62b-498a-8e3f-5ebb3d8b8647",
   "metadata": {},
   "source": [
    "# do it with defining function"
   ]
  },
  {
   "cell_type": "code",
   "execution_count": 79,
   "id": "f2fd6e70-3a94-46f2-8696-2e41955bbc86",
   "metadata": {},
   "outputs": [
    {
     "data": {
      "text/plain": [
       "[8, 6, 8, 5, 2, 1]"
      ]
     },
     "execution_count": 79,
     "metadata": {},
     "output_type": "execute_result"
    }
   ],
   "source": [
    "x = [1,2,5,8,6,8]\n",
    "x[::-1]"
   ]
  },
  {
   "cell_type": "code",
   "execution_count": 81,
   "id": "192b9abc-d9dc-4b68-a674-4bda80b85c59",
   "metadata": {},
   "outputs": [
    {
     "data": {
      "text/plain": [
       "([8], [1, 2, 5, 8, 6])"
      ]
     },
     "execution_count": 81,
     "metadata": {},
     "output_type": "execute_result"
    }
   ],
   "source": [
    "def re_dup(li):\n",
    "    dep= []\n",
    "    num= []\n",
    "    for i in li:\n",
    "        if i not in num:\n",
    "            num.append(i)\n",
    "        else:\n",
    "            dep.append(i)\n",
    "    return dep, num\n",
    "x = [1,2,5,8,6,8]\n",
    "re_dup(x)  "
   ]
  },
  {
   "cell_type": "code",
   "execution_count": 82,
   "id": "ec3f9715-632b-49c8-9452-970408e36787",
   "metadata": {},
   "outputs": [],
   "source": [
    "# even and odd do it "
   ]
  },
  {
   "cell_type": "code",
   "execution_count": 83,
   "id": "97d3c2a9-3573-4165-bc56-0118bdb089b9",
   "metadata": {},
   "outputs": [
    {
     "data": {
      "text/plain": [
       "['arwei', 'mfrewl', 'mkrffsd', 'dlwrdev', 'pwersefy']"
      ]
     },
     "execution_count": 83,
     "metadata": {},
     "output_type": "execute_result"
    }
   ],
   "source": [
    "def sort_by_le(li):\n",
    "    return sorted(li, key= len)\n",
    "\n",
    "st = ['mkrffsd','mfrewl','dlwrdev','arwei','pwersefy']\n",
    "sort_by_le(st)"
   ]
  },
  {
   "cell_type": "code",
   "execution_count": 85,
   "id": "c0161ea7-42fe-4373-bdf3-998cfdac7f95",
   "metadata": {},
   "outputs": [
    {
     "name": "stdout",
     "output_type": "stream",
     "text": [
      "True\n",
      "False\n"
     ]
    }
   ],
   "source": [
    "def plain(li):\n",
    "    return li == li[::-1]\n",
    "\n",
    "\n",
    "\n",
    "a =[1,2,3,2,1]\n",
    "x = [1,2,5,8,6,8]\n",
    "print(plain(a))\n",
    "print(plain(x))"
   ]
  },
  {
   "cell_type": "code",
   "execution_count": 87,
   "id": "fca47226-aad1-4ea7-a534-5135544bcf2e",
   "metadata": {},
   "outputs": [
    {
     "name": "stdin",
     "output_type": "stream",
     "text": [
      " 1\n"
     ]
    },
    {
     "data": {
      "text/plain": [
       "1"
      ]
     },
     "execution_count": 87,
     "metadata": {},
     "output_type": "execute_result"
    }
   ],
   "source": [
    "n = int(input())\n",
    "n"
   ]
  },
  {
   "cell_type": "code",
   "execution_count": 89,
   "id": "95799d16-4c77-4260-a235-1a64d418dc82",
   "metadata": {},
   "outputs": [
    {
     "name": "stdin",
     "output_type": "stream",
     "text": [
      "enter valid number 2\n"
     ]
    },
    {
     "name": "stdout",
     "output_type": "stream",
     "text": [
      "2\n"
     ]
    },
    {
     "name": "stdin",
     "output_type": "stream",
     "text": [
      "enter valid number 3\n"
     ]
    },
    {
     "name": "stdout",
     "output_type": "stream",
     "text": [
      "3\n"
     ]
    },
    {
     "name": "stdin",
     "output_type": "stream",
     "text": [
      "enter valid number 5\n"
     ]
    },
    {
     "name": "stdout",
     "output_type": "stream",
     "text": [
      "5\n"
     ]
    },
    {
     "name": "stdin",
     "output_type": "stream",
     "text": [
      "enter valid number 8\n"
     ]
    },
    {
     "name": "stdout",
     "output_type": "stream",
     "text": [
      "8\n"
     ]
    },
    {
     "name": "stdin",
     "output_type": "stream",
     "text": [
      "enter valid number 6\n"
     ]
    },
    {
     "name": "stdout",
     "output_type": "stream",
     "text": [
      "6\n"
     ]
    }
   ],
   "source": [
    "for i in range(5):\n",
    "    user_input= int(input('enter valid number'))\n",
    "    print(user_input)"
   ]
  },
  {
   "cell_type": "code",
   "execution_count": 92,
   "id": "6d720b94-a331-404e-9f37-9e0ccf262600",
   "metadata": {},
   "outputs": [
    {
     "name": "stdin",
     "output_type": "stream",
     "text": [
      "enter valid number 1\n",
      "enter valid number sajib\n",
      "enter valid number 5\n",
      "enter valid number 20.0\n",
      "enter valid number Ture\n"
     ]
    },
    {
     "name": "stdout",
     "output_type": "stream",
     "text": [
      "['1', 'sajib', '5', '20.0', 'Ture']\n"
     ]
    }
   ],
   "source": [
    "li = []\n",
    "for i in range(5):\n",
    "    user_input= input('enter valid number')\n",
    "    li.append(user_input)\n",
    "print(li)"
   ]
  },
  {
   "cell_type": "code",
   "execution_count": 94,
   "id": "8edda97d-c083-42b4-a61f-5b8f4a4327ad",
   "metadata": {},
   "outputs": [
    {
     "name": "stdin",
     "output_type": "stream",
     "text": [
      "give the number of item you wants to add::-- 3\n",
      "enter the item 2\n",
      "enter the item 6\n",
      "enter the item 8\n"
     ]
    },
    {
     "name": "stdout",
     "output_type": "stream",
     "text": [
      "['2', '6', '8']\n"
     ]
    }
   ],
   "source": [
    "new = []\n",
    "n = int(input('give the number of item you wants to add::--'))\n",
    "for i in range(n):\n",
    "    user = input(\"enter the item\")\n",
    "    new.append(user)\n",
    "print(new)"
   ]
  },
  {
   "cell_type": "code",
   "execution_count": 97,
   "id": "c0041c55-0075-45a7-a0a2-bde80bd053de",
   "metadata": {},
   "outputs": [
    {
     "name": "stdin",
     "output_type": "stream",
     "text": [
      " 6\n"
     ]
    },
    {
     "name": "stdout",
     "output_type": "stream",
     "text": [
      "0\n",
      "1\n",
      "2\n",
      "3\n",
      "4\n",
      "5\n"
     ]
    }
   ],
   "source": [
    "n = int(input())\n",
    "for i in range(n):\n",
    "    print(i)"
   ]
  },
  {
   "cell_type": "markdown",
   "id": "3d1820c0-c597-433d-8fa1-b9164ee94bf4",
   "metadata": {},
   "source": [
    "# list comprehension"
   ]
  },
  {
   "cell_type": "code",
   "execution_count": 99,
   "id": "b211190d-f34a-4e2b-ae68-98eaf5cd307b",
   "metadata": {},
   "outputs": [
    {
     "name": "stdout",
     "output_type": "stream",
     "text": [
      "0 1 4 9 16 25 36 49 64 81 "
     ]
    }
   ],
   "source": [
    "for i in range(10):\n",
    "    i = i*i\n",
    "    print(i, end= \" \")"
   ]
  },
  {
   "cell_type": "code",
   "execution_count": 100,
   "id": "123ef67c-e9f4-444c-bce5-4f697d3b0556",
   "metadata": {},
   "outputs": [
    {
     "data": {
      "text/plain": [
       "[0, 1, 4, 9, 16, 25, 36, 49, 64, 81]"
      ]
     },
     "execution_count": 100,
     "metadata": {},
     "output_type": "execute_result"
    }
   ],
   "source": [
    "a = [i*i for i in range(10)]\n",
    "a"
   ]
  },
  {
   "cell_type": "code",
   "execution_count": 104,
   "id": "02d1d418-e7ad-42fe-a0cc-fb9aa369fd95",
   "metadata": {},
   "outputs": [
    {
     "name": "stdin",
     "output_type": "stream",
     "text": [
      "enter a valid number 2\n",
      "enter a valid number 3\n",
      "enter a valid number 5\n"
     ]
    },
    {
     "data": {
      "text/plain": [
       "[2, 3, 5]"
      ]
     },
     "execution_count": 104,
     "metadata": {},
     "output_type": "execute_result"
    }
   ],
   "source": [
    "'''\n",
    "n = int(input())\n",
    "for i in range(n):\n",
    "    print(i)\n",
    "    '''\n",
    "\n",
    "b = []\n",
    "b.extend([int(input(\"enter a valid number\")) for i in range(3)])\n",
    "b"
   ]
  },
  {
   "cell_type": "code",
   "execution_count": 105,
   "id": "94413728-9b18-43c2-978e-b27b79efaa95",
   "metadata": {},
   "outputs": [
    {
     "data": {
      "text/plain": [
       "[2, 4, 6]"
      ]
     },
     "execution_count": 105,
     "metadata": {},
     "output_type": "execute_result"
    }
   ],
   "source": [
    "def eve(li):\n",
    "   \n",
    "    new= []\n",
    "    for i in li:\n",
    "        if i % 2 == 0:\n",
    "            new.append(i)\n",
    "    return new\n",
    "numbers = [1, 2, 3, 4, 5, 6, 7]\n",
    "eve(numbers)"
   ]
  },
  {
   "cell_type": "code",
   "execution_count": 106,
   "id": "0b406e3c-8600-4957-9e23-a92c52d60ec8",
   "metadata": {},
   "outputs": [
    {
     "data": {
      "text/plain": [
       "[2, 4, 6]"
      ]
     },
     "execution_count": 106,
     "metadata": {},
     "output_type": "execute_result"
    }
   ],
   "source": [
    "li = [1, 2, 3, 4, 5, 6, 7]\n",
    "even = [i for i in li  if i % 2 == 0]\n",
    "even"
   ]
  },
  {
   "cell_type": "code",
   "execution_count": 107,
   "id": "16ba0d63-3205-4f4d-b076-ad2e220f30f1",
   "metadata": {},
   "outputs": [],
   "source": [
    "# numbers = [1, 2, 3, 4, 5, 6, 7, 8, 9] if items are even and items greater than 5 the print item * item"
   ]
  },
  {
   "cell_type": "code",
   "execution_count": 112,
   "id": "5ed84f0e-ef5c-4d19-acd5-8f0bbee3938e",
   "metadata": {},
   "outputs": [
    {
     "name": "stdout",
     "output_type": "stream",
     "text": [
      "[1, 2, 3, 4, 5, 6]\n"
     ]
    }
   ],
   "source": [
    "nested_list = [[1, 2], [3, 4], [5, 6]]\n",
    "new =[]\n",
    "for sublist in nested_list:\n",
    "    for item in sublist:\n",
    "        new.append(item)\n",
    "    \n",
    "print(new)\n",
    "    "
   ]
  },
  {
   "cell_type": "code",
   "execution_count": 122,
   "id": "ea91bef6-e23e-421c-84e2-c83512662382",
   "metadata": {},
   "outputs": [
    {
     "name": "stdout",
     "output_type": "stream",
     "text": [
      "[1, 2]\n",
      "1\n",
      "2\n",
      "[[3, 4], [5, 6]]\n",
      "[3, 4]\n",
      "3\n",
      "4\n",
      "[5, 6]\n",
      "5\n",
      "6\n"
     ]
    },
    {
     "data": {
      "text/plain": [
       "[1, 2, 3, 4, 5, 6]"
      ]
     },
     "execution_count": 122,
     "metadata": {},
     "output_type": "execute_result"
    }
   ],
   "source": [
    "nested_lis = [[1, 2], [[3, 4], [5, 6]]]\n",
    "\n",
    "def flatten(li):\n",
    "    new =[]\n",
    "    for sublist in li:\n",
    "        #print(sublist)\n",
    "        if isinstance(sublist,list):\n",
    "            new.extend(flatten(sublist))\n",
    "        else:\n",
    "            new.append(sublist)\n",
    "    return new\n",
    "    \n",
    "\n",
    "flatten(nested_lis)"
   ]
  },
  {
   "cell_type": "code",
   "execution_count": null,
   "id": "479f7c10-3973-41da-95b6-660408d682d3",
   "metadata": {},
   "outputs": [],
   "source": []
  }
 ],
 "metadata": {
  "kernelspec": {
   "display_name": "Python 3 (ipykernel)",
   "language": "python",
   "name": "python3"
  },
  "language_info": {
   "codemirror_mode": {
    "name": "ipython",
    "version": 3
   },
   "file_extension": ".py",
   "mimetype": "text/x-python",
   "name": "python",
   "nbconvert_exporter": "python",
   "pygments_lexer": "ipython3",
   "version": "3.11.4"
  }
 },
 "nbformat": 4,
 "nbformat_minor": 5
}
