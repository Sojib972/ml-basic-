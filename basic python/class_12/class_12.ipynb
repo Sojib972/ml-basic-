{
 "cells": [
  {
   "cell_type": "code",
   "execution_count": 1,
   "id": "091e0cec-347a-478d-af57-02376a0e3876",
   "metadata": {},
   "outputs": [
    {
     "name": "stdout",
     "output_type": "stream",
     "text": [
      "151\n"
     ]
    }
   ],
   "source": [
    "numList = [2,45,-8,46,43,23]\n",
    "pot = 0\n",
    "for i in numList:\n",
    "    pot = i + pot\n",
    "print(pot)\n",
    "    "
   ]
  },
  {
   "cell_type": "code",
   "execution_count": 5,
   "id": "d83efd4d-3592-4023-9e90-05b3a9e5b819",
   "metadata": {},
   "outputs": [
    {
     "data": {
      "text/plain": [
       "151"
      ]
     },
     "execution_count": 5,
     "metadata": {},
     "output_type": "execute_result"
    }
   ],
   "source": [
    "def add(li):\n",
    "    pot = 0\n",
    "    for i in li:\n",
    "        pot = i + pot\n",
    "    return pot\n",
    "        \n",
    "numList = [2,45,-8,46,43,23]\n",
    "add(numList)"
   ]
  },
  {
   "cell_type": "code",
   "execution_count": 6,
   "id": "ab871477-fefc-41bd-bce8-e4d31554fe61",
   "metadata": {},
   "outputs": [],
   "source": [
    "#problem 2 do by yourself"
   ]
  },
  {
   "cell_type": "code",
   "execution_count": 15,
   "id": "a0399c6c-6566-43c0-a52c-796a1374f39b",
   "metadata": {},
   "outputs": [
    {
     "name": "stdout",
     "output_type": "stream",
     "text": [
      "46\n"
     ]
    }
   ],
   "source": [
    "#problem 3\n",
    "numList\n",
    "maximum = numList[0]\n",
    "#print(maximum)\n",
    "for i in numList:\n",
    "    #print(i)\n",
    "    if i > maximum:\n",
    "        maximum = i\n",
    "print(maximum)"
   ]
  },
  {
   "cell_type": "code",
   "execution_count": 17,
   "id": "a7460955-a2fd-4ebf-9c8b-8afa92929fa3",
   "metadata": {},
   "outputs": [
    {
     "data": {
      "text/plain": [
       "46"
      ]
     },
     "execution_count": 17,
     "metadata": {},
     "output_type": "execute_result"
    }
   ],
   "source": [
    "def maximun(li):\n",
    "    maximum = numList[0]\n",
    "#print(maximum)\n",
    "    for i in li:\n",
    "    #print(i)\n",
    "        if i > maximum:\n",
    "            maximum = i\n",
    "    return maximum\n",
    "\n",
    "maximun(numList)"
   ]
  },
  {
   "cell_type": "code",
   "execution_count": 18,
   "id": "10e4593e-78c9-4d41-98cf-60d800f2ad1a",
   "metadata": {},
   "outputs": [],
   "source": [
    "# problem 4 find out smallest number "
   ]
  },
  {
   "cell_type": "code",
   "execution_count": 25,
   "id": "610d8ca3-2f11-43fc-b24f-2427d353f670",
   "metadata": {},
   "outputs": [
    {
     "name": "stdout",
     "output_type": "stream",
     "text": [
      "2\n",
      "['aba', '1221']\n"
     ]
    }
   ],
   "source": [
    "Sample_List = ['abc', 'xyz', 'aba', '1221','1']\n",
    "count = 0\n",
    "words = []\n",
    "for word in Sample_List:\n",
    "    #print(word)\n",
    "    if len(word) > 1 and word[0] == word[-1]:\n",
    "        words.append(word)\n",
    "        count += 1\n",
    "print(count)\n",
    "print(words)"
   ]
  },
  {
   "cell_type": "code",
   "execution_count": 26,
   "id": "889b873a-1b25-4cd8-85eb-0160e052fb23",
   "metadata": {},
   "outputs": [
    {
     "name": "stdout",
     "output_type": "stream",
     "text": [
      "2\n",
      "['aba', '1221']\n"
     ]
    }
   ],
   "source": [
    "def similar(Sample_List):\n",
    "    count = 0\n",
    "    words = []\n",
    "    for word in Sample_List:\n",
    "    #print(word)\n",
    "        if len(word) > 1 and word[0] == word[-1]:\n",
    "            words.append(word)\n",
    "            count += 1\n",
    "    print(count)\n",
    "    print(words)\n",
    "\n",
    "Sample_List = ['abc', 'xyz', 'aba', '1221','1']\n",
    "similar(Sample_List)"
   ]
  },
  {
   "cell_type": "code",
   "execution_count": 27,
   "id": "e40c7de8-e72b-4d8f-81b0-24e4d66d0304",
   "metadata": {},
   "outputs": [
    {
     "name": "stdout",
     "output_type": "stream",
     "text": [
      "3\n",
      "['aba', '1221', '1bfbf1']\n"
     ]
    }
   ],
   "source": [
    "Sample_List = ['abc', 'xyz', 'aba', '1221','1','1bfbf1']\n",
    "similar(Sample_List)"
   ]
  },
  {
   "cell_type": "code",
   "execution_count": 34,
   "id": "3afeecbc-973e-4625-ac5d-07a942b61bbe",
   "metadata": {},
   "outputs": [],
   "source": [
    "li = [(2, 5), (1, 2), (4, 4), (2, 3), (2, 1)]\n",
    "\n",
    "li1 = []\n",
    "for item in li:\n",
    "    #print(a)\n",
    "    for i in range(len(li1)):\n",
    "        #print(i)\n",
    "        if item[1]< li1[i][1]:\n",
    "            li1.insert(i,item)\n",
    "            break\n",
    "    else:\n",
    "        li1.append(item)\n",
    "print(li1)"
   ]
  },
  {
   "cell_type": "code",
   "execution_count": 14,
   "id": "37d8c420",
   "metadata": {},
   "outputs": [
    {
     "name": "stdout",
     "output_type": "stream",
     "text": [
      "[(2, 1), (1, 2), (2, 3), (4, 4), (2, 5)]\n"
     ]
    }
   ],
   "source": [
    "li = [(2, 5), (1, 2), (4, 4), (2, 3), (2, 1)]\n",
    "li1 = []\n",
    "for i in li:\n",
    "    #print(i)\n",
    "    for item in range(len(li1)):\n",
    "        if i[1] < li1[item][1]:\n",
    "            li1.insert(item,i)\n",
    "            break\n",
    "\n",
    "\n",
    "    else:\n",
    "        li1.append(i)\n",
    "print(li1)"
   ]
  },
  {
   "cell_type": "code",
   "execution_count": 47,
   "id": "3f80241f-f6cf-42ac-9410-59e95f7a4fc6",
   "metadata": {},
   "outputs": [
    {
     "name": "stdout",
     "output_type": "stream",
     "text": [
      "[46, 45, 43, 23, 2, 45, -8, -8, -8, -8, 46, 43, 43, 43, 23, 23, 23, 23]\n"
     ]
    }
   ],
   "source": [
    "numList = [2,45,-8,46,43,23]\n",
    "#problem 3\n",
    "maximum =[]\n",
    "for item in numList:\n",
    "    #print(a)\n",
    "    for i in range(len(maximum)):\n",
    "        #print(i)\n",
    "        if item > maximum[i]:\n",
    "            maximum.insert(i,item)\n",
    "            break\n",
    "    else:\n",
    "        maximum.append(item)\n",
    "    \n",
    "print(maximum)\n",
    "        \n",
    "    "
   ]
  },
  {
   "cell_type": "code",
   "execution_count": 49,
   "id": "b2695bdf-dc01-460e-bb70-932a42ddda43",
   "metadata": {},
   "outputs": [
    {
     "data": {
      "text/plain": [
       "[40, 10, 80, 50, 20, 60, 30]"
      ]
     },
     "execution_count": 49,
     "metadata": {},
     "output_type": "execute_result"
    }
   ],
   "source": [
    "li = [10, 20, 30, 20, 10, 50, 60, 40, 80, 50, 40]\n",
    "new = set(li)\n",
    "new1 = list(new)\n",
    "new1"
   ]
  },
  {
   "cell_type": "code",
   "execution_count": 51,
   "id": "d30d9c45-47f5-4517-a318-68c5d1f69766",
   "metadata": {},
   "outputs": [
    {
     "name": "stdout",
     "output_type": "stream",
     "text": [
      "[10, 20, 30, 50, 60, 40, 80]\n"
     ]
    }
   ],
   "source": [
    "unique= []\n",
    "for i in li:\n",
    "    if i not in unique:\n",
    "        unique.append(i)\n",
    "    else:\n",
    "        unique = unique\n",
    "print(unique)"
   ]
  },
  {
   "cell_type": "code",
   "execution_count": 53,
   "id": "ba2aeff6-24e8-4fa9-ba90-3e4f6152aeab",
   "metadata": {},
   "outputs": [
    {
     "name": "stdout",
     "output_type": "stream",
     "text": [
      "[10, 20, 30, 50, 60, 40, 80]\n"
     ]
    }
   ],
   "source": [
    "def unique(li):\n",
    "    unique= []\n",
    "    for i in li:\n",
    "        if i not in unique:\n",
    "            unique.append(i)\n",
    "        else:\n",
    "            unique = unique\n",
    "    print(unique)\n",
    "unique(li)"
   ]
  },
  {
   "cell_type": "code",
   "execution_count": 58,
   "id": "5d24087a-2f55-4d34-96e9-4931c7e972ea",
   "metadata": {},
   "outputs": [
    {
     "name": "stdout",
     "output_type": "stream",
     "text": [
      "not empty\n"
     ]
    }
   ],
   "source": [
    "l = [1,25,5]\n",
    "li = []\n",
    "if len(l) < 1:\n",
    "    print('empty')\n",
    "else:\n",
    "    print('not empty')\n",
    "          "
   ]
  },
  {
   "cell_type": "code",
   "execution_count": 59,
   "id": "2002c82e-d1d0-4834-9c55-a9c17770e50b",
   "metadata": {},
   "outputs": [],
   "source": [
    "# problem 9 clone and copy "
   ]
  },
  {
   "cell_type": "code",
   "execution_count": 65,
   "id": "2481ad2c-d361-4c8b-a6fd-c4865674908b",
   "metadata": {},
   "outputs": [
    {
     "name": "stdout",
     "output_type": "stream",
     "text": [
      "['quick', 'brown', 'jump', 'over', 'lazy'] 5\n"
     ]
    }
   ],
   "source": [
    "li = \"A quick brown fox jump over a lazy dog\"\n",
    "n = 3\n",
    "new_word= []\n",
    "count= 0\n",
    "word = li.split()\n",
    "#print(word)\n",
    "for words in word:\n",
    "    #print(i)\n",
    "    if len(words) > n:\n",
    "        new_word.append(words)\n",
    "        count += 1\n",
    "print(new_word,count)"
   ]
  },
  {
   "cell_type": "code",
   "execution_count": 69,
   "id": "768355ed-0cee-422d-b422-666bb9887ccc",
   "metadata": {},
   "outputs": [
    {
     "name": "stdout",
     "output_type": "stream",
     "text": [
      "false\n",
      "false\n",
      "false\n",
      "false\n"
     ]
    }
   ],
   "source": [
    "li = [2,4,6,8,3,7]\n",
    "li1 = [1,3,5,7,9]\n",
    "dup= [] # \n",
    "for i in li:\n",
    "    if i in li1:\n",
    "        print(\"True\")\n",
    "    else:\n",
    "        print(\"false\")"
   ]
  },
  {
   "cell_type": "code",
   "execution_count": 70,
   "id": "a355677b-f478-41cc-82a4-5019f29b20cb",
   "metadata": {},
   "outputs": [],
   "source": [
    "#problem 12  do by yourself"
   ]
  },
  {
   "cell_type": "code",
   "execution_count": 71,
   "id": "fb49015d-daa6-4603-a569-9becf63ac045",
   "metadata": {},
   "outputs": [
    {
     "data": {
      "text/plain": [
       "[2, 4, 6, 8, 3, 7]"
      ]
     },
     "execution_count": 71,
     "metadata": {},
     "output_type": "execute_result"
    }
   ],
   "source": [
    "#15. Write a Python program to shuffle and print a specified list.\n",
    "li = [2,4,6,8,3,7]\n",
    "li"
   ]
  },
  {
   "cell_type": "code",
   "execution_count": null,
   "id": "45844697-97e1-4173-87ab-98dc1e575dd6",
   "metadata": {},
   "outputs": [],
   "source": []
  },
  {
   "cell_type": "code",
   "execution_count": 85,
   "id": "923355a9-2aed-49db-b494-43ecabecec05",
   "metadata": {},
   "outputs": [],
   "source": [
    "from random import shuffle\n",
    "shuffle(li)"
   ]
  },
  {
   "cell_type": "code",
   "execution_count": 86,
   "id": "b82b165a-40aa-40f5-add6-0ff3e54d794f",
   "metadata": {},
   "outputs": [
    {
     "data": {
      "text/plain": [
       "[8, 6, 4, 2, 7, 3]"
      ]
     },
     "execution_count": 86,
     "metadata": {},
     "output_type": "execute_result"
    }
   ],
   "source": [
    "li"
   ]
  },
  {
   "cell_type": "code",
   "execution_count": 77,
   "id": "262a2abd-7622-4b70-be75-fc53993025cf",
   "metadata": {},
   "outputs": [],
   "source": [
    "import random"
   ]
  },
  {
   "cell_type": "code",
   "execution_count": 78,
   "id": "5a1c2aa3-d532-4acd-9071-cc98b5f10579",
   "metadata": {},
   "outputs": [
    {
     "data": {
      "text/plain": [
       "3"
      ]
     },
     "execution_count": 78,
     "metadata": {},
     "output_type": "execute_result"
    }
   ],
   "source": [
    "random.choice(li)"
   ]
  },
  {
   "cell_type": "code",
   "execution_count": 94,
   "id": "cc5afcc0-e4ec-4d57-96bc-b4fe1a3cbf0a",
   "metadata": {},
   "outputs": [
    {
     "name": "stdout",
     "output_type": "stream",
     "text": [
      "[1, 4, 9, 16, 25]\n",
      "[676, 729, 784, 841, 900]\n",
      "[81, 100, 121, 144]\n"
     ]
    }
   ],
   "source": [
    "#16. Write a Python program to generate and print a list of the first and last 5 elements \n",
    "#where the values are square numbers between 1 and 30 (both included).\n",
    "l = []\n",
    "for i in range(1,31):\n",
    "    l.append(i**2)\n",
    "    \n",
    "print(l[: 5])\n",
    "print(l[-5 :])\n",
    "print(l[ 8:12 ])"
   ]
  },
  {
   "cell_type": "code",
   "execution_count": 96,
   "id": "af8767b9-fbd3-438c-9f64-7a2fbae1431c",
   "metadata": {},
   "outputs": [
    {
     "name": "stdout",
     "output_type": "stream",
     "text": [
      "[(1, 2, 3), (1, 3, 2), (2, 1, 3), (2, 3, 1), (3, 1, 2), (3, 2, 1)]\n"
     ]
    }
   ],
   "source": [
    "li = [1,2,3]\n",
    "import itertools\n",
    "print(list(itertools.permutations(li)))"
   ]
  },
  {
   "cell_type": "code",
   "execution_count": 98,
   "id": "9a2b9f82-3b9e-4ae9-94f4-a243b1b5ac40",
   "metadata": {},
   "outputs": [
    {
     "data": {
      "text/plain": [
       "[16, 1, 4, 25]"
      ]
     },
     "execution_count": 98,
     "metadata": {},
     "output_type": "execute_result"
    }
   ],
   "source": [
    "li = [1, 4, 9, 16, 25]\n",
    "li1 = [676, 729, 784, 841, 900,9]\n",
    "\n",
    "li2= list(set(li) - set(li1))\n",
    "li2"
   ]
  },
  {
   "cell_type": "code",
   "execution_count": 102,
   "id": "7f5479b6-5411-4d9e-af9d-0472a01c992f",
   "metadata": {},
   "outputs": [
    {
     "name": "stdout",
     "output_type": "stream",
     "text": [
      "676 0\n",
      "729 1\n",
      "784 2\n",
      "841 3\n",
      "900 4\n",
      "9 5\n"
     ]
    }
   ],
   "source": [
    "li1 = [676, 729, 784, 841, 900,9]\n",
    "for index,value in enumerate(li1):\n",
    "    print(value,index)\n",
    "\n"
   ]
  },
  {
   "cell_type": "code",
   "execution_count": 104,
   "id": "f5d8723f-9c6f-42be-b5a7-8a203024480f",
   "metadata": {},
   "outputs": [
    {
     "data": {
      "text/plain": [
       "729"
      ]
     },
     "execution_count": 104,
     "metadata": {},
     "output_type": "execute_result"
    }
   ],
   "source": [
    "li1[1]"
   ]
  },
  {
   "cell_type": "code",
   "execution_count": null,
   "id": "d0327398-faf7-4570-8592-171aa0b3db4b",
   "metadata": {},
   "outputs": [],
   "source": []
  }
 ],
 "metadata": {
  "kernelspec": {
   "display_name": "Python 3",
   "language": "python",
   "name": "python3"
  },
  "language_info": {
   "codemirror_mode": {
    "name": "ipython",
    "version": 3
   },
   "file_extension": ".py",
   "mimetype": "text/x-python",
   "name": "python",
   "nbconvert_exporter": "python",
   "pygments_lexer": "ipython3",
   "version": "3.11.4"
  }
 },
 "nbformat": 4,
 "nbformat_minor": 5
}
